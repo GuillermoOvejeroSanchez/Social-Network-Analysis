{
 "cells": [
  {
   "cell_type": "code",
   "execution_count": 1,
   "metadata": {},
   "outputs": [
    {
     "name": "stdout",
     "output_type": "stream",
     "text": [
      "              Actor                                             Movies\n",
      "0       Karen Allen  Malcolm X|National Lampoon's Animal House|Starman\n",
      "1        Taye Diggs  House on Haunted Hill|Go|Basic|Chicago|Equilib...\n",
      "2    Michael Murphy  Salvador|Cloak & Dagger|Nashville|Salvador|Man...\n",
      "3      Les Tremayne        The War of the Worlds|The War of the Worlds\n",
      "4  Bridgette Wilson          Mortal Kombat|Nixon|House on Haunted Hill\n"
     ]
    }
   ],
   "source": [
    "import networkx as nx\n",
    "import numpy as np\n",
    "import matplotlib.pyplot as plt\n",
    "import pandas as pd\n",
    "import os\n",
    "\n",
    "SOC_URL = \"./actorMovies.csv\"\n",
    "actorMovies = pd.read_csv(SOC_URL, sep=\";\")\n",
    "print(actorMovies.head())\n",
    "#Get all actors and movies in a np array\n",
    "actors = actorMovies[\"Actor\"]\n",
    "movies = actorMovies[\"Movies\"]\n",
    "\n",
    "#Iterate over each actor and split movies\n",
    "for i in range(actorMovies.count()[0]):\n",
    "    movies[i] = movies[i].split(\"|\")"
   ]
  },
  {
   "cell_type": "code",
   "execution_count": 2,
   "metadata": {},
   "outputs": [
    {
     "name": "stdout",
     "output_type": "stream",
     "text": [
      "Different movies: 1896\n"
     ]
    }
   ],
   "source": [
    "total = 0\n",
    "movies_set = []\n",
    "\n",
    "for ID in range(len(actors)):\n",
    "    for j in range(len(movies[ID])):\n",
    "        movies_set.append(movies[ID][j])\n",
    "    total += len(movies[ID])\n",
    "movies_set=np.unique(movies_set) #Make a set do not contains duplicates of different movies\n",
    "print(\"Different movies:\",len(movies_set))"
   ]
  },
  {
   "cell_type": "code",
   "execution_count": 3,
   "metadata": {},
   "outputs": [
    {
     "name": "stdout",
     "output_type": "stream",
     "text": [
      "--- 1.082409381866455 seconds ---\n",
      "Nº Edges: 13097\n"
     ]
    }
   ],
   "source": [
    "#NetworkX Procesing\n",
    "import networkx as nx\n",
    "import time\n",
    "import timeit\n",
    "G = nx.MultiGraph() #Allows duplicate edges (1,2) and (2,1) -> add both\n",
    "#G = nx.Graph() #Doesn't allow duplicate edges (1,2) and (2,1) -> add last\n",
    "\n",
    "#Added Nodes -> Films\n",
    "G.add_nodes_from(movies_set[:])\n",
    "\n",
    "\n",
    "\n",
    "#Add Edges, pairs (film,film)\n",
    "def add_all_edges():\n",
    "    for i in range(len(movies)):\n",
    "        for j in range(len(movies[i])-1):\n",
    "        #Dont go over the full list -> quicker\n",
    "        #why? -> last element connected in previous iter\n",
    "            for k in range(len(movies[i])):\n",
    "                if(j >= k): #Dont add equal edges or already added\n",
    "                    str1 = movies[i][j]\n",
    "                    str2 = movies[i][k]\n",
    "                    if(str1 != str2): #Some actors has duplicated movies\n",
    "                        G.add_edge(str1,str2)\n",
    "\n",
    "start_time = time.time() #Compute time of execution\n",
    "add_all_edges()\n",
    "print(\"--- %s seconds ---\" % (time.time() - start_time))\n",
    "print(\"Nº Edges:\",G.number_of_edges())\n"
   ]
  },
  {
   "cell_type": "code",
   "execution_count": 4,
   "metadata": {},
   "outputs": [],
   "source": [
    "#Print Graph & Save\n",
    "nx.write_gml(G, \"graph.gml\")"
   ]
  }
 ],
 "metadata": {
  "kernelspec": {
   "display_name": "Python 3",
   "language": "python",
   "name": "python3"
  },
  "language_info": {
   "codemirror_mode": {
    "name": "ipython",
    "version": 3
   },
   "file_extension": ".py",
   "mimetype": "text/x-python",
   "name": "python",
   "nbconvert_exporter": "python",
   "pygments_lexer": "ipython3",
   "version": "3.7.3"
  }
 },
 "nbformat": 4,
 "nbformat_minor": 2
}
