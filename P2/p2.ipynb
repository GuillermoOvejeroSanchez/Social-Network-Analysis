{
 "cells": [
  {
   "cell_type": "markdown",
   "metadata": {},
   "source": [
    "## Barabasi - Albert Model\n",
    "\n",
    "## Erdos - Renyi Model\n",
    "Para calcular la probabilidad ${\\displaystyle P(k)}$ (distribución de grado) de que un nodo tenga k conexiones en la red aleatoria generada con el modelo Erdös–Rényi, primero se intenta calcular la probabilidad ${\\displaystyle p_{c}}$  de que una pareja elegida al azar esté enlazada entre sí. Para ello se calcula el número total de posibles parejas en una red de N nodos, a ese número total lo denominamos ${\\displaystyle N_{p}}$ y su expresión es:\n",
    "\n",
    "\n",
    "   $ {\\displaystyle N_{p}={\\dbinom {N}{2}}={\\frac {N(N-1)}{2}}}$\n",
    "\n",
    "\n",
    "como el número de parejas enlazadas por el modelo es M, se tiene por lo tanto la expresión analítica de la probabilidad ${\\displaystyle p_{c}}$ como:\n",
    "\n",
    "   ${\\displaystyle p_{c}={\\frac {M}{N_{p}}}={\\frac {2M}{N(N-1)}}}$\n",
    "\n",
    "si tomamos en la red generada un nodo particular al azar y lo denominamos v j ${\\displaystyle v_{j}} v_{j}$, el número de nodos enlazados a pares que contuvieran a v j ${\\displaystyle v_{j}} v_{j}$ sería N-1, ya que v j ${\\displaystyle v_{j}} v_{j}$ se puede enlazar con exactamente N-1 nodos restantes de la red. Sin embargo en los M enlaces generados, puede que no estuviera v j ${\\displaystyle v_{j}} v_{j}$. Suponemos entonces que estuviera en k de ellas. La probabilidad en este caso de que estuviera v j ${\\displaystyle v_{j}} v_{j}$ contenido en k parejas de las N-1 posibles es:\n",
    "\n",
    "${\\displaystyle P(k)={N-1 \\choose k}(p_{c})^{k}(1-p_{c})^{N-1-k}}$\n",
    "\n",
    "Esta fórmula corresponde a una distribución binomial para M y N de valor finito. Si se tiene en consideración ahora que la red empieza a crecer hasta llegar a valores grandes del número de nodos (N) y de enlaces (M) hasta llegar al punto en que:${\\displaystyle \\textstyle N\\to \\infty }$ y ${\\displaystyle \\textstyle M\\to \\infty }$. De esta forma se tiene que la cantidad:\n",
    "\n",
    " ${\\displaystyle z={\\frac {2M}{N}}}$\n",
    "\n",
    "permanece en valores completamente finitos y la distribución de grado P (k) se convierte en una distribución de Poisson de la forma\n",
    "\n",
    "   ${\\displaystyle P(k)=e^{-z}{\\frac {z^{k}}{k!}}} $\n",
    "   \n",
    "que como se ha mencionado es una distribución de Poisson de promedio en z. En los papers posteriores del año 1960 Erdös y Rényi empezaron a estudiar la dinámica de las redes en crecimiento4​ llegando a estudiar transiciones de fase en las redes en función de p. \n",
    "\n",
    "\n",
    "#### Desarollo de modelos\n",
    "\n",
    "N = 500\n",
    "N = 5000\n",
    "\n",
    "Barabasi-Albert: m=3, m=4\n",
    "\n",
    "\n",
    "Erdos-Renyi:\n",
    "N=500 p=0.01\n",
    "\n",
    "\n",
    "10 diferentes\n",
    "\n",
    "##### Diferentes etapas\n",
    "Subcritica, critica, supercritica y conectada\n"
   ]
  },
  {
   "cell_type": "code",
   "execution_count": 5,
   "metadata": {},
   "outputs": [],
   "source": [
    "import matplotlib.pyplot as plt\n",
    "from networkx import nx\n",
    "\n",
    "n = 500  #nodes\n",
    "N = 5000 #nodes large scale\n",
    "m = 3  #edges\n",
    "p = 0.01 #probability\n",
    "\n",
    "#barabasi albert graphs\n",
    "ba = nx.barabasi_albert_graph(n, m, seed=None) #m < n\n",
    "nx.write_edgelist(ba, \"graphs/barabasi-albert.csv\", delimiter=\",\", data=True)\n",
    "\n",
    "#barabasi albert bigger n = 5000\n",
    "ba = nx.barabasi_albert_graph(N, m, seed=None) #m < n\n",
    "nx.write_edgelist(ba, \"graphs/barabasi-albert-large.csv\", delimiter=\",\", data=True)\n",
    "\n",
    "#random graph\n",
    "#rg = nx.gnm_random_graph(n, m)\n",
    "#nx.write_edgelist(rg, \"random-graph.csv\", delimiter=\",\", data=True)\n",
    "\n",
    "#erdos renyi graphs\n",
    "for i in range(10):\n",
    "    er = nx.erdos_renyi_graph(n, p, seed=None, directed=False)\n",
    "    nx.write_edgelist(er, 'graphs/erdos-renyi-{}.csv'.format(i), delimiter=\",\", data=True)\n"
   ]
  },
  {
   "cell_type": "code",
   "execution_count": 8,
   "metadata": {},
   "outputs": [],
   "source": [
    "print(\"a\")"
   ]
  }
 ],
 "metadata": {
  "kernelspec": {
   "display_name": "Python 3",
   "language": "python",
   "name": "python3"
  },
  "language_info": {
   "codemirror_mode": {
    "name": "ipython",
    "version": 3
   },
   "file_extension": ".py",
   "mimetype": "text/x-python",
   "name": "python",
   "nbconvert_exporter": "python",
   "pygments_lexer": "ipython3",
   "version": "3.7.3"
  }
 },
 "nbformat": 4,
 "nbformat_minor": 2
}