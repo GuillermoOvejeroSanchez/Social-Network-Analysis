{
 "cells": [
  {
   "cell_type": "code",
   "execution_count": 3,
   "metadata": {},
   "outputs": [],
   "source": [
    "import tweepy\n",
    "\n",
    "consumer_key = 'R3BR9t8oDkOz3TTNUl4JBlmH0'\n",
    "consumer_secret = 'LOccYhIDWEkS2aqG9WsoAiBe5tcGtEeuDBFqPcDgAoitM3J1HH'\n",
    "access_token = '201792834-TL9bIuPfoXn4VrKoA53SvhGEpyz2No3VotGrQqCa'\n",
    "access_token_secret = 'NFUF4dIUt1JXl6AW58h6OulnWsOTobob5ttzwtKK9iFiS'\n",
    "\n",
    "auth = tweepy.OAuthHandler(consumer_key, consumer_secret)\n",
    "auth.set_access_token(access_token, access_token_secret)\n",
    "\n",
    "api = tweepy.API(auth)\n",
    "\n",
    "\n",
    "status = api.get_status('937349434668498944')\n",
    "print(status.user.id)\n",
    "\n",
    "user = api.get_user('4219197432')\n",
    "print(user.screen_name)"
   ]
  },
  {
   "cell_type": "code",
   "execution_count": 8,
   "metadata": {},
   "outputs": [
    {
     "ename": "IndentationError",
     "evalue": "unindent does not match any outer indentation level (<tokenize>, line 28)",
     "output_type": "error",
     "traceback": [
      "\u001b[1;36m  File \u001b[1;32m\"<tokenize>\"\u001b[1;36m, line \u001b[1;32m28\u001b[0m\n\u001b[1;33m    for j in i[3]\u001b[0m\n\u001b[1;37m    ^\u001b[0m\n\u001b[1;31mIndentationError\u001b[0m\u001b[1;31m:\u001b[0m unindent does not match any outer indentation level\n"
     ]
    }
   ],
   "source": [
    "import sys\n",
    "import csv\n",
    "\n",
    "count=0\n",
    "maxInt=sys.maxsize\n",
    "while True:\n",
    "    # decrease the maxInt value by factor 10 \n",
    "    # as long as the OverflowError occurs.\n",
    "\n",
    "    try:\n",
    "        csv.field_size_limit(maxInt)\n",
    "        break\n",
    "    except OverflowError:\n",
    "        maxInt = int(maxInt/10)\n",
    "class Usuarios\n",
    "     def __init__(self, id_u, user_u):\n",
    "        self.id_u=id_u\n",
    "        self.user_u = user_u\n",
    "\n",
    "        \n",
    "with open(r'C:\\Users\\carlo\\Escritorio\\Social-Network-Analysis\\Social-Network-Analysis\\FakeNews\\data\\politifact_fake.csv', encoding=\"utf8\")as poli_fake:\n",
    "    entrada=csv.reader(poli_fake)\n",
    "    next(entrada)\n",
    "    for i in entrada:\n",
    "        # nos saltamos los que no tengan tweets\n",
    "        while(len(i[3].split('\\t'))<=1):\n",
    "            i=next(entrada)\n",
    "            \n",
    "        for j in i[3].split('\\t'):            \n",
    "        status = api.get_status(j)\n",
    "        id_user = status.user.id\n",
    "        name = get_user_by_id(id_user).screen_name        \n",
    "        Usuarios.append(Usuario(id_user, name))\n",
    "    \n",
    "poli_fake.close()\n",
    "\n",
    "for i in Usuarios:\n",
    "    \n",
    "    print('ID: ',i.id_u)\n",
    "    print('NOMBRE_USUARIO: ',i.user_u)\n",
    "    print('----------------------------------')\n",
    "    \n",
    "#CREAMOS LOS NODOS\n",
    "with open('USUARIOS_NODOS.csv','w',newline='')as file:\n",
    "    output = csv.writer(file)\n",
    "    output.writerow(['Id','Label'])\n",
    "    for x in Usuarios:\n",
    "        for i in x.tweets_id:\n",
    "            row = [str(count)]\n",
    "            output.writerow(row)\n",
    "            count+=1\n",
    "        \n",
    "file.close()\n",
    "    "
   ]
  },
  {
   "cell_type": "code",
   "execution_count": null,
   "metadata": {},
   "outputs": [],
   "source": []
  }
 ],
 "metadata": {
  "kernelspec": {
   "display_name": "Python 3",
   "language": "python",
   "name": "python3"
  },
  "language_info": {
   "codemirror_mode": {
    "name": "ipython",
    "version": 3
   },
   "file_extension": ".py",
   "mimetype": "text/x-python",
   "name": "python",
   "nbconvert_exporter": "python",
   "pygments_lexer": "ipython3",
   "version": "3.7.3"
  }
 },
 "nbformat": 4,
 "nbformat_minor": 4
}
