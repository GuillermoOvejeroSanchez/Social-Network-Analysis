{
 "cells": [
  {
   "cell_type": "code",
   "execution_count": 2,
   "metadata": {},
   "outputs": [],
   "source": [
    "import numpy as np\n",
    "import pandas as pd"
   ]
  },
  {
   "cell_type": "code",
   "execution_count": 3,
   "metadata": {},
   "outputs": [],
   "source": []
  },
  {
   "cell_type": "code",
   "execution_count": 9,
   "metadata": {},
   "outputs": [
    {
     "data": {
      "text/plain": [
       "{\"[{'code': 144, 'message': 'No status found with that ID.'}]\": 6540,\n",
       " \"[{'code': 179, 'message': 'Sorry, you are not authorized to see this status.'}]\": 2449,\n",
       " \"[{'code': 34, 'message': 'Sorry, that page does not exist.'}]\": 316,\n",
       " \"[{'code': 421, 'message': 'This Tweet is no longer available.'}]\": 1,\n",
       " \"[{'code': 63, 'message': 'User has been suspended.'}]\": 15969}"
      ]
     },
     "execution_count": 9,
     "metadata": {},
     "output_type": "execute_result"
    }
   ],
   "source": [
    "#print(type(log))\n",
    "#logpy = np.asarray(log, dtype=np.str)\n",
    "unique, counts = np.unique(logpy, return_counts=True)\n",
    "dict(zip(unique, counts))"
   ]
  }
 ],
 "metadata": {
  "kernelspec": {
   "display_name": "Python 3",
   "language": "python",
   "name": "python3"
  },
  "language_info": {
   "codemirror_mode": {
    "name": "ipython",
    "version": 3
   },
   "file_extension": ".py",
   "mimetype": "text/x-python",
   "name": "python",
   "nbconvert_exporter": "python",
   "pygments_lexer": "ipython3",
   "version": "3.7.4"
  }
 },
 "nbformat": 4,
 "nbformat_minor": 2
}
