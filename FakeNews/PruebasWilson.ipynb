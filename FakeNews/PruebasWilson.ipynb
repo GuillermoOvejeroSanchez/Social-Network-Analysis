{
 "cells": [
  {
   "cell_type": "code",
   "execution_count": 1,
   "metadata": {},
   "outputs": [
    {
     "name": "stdout",
     "output_type": "stream",
     "text": [
      "4219197432\n",
      "OfeliasHeaven\n"
     ]
    }
   ],
   "source": [
    "import tweepy\n",
    "\n",
    "consumer_key = 'XRtIm1Mnhk3ktpacwMzeGz1V0'\n",
    "consumer_secret = 'kQoQpgLNsgGJ5VBPEqs3II92BvjeriXOdLWAVoeoY84t30TNgE'\n",
    "access_token = '1633497956-vgq9BrDZmihmPPHexldU9oObEchUbhbChonPwYu'\n",
    "access_token_secret = 'mFA16Mz93Iz4WTcoADchemO8lzPC4SB1fgaamWejkohVA'\n",
    "\n",
    "auth = tweepy.OAuthHandler(consumer_key, consumer_secret)\n",
    "auth.set_access_token(access_token, access_token_secret)\n",
    "\n",
    "api = tweepy.API(auth)\n",
    "\n",
    "status = api.get_status('937349434668498944')\n",
    "print(status.user.id)\n",
    "\n",
    "user = api.get_user('4219197432')\n",
    "print(user.screen_name)"
   ]
  },
  {
   "cell_type": "code",
   "execution_count": 2,
   "metadata": {},
   "outputs": [
    {
     "name": "stdout",
     "output_type": "stream",
     "text": [
      "4219197432\n",
      "OfeliasHeaven\n",
      "[404472897, 993614707222294528, 27443191, 16207074, 1172351964107038721, 1179754519623684098, 15659178, 1151825008383148032, 817821570034896897, 1173659675876888576]\n"
     ]
    }
   ],
   "source": [
    "import time\n",
    "\n",
    "def get_tweet_status(tweet_id):\n",
    "    return api.get_status(tweet_id)\n",
    "\n",
    "def get_user_by_id(id):\n",
    "    return api.get_user(id)\n",
    "    \n",
    "\n",
    "def get_followers_page(screen_name):\n",
    "    ids = []\n",
    "    for page in tweepy.Cursor(api.followers_ids, screen_name=\"OfeliasHeaven\").pages():\n",
    "        ids.extend(page)\n",
    "        time.sleep(60)\n",
    "    return ids\n",
    "\n",
    "def get_followers_limited(screen_name, total):\n",
    "    ids = []\n",
    "    for page in tweepy.Cursor(api.followers_ids, screen_name=\"OfeliasHeaven\").items(total):\n",
    "        ids.append(page)\n",
    "    return ids\n",
    "\n",
    "print(get_tweet_status('937349434668498944').user.id)\n",
    "print(get_user_by_id('4219197432').screen_name)\n",
    "print(get_followers_limited('OfeliasHeaven',10))\n"
   ]
  }
 ],
 "metadata": {
  "kernelspec": {
   "display_name": "Python 3",
   "language": "python",
   "name": "python3"
  },
  "language_info": {
   "codemirror_mode": {
    "name": "ipython",
    "version": 3
   },
   "file_extension": ".py",
   "mimetype": "text/x-python",
   "name": "python",
   "nbconvert_exporter": "python",
   "pygments_lexer": "ipython3",
   "version": "3.7.3"
  }
 },
 "nbformat": 4,
 "nbformat_minor": 2
}
