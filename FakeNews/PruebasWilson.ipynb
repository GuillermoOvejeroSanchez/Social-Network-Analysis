{
 "cells": [
  {
   "cell_type": "code",
   "execution_count": 13,
   "metadata": {
    "scrolled": true
   },
   "outputs": [
    {
     "name": "stdout",
     "output_type": "stream",
     "text": [
      "4219197432\n",
      "OfeliasHeaven\n"
     ]
    }
   ],
   "source": [
    "import tweepy\n",
    "import pandas as pd\n",
    "\n",
    "consumer_key = 'XRtIm1Mnhk3ktpacwMzeGz1V0'\n",
    "consumer_secret = 'kQoQpgLNsgGJ5VBPEqs3II92BvjeriXOdLWAVoeoY84t30TNgE'\n",
    "access_token = '1633497956-vgq9BrDZmihmPPHexldU9oObEchUbhbChonPwYu'\n",
    "access_token_secret = 'mFA16Mz93Iz4WTcoADchemO8lzPC4SB1fgaamWejkohVA'\n",
    "\n",
    "auth = tweepy.OAuthHandler(consumer_key, consumer_secret)\n",
    "auth.set_access_token(access_token, access_token_secret)\n",
    "\n",
    "api = tweepy.API(auth)\n",
    "\n",
    "#Comprobar que funciona la api\n",
    "status = api.get_status('937349434668498944')\n",
    "print(status.user.id)\n",
    "user = api.get_user(status.user.id)\n",
    "print(user.screen_name)"
   ]
  },
  {
   "cell_type": "code",
   "execution_count": 14,
   "metadata": {},
   "outputs": [],
   "source": [
    "import time\n",
    "import tweepy\n",
    "import pandas as pd\n",
    "\n",
    "def get_tweet_status(tweet_id):\n",
    "    '''\n",
    "    Devuelve un objeto status con todos los datos de un tweet\n",
    "    '''\n",
    "    return api.get_status(tweet_id)\n",
    "\n",
    "def get_user_by_id(id):\n",
    "    '''\n",
    "    Devuelve un objeto user a traves del id del user\n",
    "    '''\n",
    "    return api.get_user(id)\n",
    "    \n",
    "    \n",
    "def get_screen_name_from_tweet(tweet_id):\n",
    "    try:\n",
    "        status = api.get_status(tweet_id)\n",
    "        user = get_user_by_id(status.user.id)\n",
    "        screen_name = user.screen_name\n",
    "        return screen_name\n",
    "    except tweepy.TweepError as e:\n",
    "        return ('SuspendedAccount')    \n",
    "\n",
    "def get_followers_page(screen_name):\n",
    "    '''\n",
    "    Devuelve los ids de los usuarios que sigue un user, screen_name es el nombre de usuario sin el '@'\n",
    "    ej @NelsonMandela -> NelsonMandela\n",
    "    '''\n",
    "    ids = []\n",
    "    for page in tweepy.Cursor(api.followers_ids, screen_name=\"OfeliasHeaven\").pages():\n",
    "        ids.extend(page)\n",
    "        #time.sleep(60)\n",
    "    return ids\n",
    "\n",
    "def get_followers_limited(screen_name, total):\n",
    "    '''\n",
    "    Devuelve los ids de los usuarios que sigue un user, screen_name es el nombre de usuario sin el '@'\n",
    "    ej @NelsonMandela -> NelsonMandela\n",
    "    Obtiene solo un numero de ids de usuarios indicado en el parametro total\n",
    "    '''\n",
    "    ids = []\n",
    "    for page in tweepy.Cursor(api.followers_ids, screen_name=\"OfeliasHeaven\").items(total):\n",
    "        ids.append(page)\n",
    "    return ids\n",
    "\n",
    "def get_followers_from_tweet_id(tweet_id, total = 0):\n",
    "    '''\n",
    "    Pasandole el id de un tweet obtenemos todos sus seguidores,\n",
    "    se le puede pasar el parametro total y obtener solamente un numero concreto de ids\n",
    "    '''\n",
    "    user_id = get_tweet_status(tweet_id).user.id\n",
    "    screen_name = get_user_by_id(user_id).screen_name\n",
    "    if total == 0:\n",
    "        followers_ids = get_followers_page(screen_name)\n",
    "    else:\n",
    "        followers_ids = get_followers_limited(screen_name,total)\n",
    "    return followers_ids\n",
    "    \n",
    "    \n",
    "\n",
    "def get_tweets(num_noticias):\n",
    "    '''\n",
    "    Le pasamos el numero de noticias de las cuales queremos obtener los tweets_ids\n",
    "    Con el DataFrame de Pandas separamos los tweets de una misma noticia\n",
    "    Devuelve un array de [titulos, array(tweets_ids)]\n",
    "    '''\n",
    "    df = pd.read_csv('./data/politifact_fake.csv') \n",
    "    #Esto se puede cambiar por otro dataset (ej: ./data/politifact_real.csv), pero de momento trabajamos con este\n",
    "    df['tweet_ids'][0].split('\\t')\n",
    "    \n",
    "    titulo = []\n",
    "    tweets = []\n",
    "    i = 0\n",
    "    \n",
    "    for tweet in df['tweet_ids']:\n",
    "        if i < num_noticias:\n",
    "            array_tweets = str(tweet).split('\\t')\n",
    "            #Se puede cambiar a que tenga al menos 5 o 10 tweets para probar\n",
    "            if(len(array_tweets) > 1): #Solo si tiene algun tweet lo añadimos, 1 elemento es NaN\n",
    "                tweets.append(array_tweets)\n",
    "                titulo.append(df['title'][i])\n",
    "                i = i+1\n",
    "    noticias = [titulo, tweets]\n",
    "    return noticias "
   ]
  },
  {
   "cell_type": "code",
   "execution_count": 18,
   "metadata": {},
   "outputs": [
    {
     "name": "stdout",
     "output_type": "stream",
     "text": [
      "OfeliasHeaven\n",
      "4219197432\n",
      "OfeliasHeaven\n",
      "[551281483, 438051989, 730820197939093504, 404472897, 993614707222294528, 27443191, 16207074, 1172351964107038721, 1179754519623684098, 15659178]\n",
      "71603\n",
      "Noticia:  BREAKING: First NFL Team Declares Bankruptcy Over Kneeling Thugs \n",
      "Tweet:  937349434668498944\n"
     ]
    }
   ],
   "source": [
    "#Ejemplos de prueba\n",
    "print(get_screen_name_from_tweet('937349434668498944'))\n",
    "print(get_tweet_status('937349434668498944').user.id)\n",
    "print(get_user_by_id('4219197432').screen_name)\n",
    "print(get_followers_limited('OfeliasHeaven',10))\n",
    "#print(get_followers_from_tweet_id('937349434668498944'))\n",
    "\n",
    "noticias = get_tweets(num_noticias=100)\n",
    "total_tweets = 0\n",
    "for i in range(len(noticias[1])):\n",
    "    total_tweets = total_tweets + len(noticias[1][i])\n",
    "print(total_tweets)\n",
    "print(\"Noticia: \", noticias[0][0],\"\\nTweet: \",noticias[1][0][0]) #Primer tweet de la primera noticias"
   ]
  },
  {
   "cell_type": "code",
   "execution_count": 9,
   "metadata": {},
   "outputs": [
    {
     "name": "stdout",
     "output_type": "stream",
     "text": [
      "71603\n"
     ]
    }
   ],
   "source": []
  }
 ],
 "metadata": {
  "kernelspec": {
   "display_name": "Python 3",
   "language": "python",
   "name": "python3"
  },
  "language_info": {
   "codemirror_mode": {
    "name": "ipython",
    "version": 3
   },
   "file_extension": ".py",
   "mimetype": "text/x-python",
   "name": "python",
   "nbconvert_exporter": "python",
   "pygments_lexer": "ipython3",
   "version": "3.7.4"
  }
 },
 "nbformat": 4,
 "nbformat_minor": 2
}
