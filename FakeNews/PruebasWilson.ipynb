{
 "cells": [
  {
   "cell_type": "code",
   "execution_count": 54,
   "metadata": {},
   "outputs": [
    {
     "name": "stdout",
     "output_type": "stream",
     "text": [
      "4219197432\n",
      "OfeliasHeaven\n"
     ]
    }
   ],
   "source": [
    "import tweepy\n",
    "\n",
    "consumer_key = 'XRtIm1Mnhk3ktpacwMzeGz1V0'\n",
    "consumer_secret = 'kQoQpgLNsgGJ5VBPEqs3II92BvjeriXOdLWAVoeoY84t30TNgE'\n",
    "access_token = '1633497956-vgq9BrDZmihmPPHexldU9oObEchUbhbChonPwYu'\n",
    "access_token_secret = 'mFA16Mz93Iz4WTcoADchemO8lzPC4SB1fgaamWejkohVA'\n",
    "\n",
    "auth = tweepy.OAuthHandler(consumer_key, consumer_secret)\n",
    "auth.set_access_token(access_token, access_token_secret)\n",
    "\n",
    "api = tweepy.API(auth)\n",
    "\n",
    "status = api.get_status('937349434668498944')\n",
    "print(status.user.id)\n",
    "\n",
    "user = api.get_user('4219197432')\n",
    "print(user.screen_name)"
   ]
  },
  {
   "cell_type": "code",
   "execution_count": 72,
   "metadata": {},
   "outputs": [],
   "source": [
    "import time\n",
    "\n",
    "def get_tweet_status(tweet_id):\n",
    "    '''\n",
    "    Devuelve un objeto status con todos los datos de un tweet\n",
    "    '''\n",
    "    return api.get_status(tweet_id)\n",
    "\n",
    "def get_user_by_id(id):\n",
    "    '''\n",
    "    Devuelve un objeto user a traves del id del user\n",
    "    '''\n",
    "    return api.get_user(id)\n",
    "    \n",
    "\n",
    "def get_screen_name_from_tweet(tweet_id):\n",
    "    try:\n",
    "        status = api.get_status(tweet_id)\n",
    "        user = get_user_by_id(status.user.id)\n",
    "        screen_name = user.screen_name\n",
    "        return screen_name\n",
    "    except tweepy.TweepError as e:\n",
    "        return 'SuspendedAccount'\n",
    "    \n",
    "def get_followers_page(screen_name):\n",
    "    '''\n",
    "    Devuelve los ids de los usuarios que sigue un user, screen_name es el nombre de usuario sin el '@'\n",
    "    ej @NelsonMandela -> NelsonMandela\n",
    "    '''\n",
    "    ids = []\n",
    "    for page in tweepy.Cursor(api.followers_ids, screen_name=\"OfeliasHeaven\").pages():\n",
    "        ids.extend(page)\n",
    "        #time.sleep(60)\n",
    "    return ids\n",
    "\n",
    "def get_followers_limited(screen_name, total):\n",
    "    '''\n",
    "    Devuelve los ids de los usuarios que sigue un user, screen_name es el nombre de usuario sin el '@'\n",
    "    ej @NelsonMandela -> NelsonMandela\n",
    "    Obtiene solo un numero de ids de usuarios indicado en el parametro total\n",
    "    '''\n",
    "    ids = []\n",
    "    for page in tweepy.Cursor(api.followers_ids, screen_name=\"OfeliasHeaven\").items(total):\n",
    "        ids.append(page)\n",
    "    return ids\n",
    "\n",
    "def get_followers_from_tweet_id(tweet_id, total = 0):\n",
    "    '''\n",
    "    Pasandole el id de un tweet obtenemos todos sus seguidores,\n",
    "    se le puede pasar el parametro total y obtener solamente un numero concreto de ids\n",
    "    '''\n",
    "    user_id = get_tweet_status(tweet_id).user.id\n",
    "    screen_name = get_user_by_id(user_id).screen_name\n",
    "    if total == 0:\n",
    "        followers_ids = get_followers_page(screen_name)\n",
    "    else:\n",
    "        followers_ids = get_followers_limited(screen_name,total)\n",
    "    return followers_ids\n",
    "    \n",
    "    "
   ]
  },
  {
   "cell_type": "code",
   "execution_count": 67,
   "metadata": {},
   "outputs": [
    {
     "data": {
      "text/plain": [
       "'OfeliasHeaven'"
      ]
     },
     "execution_count": 67,
     "metadata": {},
     "output_type": "execute_result"
    }
   ],
   "source": [
    "#print(get_tweet_status('937349434668498944').user.id)\n",
    "#print(get_user_by_id('4219197432').screen_name)\n",
    "#print(get_followers_limited('OfeliasHeaven',10))\n",
    "\n",
    "get_followers_from_tweet_id('937349434668498944')\n",
    "get_screen_name_from_tweet('937349434668498944')"
   ]
  },
  {
   "cell_type": "code",
   "execution_count": 80,
   "metadata": {},
   "outputs": [
    {
     "name": "stdout",
     "output_type": "stream",
     "text": [
      "Wall time: 0 ns\n",
      "2449\n"
     ]
    }
   ],
   "source": [
    "import pandas as pd\n",
    "\n",
    "df = pd.read_csv('./data/politifact_fake.csv')\n",
    "df['tweet_ids'][0].split('\\t')\n",
    "\n",
    "\n",
    "def get_tweets(num_noticias):\n",
    "    titulo = []\n",
    "    tweets = []\n",
    "    i = 0\n",
    "    for tweet in df['tweet_ids']:\n",
    "        if i < num_noticias:\n",
    "            array_tweets = str(tweet).split('\\t')\n",
    "            if(len(array_tweets) > 1):\n",
    "                tweets.append(array_tweets)\n",
    "                titulo.append(df['title'][i])\n",
    "                i = i+1\n",
    "\n",
    "    noticias = [titulo, tweets]\n",
    "    return noticias\n",
    "\n",
    "noticias = get_tweets(num_noticias=10)\n",
    "\n",
    "total_tweets = 0\n",
    "for i in range(len(noticias[1])):\n",
    "    total_tweets = total_tweets + len(noticias[1][i])\n",
    "print(total_tweets)"
   ]
  },
  {
   "cell_type": "code",
   "execution_count": null,
   "metadata": {},
   "outputs": [
    {
     "name": "stdout",
     "output_type": "stream",
     "text": [
      "Wall time: 0 ns\n"
     ]
    }
   ],
   "source": [
    "%time\n",
    "\n",
    "tweets = noticias[1]\n",
    "tpp = {}\n",
    "for i in range(len(tweets)):\n",
    "    for j in range(len(tweets[i])):\n",
    "        screen_name = get_screen_name_from_tweet(tweets[i][j])\n",
    "        if screen_name in tpp:\n",
    "            tpp[screen_name] = tpp[screen_name] + 1\n",
    "        else:\n",
    "            tpp[screen_name] = 0"
   ]
  },
  {
   "cell_type": "code",
   "execution_count": 76,
   "metadata": {},
   "outputs": [
    {
     "name": "stdout",
     "output_type": "stream",
     "text": [
      "^C\n"
     ]
    }
   ],
   "source": []
  },
  {
   "cell_type": "code",
   "execution_count": 79,
   "metadata": {},
  }
 ],
 "metadata": {
  "kernelspec": {
   "display_name": "Python 3",
   "language": "python",
   "name": "python3"
  },
  "language_info": {
   "codemirror_mode": {
    "name": "ipython",
    "version": 3
   },
   "file_extension": ".py",
   "mimetype": "text/x-python",
   "name": "python",
   "nbconvert_exporter": "python",
   "pygments_lexer": "ipython3",
   "version": "3.7.4"
  }
 },
 "nbformat": 4,
 "nbformat_minor": 2
}
