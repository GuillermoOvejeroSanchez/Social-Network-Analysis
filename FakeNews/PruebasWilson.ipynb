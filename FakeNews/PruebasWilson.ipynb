{
 "cells": [
  {
   "cell_type": "code",
   "execution_count": 2,
   "metadata": {
    "scrolled": true
   },
   "outputs": [
    {
     "name": "stdout",
     "output_type": "stream",
     "text": [
      "4219197432\n"
     ]
    },
    {
     "data": {
      "text/plain": [
       "datetime.datetime(2016, 1, 6, 16, 42, 23)"
      ]
     },
     "execution_count": 2,
     "metadata": {},
     "output_type": "execute_result"
    }
   ],
   "source": [
    "import tweepy\n",
    "\n",
    "consumer_key = 'XRtIm1Mnhk3ktpacwMzeGz1V0'\n",
    "consumer_secret = 'kQoQpgLNsgGJ5VBPEqs3II92BvjeriXOdLWAVoeoY84t30TNgE'\n",
    "access_token = '1633497956-vgq9BrDZmihmPPHexldU9oObEchUbhbChonPwYu'\n",
    "access_token_secret = 'mFA16Mz93Iz4WTcoADchemO8lzPC4SB1fgaamWejkohVA'\n",
    "\n",
    "auth = tweepy.OAuthHandler(consumer_key, consumer_secret)\n",
    "auth.set_access_token(access_token, access_token_secret)\n",
    "\n",
    "api = tweepy.API(auth, wait_on_rate_limit=True, wait_on_rate_limit_notify=True)\n",
    "\n",
    "#Comprobar que funciona la api\n",
    "status = api.get_status('937349434668498944')\n",
    "print(status.user.id)\n",
    "user = api.get_user(status.user.id).screen_name\n",
    "api.get_user('Humbert18960727').created_at"
   ]
  },
  {
   "cell_type": "code",
   "execution_count": 3,
   "metadata": {},
   "outputs": [],
   "source": [
    "import time\n",
    "import tweepy\n",
    "import pandas as pd\n",
    "import matplotlib.pyplot as plt\n",
    "\n",
    "def get_tweet_status(tweet_id):\n",
    "    '''\n",
    "    Devuelve un objeto status con todos los datos de un tweet\n",
    "    '''\n",
    "    try:\n",
    "        return api.get_status(tweet_id)\n",
    "    except tweepy.TweepError as e:\n",
    "        return 'SuspendedAccount'\n",
    "\n",
    "def get_user_by_id(id):\n",
    "    '''\n",
    "    Devuelve un objeto user a traves del id del user\n",
    "    '''\n",
    "    return api.get_user(id)\n",
    "\n",
    "def get_screen_name(id):\n",
    "    try:\n",
    "        user = get_user_by_id(id)\n",
    "        screen_name = user.screen_name\n",
    "        return screen_name\n",
    "    except tweepy.TweepError as e:\n",
    "        return ('SuspendedAccount')    \n",
    "    \n",
    "def get_screen_name_from_tweet(tweet_id):\n",
    "    try:\n",
    "        status = api.get_status(tweet_id)\n",
    "        user = get_user_by_id(status.user.id)\n",
    "        screen_name = user.screen_name\n",
    "        return screen_name\n",
    "    except tweepy.TweepError as e:\n",
    "        return ('SuspendedAccount')    \n",
    "\n",
    "def get_followers_page(screen_name):\n",
    "    '''\n",
    "    Devuelve los ids de los usuarios que sigue un user, screen_name es el nombre de usuario sin el '@'\n",
    "    ej @NelsonMandela -> NelsonMandela\n",
    "    '''\n",
    "    ids = []\n",
    "    for page in tweepy.Cursor(api.followers_ids, screen_name=screen_name).pages():\n",
    "        ids.extend(page)\n",
    "        #time.sleep(60)\n",
    "    return ids\n",
    "\n",
    "\n",
    "\n",
    "def get_followers_limited(screen_name, total):\n",
    "    '''\n",
    "    Devuelve los ids de los usuarios que sigue un user, screen_name es el nombre de usuario sin el '@'\n",
    "    ej @NelsonMandela -> NelsonMandela\n",
    "    Obtiene solo un numero de ids de usuarios indicado en el parametro total\n",
    "    '''\n",
    "    ids = []\n",
    "    for page in tweepy.Cursor(api.followers_ids, screen_name=screen_name).items(total):\n",
    "        ids.append(page)\n",
    "    return ids\n",
    "\n",
    "def get_followers_from_tweet_id(tweet_id, total = 0):\n",
    "    '''\n",
    "    Pasandole el id de un tweet obtenemos todos sus seguidores,\n",
    "    se le puede pasar el parametro total y obtener solamente un numero concreto de ids\n",
    "    '''\n",
    "    user_id = get_tweet_status(tweet_id).user.id\n",
    "    screen_name = get_user_by_id(user_id).screen_name\n",
    "    if total == 0:\n",
    "        followers_ids = get_followers_page(screen_name)\n",
    "    else:\n",
    "        followers_ids = get_followers_limited(screen_name,total)\n",
    "    return followers_ids\n",
    "    \n",
    "    \n",
    "\n",
    "def get_tweets(num_noticias):\n",
    "    '''\n",
    "    Le pasamos el numero de noticias de las cuales queremos obtener los tweets_ids\n",
    "    Con el DataFrame de Pandas separamos los tweets de una misma noticia\n",
    "    Devuelve un array de [titulos, array(tweets_ids)]\n",
    "    '''\n",
    "    df = pd.read_csv('./data/politifact_fake.csv') \n",
    "    #Esto se puede cambiar por otro dataset (ej: ./data/politifact_real.csv), pero de momento trabajamos con este\n",
    "    df['tweet_ids'][0].split('\\t')\n",
    "    \n",
    "    titulo = []\n",
    "    tweets = []\n",
    "    i = 0\n",
    "    \n",
    "    for tweet in df['tweet_ids']:\n",
    "        if i < num_noticias:\n",
    "            array_tweets = str(tweet).split('\\t')\n",
    "            #Se puede cambiar a que tenga al menos 5 o 10 tweets para probar\n",
    "            if(len(array_tweets) > 1 and len(array_tweets) < 2000): #Solo si tiene algun tweet lo añadimos, 1 elemento es NaN\n",
    "                tweets.append(array_tweets)\n",
    "                titulo.append(df['title'][i])\n",
    "                i = i+1\n",
    "    noticias = [titulo, tweets]\n",
    "    return noticias "
   ]
  },
  {
   "cell_type": "code",
   "execution_count": 3,
   "metadata": {},
   "outputs": [
    {
     "name": "stdout",
     "output_type": "stream",
     "text": [
      "OfeliasHeaven\n",
      "4219197432\n",
      "OfeliasHeaven\n",
      "[29036789, 1425690121, 1208256837889482752, 1159961359, 551281483, 438051989, 730820197939093504, 404472897, 993614707222294528, 27443191]\n",
      "Noticia:  BREAKING: First NFL Team Declares Bankruptcy Over Kneeling Thugs \n",
      "Tweet:  937349434668498944\n"
     ]
    }
   ],
   "source": [
    "import numpy as np\n",
    "#Ejemplos de prueba\n",
    "print(get_screen_name_from_tweet('937349434668498944'))\n",
    "print(get_tweet_status('937349434668498944').user.id)\n",
    "print(get_user_by_id('4219197432').screen_name)\n",
    "print(get_followers_limited('OfeliasHeaven',10))\n",
    "#print(get_followers_from_tweet_id('937349434668498944')\n",
    "noticias = get_tweets(10)\n",
    "print(\"Noticia: \", noticias[0][0],\"\\nTweet: \",noticias[1][0][0]) #Primer tweet de la primera noticias"
   ]
  },
  {
   "cell_type": "code",
   "execution_count": 4,
   "metadata": {},
   "outputs": [
    {
     "name": "stdout",
     "output_type": "stream",
     "text": [
      "94683\n",
      "Num Maximo de Tweets: 1915 | Noticia Nº:  366\n",
      "Nº Noticias en rangos de 200: [239.  51.  22.  22.   6.  18.   3.   3.   1.   2.]\n"
     ]
    },
    {
     "data": {
      "image/png": "[encoded data removed]",
      "text/plain": [
       "<Figure size 432x288 with 1 Axes>"
      ]
     },
     "metadata": {
      "needs_background": "light"
     },
     "output_type": "display_data"
    }
   ],
   "source": [
    "noticias = get_tweets(num_noticias=367)\n",
    "total_tweets = 0\n",
    "max_tweet = 0\n",
    "number = 0\n",
    "arrayPlot = np.zeros(10)\n",
    "for i in range(len(noticias[1])):\n",
    "    total_tweets = total_tweets + len(noticias[1][i])\n",
    "    arrayPlot[len(noticias[1][i]) // 200] += 1\n",
    "    if(max_tweet < len(noticias[1][i])):\n",
    "        max_tweet = len(noticias[1][i])\n",
    "        number = i                \n",
    "print(total_tweets)\n",
    "print(\"Num Maximo de Tweets:\", max_tweet, \"| Noticia Nº: \", i)\n",
    "print(\"Nº Noticias en rangos de 200:\",arrayPlot)\n",
    "\n",
    "plt.bar(range(10),arrayPlot)\n",
    "plt.xticks(range(0,10,2), ['0-200','400-600','800-1000','1200-1400','1600-1800'],rotation=45)\n",
    "plt.ylabel(\"Num Noticias\")\n",
    "plt.xlabel(\"Total Tweets\")\n",
    "plt.show()"
   ]
  },
  {
   "cell_type": "markdown",
   "metadata": {},
   "source": [
    "Vemos que la mayoria de noticias no supera los 200 twits, y que muy pocas noticias han tenido muchos twits\n",
    "\n",
    "##### Intento de sacar aristas\n",
    "(No es correcto)"
   ]
  },
  {
   "cell_type": "code",
   "execution_count": 5,
   "metadata": {},
   "outputs": [
    {
     "name": "stdout",
     "output_type": "stream",
     "text": [
      "                 0  1  2     3     4     5     6     7     8\n",
      "OfeliasHeaven    A  b  d     1     d     f     t     r     u\n",
      "lorn_cramer      1  2  3  None  None  None  None  None  None\n",
      "lupash7          A  b  d     1  None  None  None  None  None\n",
      "yojudenz         1  2  3  None  None  None  None  None  None\n",
      "WilliamNerbonne  A  b  d     1  None  None  None  None  None\n"
     ]
    },
    {
     "data": {
      "text/html": [
       "<div>\n",
       "<style scoped>\n",
       "    .dataframe tbody tr th:only-of-type {\n",
       "        vertical-align: middle;\n",
       "    }\n",
       "\n",
       "    .dataframe tbody tr th {\n",
       "        vertical-align: top;\n",
       "    }\n",
       "\n",
       "    .dataframe thead th {\n",
       "        text-align: right;\n",
       "    }\n",
       "</style>\n",
       "<table border=\"1\" class=\"dataframe\">\n",
       "  <thead>\n",
       "    <tr style=\"text-align: right;\">\n",
       "      <th></th>\n",
       "      <th>screen_name</th>\n",
       "      <th>0</th>\n",
       "      <th>1</th>\n",
       "      <th>2</th>\n",
       "      <th>3</th>\n",
       "      <th>4</th>\n",
       "      <th>5</th>\n",
       "      <th>6</th>\n",
       "      <th>7</th>\n",
       "      <th>8</th>\n",
       "    </tr>\n",
       "  </thead>\n",
       "  <tbody>\n",
       "    <tr>\n",
       "      <td>0</td>\n",
       "      <td>OfeliasHeaven</td>\n",
       "      <td>A</td>\n",
       "      <td>b</td>\n",
       "      <td>d</td>\n",
       "      <td>1.0</td>\n",
       "      <td>d</td>\n",
       "      <td>f</td>\n",
       "      <td>t</td>\n",
       "      <td>r</td>\n",
       "      <td>u</td>\n",
       "    </tr>\n",
       "    <tr>\n",
       "      <td>1</td>\n",
       "      <td>lorn_cramer</td>\n",
       "      <td>1</td>\n",
       "      <td>2</td>\n",
       "      <td>3</td>\n",
       "      <td>NaN</td>\n",
       "      <td>NaN</td>\n",
       "      <td>NaN</td>\n",
       "      <td>NaN</td>\n",
       "      <td>NaN</td>\n",
       "      <td>NaN</td>\n",
       "    </tr>\n",
       "    <tr>\n",
       "      <td>2</td>\n",
       "      <td>lupash7</td>\n",
       "      <td>A</td>\n",
       "      <td>b</td>\n",
       "      <td>d</td>\n",
       "      <td>1.0</td>\n",
       "      <td>NaN</td>\n",
       "      <td>NaN</td>\n",
       "      <td>NaN</td>\n",
       "      <td>NaN</td>\n",
       "      <td>NaN</td>\n",
       "    </tr>\n",
       "    <tr>\n",
       "      <td>3</td>\n",
       "      <td>yojudenz</td>\n",
       "      <td>1</td>\n",
       "      <td>2</td>\n",
       "      <td>3</td>\n",
       "      <td>NaN</td>\n",
       "      <td>NaN</td>\n",
       "      <td>NaN</td>\n",
       "      <td>NaN</td>\n",
       "      <td>NaN</td>\n",
       "      <td>NaN</td>\n",
       "    </tr>\n",
       "    <tr>\n",
       "      <td>4</td>\n",
       "      <td>WilliamNerbonne</td>\n",
       "      <td>A</td>\n",
       "      <td>b</td>\n",
       "      <td>d</td>\n",
       "      <td>1.0</td>\n",
       "      <td>NaN</td>\n",
       "      <td>NaN</td>\n",
       "      <td>NaN</td>\n",
       "      <td>NaN</td>\n",
       "      <td>NaN</td>\n",
       "    </tr>\n",
       "    <tr>\n",
       "      <td>5</td>\n",
       "      <td>saveusrepublic2</td>\n",
       "      <td>1</td>\n",
       "      <td>2</td>\n",
       "      <td>3</td>\n",
       "      <td>NaN</td>\n",
       "      <td>NaN</td>\n",
       "      <td>NaN</td>\n",
       "      <td>NaN</td>\n",
       "      <td>NaN</td>\n",
       "      <td>NaN</td>\n",
       "    </tr>\n",
       "    <tr>\n",
       "      <td>6</td>\n",
       "      <td>starchaser57</td>\n",
       "      <td>A</td>\n",
       "      <td>b</td>\n",
       "      <td>d</td>\n",
       "      <td>1.0</td>\n",
       "      <td>NaN</td>\n",
       "      <td>NaN</td>\n",
       "      <td>NaN</td>\n",
       "      <td>NaN</td>\n",
       "      <td>NaN</td>\n",
       "    </tr>\n",
       "    <tr>\n",
       "      <td>7</td>\n",
       "      <td>Ettan1945</td>\n",
       "      <td>1</td>\n",
       "      <td>2</td>\n",
       "      <td>3</td>\n",
       "      <td>NaN</td>\n",
       "      <td>NaN</td>\n",
       "      <td>NaN</td>\n",
       "      <td>NaN</td>\n",
       "      <td>NaN</td>\n",
       "      <td>NaN</td>\n",
       "    </tr>\n",
       "    <tr>\n",
       "      <td>8</td>\n",
       "      <td>ThePipeStore</td>\n",
       "      <td>A</td>\n",
       "      <td>b</td>\n",
       "      <td>d</td>\n",
       "      <td>1.0</td>\n",
       "      <td>NaN</td>\n",
       "      <td>NaN</td>\n",
       "      <td>NaN</td>\n",
       "      <td>NaN</td>\n",
       "      <td>NaN</td>\n",
       "    </tr>\n",
       "    <tr>\n",
       "      <td>9</td>\n",
       "      <td>bronwyn1140</td>\n",
       "      <td>1</td>\n",
       "      <td>2</td>\n",
       "      <td>3</td>\n",
       "      <td>NaN</td>\n",
       "      <td>NaN</td>\n",
       "      <td>NaN</td>\n",
       "      <td>NaN</td>\n",
       "      <td>NaN</td>\n",
       "      <td>NaN</td>\n",
       "    </tr>\n",
       "  </tbody>\n",
       "</table>\n",
       "</div>"
      ],
      "text/plain": [
       "       screen_name  0  1  2    3    4    5    6    7    8\n",
       "0    OfeliasHeaven  A  b  d  1.0    d    f    t    r    u\n",
       "1      lorn_cramer  1  2  3  NaN  NaN  NaN  NaN  NaN  NaN\n",
       "2          lupash7  A  b  d  1.0  NaN  NaN  NaN  NaN  NaN\n",
       "3         yojudenz  1  2  3  NaN  NaN  NaN  NaN  NaN  NaN\n",
       "4  WilliamNerbonne  A  b  d  1.0  NaN  NaN  NaN  NaN  NaN\n",
       "5  saveusrepublic2  1  2  3  NaN  NaN  NaN  NaN  NaN  NaN\n",
       "6     starchaser57  A  b  d  1.0  NaN  NaN  NaN  NaN  NaN\n",
       "7        Ettan1945  1  2  3  NaN  NaN  NaN  NaN  NaN  NaN\n",
       "8     ThePipeStore  A  b  d  1.0  NaN  NaN  NaN  NaN  NaN\n",
       "9      bronwyn1140  1  2  3  NaN  NaN  NaN  NaN  NaN  NaN"
      ]
     },
     "execution_count": 5,
     "metadata": {},
     "output_type": "execute_result"
    }
   ],
   "source": [
    "df = pd.read_csv('./gen/nodos/nodos_1noticias.csv')\n",
    "df = df[df.name != 'SuspendedAccount']\n",
    "edgesDict = {}\n",
    "\n",
    "for i, screen_name in enumerate(df['name']):\n",
    "    followers = [1,2,3]\n",
    "    #followers = get_followers_limited(screen_name,100)\n",
    "    if i % 2 == 0:\n",
    "        followers = [\"A\", 'b', 'd', '1']\n",
    "    if i % 10 == 0:\n",
    "        followers = [\"A\", 'b', 'd', '1', 'd', 'f','t', 'r', 'u']\n",
    "    edgesDict[screen_name] = followers\n",
    "    \n",
    "edges = pd.DataFrame.from_dict(edgesDict,orient='index')\n",
    "edges.rename( columns={'Unnamed: 0':'new column name'}, inplace=True )\n",
    "print(edges.head())\n",
    "edges.to_csv('./output/pruebas/prueba.csv')\n",
    "\n",
    "edgesTest = pd.read_csv('./output/pruebas/prueba.csv')\n",
    "edgesTest.rename( columns={'Unnamed: 0':'screen_name'}, inplace=True )\n",
    "edgesTest.head(10)"
   ]
  },
  {
   "cell_type": "markdown",
   "metadata": {},
   "source": [
    "Despues de generar los csv de los usuarios y seguidores,\n",
    "Generamos una lista de adyacencia que se importa correctamente en Gephi\n",
    "\n",
    "El formato de esto sera:\n",
    "source, target, target, ... , target\n",
    "\n",
    "Ej:\n",
    "OfeliasHeaven, 468544, 891484, 57847894 \n",
    "\n",
    "De esta manera podemos importar directamente el archivo sin que nos de problemas"
   ]
  },
  {
   "cell_type": "code",
   "execution_count": 6,
   "metadata": {},
   "outputs": [],
   "source": [
    "#Sacamos de las listas de followers generadas,\n",
    "#un archivo que Gephi pueda leer\n",
    "\n",
    "df = pd.read_csv('./gen/edges/edges_72users.csv',index_col=0,delimiter=\",\")\n",
    "\n",
    "#Eliminamos los corchetes que tienen\n",
    "for i in range(len(df['followers_ids'])):\n",
    "    s1 = df['followers_ids'][i].replace(\"[\", \"\")\n",
    "    s2 = s1.replace(\"]\", \"\")\n",
    "    df['followers_ids'][i] = s2\n",
    "\n",
    "#Esto realmente no hace falta, es simplemente para guardar el paso intermedio de uno a otro\n",
    "df.to_csv('./gen/edges/intermediates/edges_users_prueba.csv')\n",
    "\n",
    "f = open(\"./gen/edges/adjlist/adjlist_72users.csv\", \"w\")\n",
    "followers = []\n",
    "#Y juntamos el nodo inicial, con su lista de seguidores\n",
    "for i in range(len(df['screen_name'])):\n",
    "    str_format = ''\n",
    "    str_format = df['screen_name'][i] + ', ' +df['followers_ids'][i]\n",
    "    followers.append(str(str_format))\n",
    "    f.write(followers[i])\n",
    "    f.write('\\n')\n",
    "f.close()"
   ]
  },
  {
   "cell_type": "code",
   "execution_count": 7,
   "metadata": {
    "scrolled": true
   },
   "outputs": [],
   "source": [
    "#Generates all adjacency lists\n",
    "import pandas as pd\n",
    "for i in range(72):\n",
    "    df = pd.read_csv('./gen/edges/edges_{}users.csv'.format(i+1),index_col=0,delimiter=\",\")\n",
    "\n",
    "    #Eliminamos los corchetes que tienen\n",
    "    for i in range(len(df['followers_ids'])):\n",
    "        s1 = df['followers_ids'][i].replace(\"[\", \"\")\n",
    "        s2 = s1.replace(\"]\", \"\")\n",
    "        df['followers_ids'][i] = s2\n",
    "\n",
    "    #Esto realmente no hace falta, es simplemente para guardar el paso intermedio de uno a otro\n",
    "    df.to_csv('./gen/edges/intermediates/edges_users_prueba.csv')\n",
    "    f = open(\"./gen/edges/adjlist/adjlist_{}users.csv\".format(i+1), \"w\")\n",
    "    followers = []\n",
    "    #Y juntamos el nodo inicial, con su lista de seguidores\n",
    "    for i in range(len(df['screen_name'])):\n",
    "        str_format = ''\n",
    "        str_format = df['screen_name'][i] + ', ' +df['followers_ids'][i]\n",
    "        followers.append(str(str_format))\n",
    "        f.write(followers[i])\n",
    "        f.write('\\n')\n",
    "    f.close()"
   ]
  },
  {
   "cell_type": "markdown",
   "metadata": {},
   "source": [
    "## Grafo de Twits y Rts"
   ]
  },
  {
   "cell_type": "code",
   "execution_count": 8,
   "metadata": {},
   "outputs": [
    {
     "name": "stdout",
     "output_type": "stream",
     "text": [
      "432\n"
     ]
    }
   ],
   "source": [
    "df = pd.read_csv('./data/politifact_fake.csv')\n",
    "print(len(df))"
   ]
  },
  {
   "cell_type": "code",
   "execution_count": 9,
   "metadata": {},
   "outputs": [],
   "source": [
    "tweets = df['tweet_ids'][367].split('\\t')"
   ]
  },
  {
   "cell_type": "code",
   "execution_count": 10,
   "metadata": {
    "scrolled": true
   },
   "outputs": [
    {
     "name": "stdout",
     "output_type": "stream",
     "text": [
      "913439008256086016\n"
     ]
    }
   ],
   "source": [
    "print(tweets[0])\n",
    "status = get_tweet_status(tweets[0])\n",
    "#status = get_tweet_status('1210618299022794752')"
   ]
  },
  {
   "cell_type": "code",
   "execution_count": 11,
   "metadata": {},
   "outputs": [
    {
     "name": "stdout",
     "output_type": "stream",
     "text": [
      "2017-09-28 16:23:25\n"
     ]
    },
    {
     "data": {
      "text/plain": [
       "'20170928162325'"
      ]
     },
     "execution_count": 11,
     "metadata": {},
     "output_type": "execute_result"
    }
   ],
   "source": [
    "#year, month, day, hour, minute, second, microsecond\n",
    "print(status.created_at)\n",
    "status.created_at.strftime('%Y%m%d%H%M%S')"
   ]
  },
  {
   "cell_type": "code",
   "execution_count": 12,
   "metadata": {},
   "outputs": [
    {
     "name": "stdout",
     "output_type": "stream",
     "text": [
      "Antes\n"
     ]
    }
   ],
   "source": [
    "if '20170717133153' < '20171204152345':\n",
    "    print('Antes')"
   ]
  },
  {
   "cell_type": "code",
   "execution_count": 13,
   "metadata": {},
   "outputs": [
    {
     "data": {
      "text/plain": [
       "9"
      ]
     },
     "execution_count": 13,
     "metadata": {},
     "output_type": "execute_result"
    }
   ],
   "source": [
    "status.favorite_count"
   ]
  },
  {
   "cell_type": "code",
   "execution_count": 14,
   "metadata": {},
   "outputs": [
    {
     "data": {
      "text/plain": [
       "8"
      ]
     },
     "execution_count": 14,
     "metadata": {},
     "output_type": "execute_result"
    }
   ],
   "source": [
    "status.retweet_count"
   ]
  },
  {
   "cell_type": "code",
   "execution_count": 15,
   "metadata": {},
   "outputs": [],
   "source": [
    "status.in_reply_to_status_id_str"
   ]
  },
  {
   "cell_type": "code",
   "execution_count": 16,
   "metadata": {},
   "outputs": [],
   "source": [
    "status.in_reply_to_screen_name"
   ]
  },
  {
   "cell_type": "code",
   "execution_count": 17,
   "metadata": {},
   "outputs": [
    {
     "data": {
      "text/plain": [
       "datetime.datetime(2013, 4, 15, 20, 9, 11)"
      ]
     },
     "execution_count": 17,
     "metadata": {},
     "output_type": "execute_result"
    }
   ],
   "source": [
    "status.user.created_at"
   ]
  },
  {
   "cell_type": "code",
   "execution_count": 18,
   "metadata": {},
   "outputs": [
    {
     "data": {
      "text/plain": [
       "'CraigRozniecki'"
      ]
     },
     "execution_count": 18,
     "metadata": {},
     "output_type": "execute_result"
    }
   ],
   "source": [
    "status.user.screen_name"
   ]
  },
  {
   "cell_type": "code",
   "execution_count": 19,
   "metadata": {},
   "outputs": [
    {
     "data": {
      "text/plain": [
       "141497"
      ]
     },
     "execution_count": 19,
     "metadata": {},
     "output_type": "execute_result"
    }
   ],
   "source": [
    "status.user.favourites_count"
   ]
  },
  {
   "cell_type": "code",
   "execution_count": 20,
   "metadata": {},
   "outputs": [
    {
     "data": {
      "text/plain": [
       "113592"
      ]
     },
     "execution_count": 20,
     "metadata": {},
     "output_type": "execute_result"
    }
   ],
   "source": [
    "status.user.followers_count"
   ]
  },
  {
   "cell_type": "code",
   "execution_count": 21,
   "metadata": {},
   "outputs": [
    {
     "data": {
      "text/plain": [
       "113445"
      ]
     },
     "execution_count": 21,
     "metadata": {},
     "output_type": "execute_result"
    }
   ],
   "source": [
    "status.user.friends_count"
   ]
  },
  {
   "cell_type": "code",
   "execution_count": 22,
   "metadata": {},
   "outputs": [
    {
     "data": {
      "text/plain": [
       "631"
      ]
     },
     "execution_count": 22,
     "metadata": {},
     "output_type": "execute_result"
    }
   ],
   "source": [
    "status.user.listed_count"
   ]
  },
  {
   "cell_type": "code",
   "execution_count": 23,
   "metadata": {},
   "outputs": [
    {
     "data": {
      "text/plain": [
       "90839"
      ]
     },
     "execution_count": 23,
     "metadata": {},
     "output_type": "execute_result"
    }
   ],
   "source": [
    "status.user.statuses_count"
   ]
  },
  {
   "cell_type": "code",
   "execution_count": 24,
   "metadata": {},
   "outputs": [
    {
     "data": {
      "text/plain": [
       "False"
      ]
     },
     "execution_count": 24,
     "metadata": {},
     "output_type": "execute_result"
    }
   ],
   "source": [
    "status.user.verified"
   ]
  },
  {
   "cell_type": "code",
   "execution_count": 25,
   "metadata": {},
   "outputs": [
    {
     "data": {
      "text/plain": [
       "'Columbus, OH'"
      ]
     },
     "execution_count": 25,
     "metadata": {},
     "output_type": "execute_result"
    }
   ],
   "source": [
    "status.user.location"
   ]
  },
  {
   "cell_type": "code",
   "execution_count": 26,
   "metadata": {},
   "outputs": [
    {
     "data": {
      "text/html": [
       "<div>\n",
       "<style scoped>\n",
       "    .dataframe tbody tr th:only-of-type {\n",
       "        vertical-align: middle;\n",
       "    }\n",
       "\n",
       "    .dataframe tbody tr th {\n",
       "        vertical-align: top;\n",
       "    }\n",
       "\n",
       "    .dataframe thead th {\n",
       "        text-align: right;\n",
       "    }\n",
       "</style>\n",
       "<table border=\"1\" class=\"dataframe\">\n",
       "  <thead>\n",
       "    <tr style=\"text-align: right;\">\n",
       "      <th></th>\n",
       "      <th>tweet_ids</th>\n",
       "      <th>created_at</th>\n",
       "      <th>favorite_count</th>\n",
       "      <th>retweet_count</th>\n",
       "      <th>id_noticia</th>\n",
       "      <th>index</th>\n",
       "      <th>screen_name</th>\n",
       "      <th>user_created_at</th>\n",
       "      <th>followers</th>\n",
       "      <th>friends</th>\n",
       "      <th>verified</th>\n",
       "    </tr>\n",
       "  </thead>\n",
       "  <tbody>\n",
       "    <tr>\n",
       "      <td>0</td>\n",
       "      <td>937349434668498944</td>\n",
       "      <td>20171203155454</td>\n",
       "      <td>0</td>\n",
       "      <td>0</td>\n",
       "      <td>politifact15014</td>\n",
       "      <td>0</td>\n",
       "      <td>OfeliasHeaven</td>\n",
       "      <td>20151113033128</td>\n",
       "      <td>707</td>\n",
       "      <td>1030</td>\n",
       "      <td>False</td>\n",
       "    </tr>\n",
       "    <tr>\n",
       "      <td>1</td>\n",
       "      <td>937379378006282240</td>\n",
       "      <td>20171203175354</td>\n",
       "      <td>0</td>\n",
       "      <td>0</td>\n",
       "      <td>politifact15014</td>\n",
       "      <td>0</td>\n",
       "      <td>lorn_cramer</td>\n",
       "      <td>20150213234944</td>\n",
       "      <td>13</td>\n",
       "      <td>103</td>\n",
       "      <td>False</td>\n",
       "    </tr>\n",
       "    <tr>\n",
       "      <td>2</td>\n",
       "      <td>972666281441878016</td>\n",
       "      <td>20180311025127</td>\n",
       "      <td>0</td>\n",
       "      <td>2</td>\n",
       "      <td>politifact15156</td>\n",
       "      <td>1</td>\n",
       "      <td>obamolizer</td>\n",
       "      <td>20140927220504</td>\n",
       "      <td>2283</td>\n",
       "      <td>1117</td>\n",
       "      <td>False</td>\n",
       "    </tr>\n",
       "    <tr>\n",
       "      <td>3</td>\n",
       "      <td>972678396575559680</td>\n",
       "      <td>20180311033935</td>\n",
       "      <td>9</td>\n",
       "      <td>11</td>\n",
       "      <td>politifact15156</td>\n",
       "      <td>1</td>\n",
       "      <td>OneMoreTime64</td>\n",
       "      <td>20171211012717</td>\n",
       "      <td>3463</td>\n",
       "      <td>4570</td>\n",
       "      <td>False</td>\n",
       "    </tr>\n",
       "    <tr>\n",
       "      <td>4</td>\n",
       "      <td>929405740732870656</td>\n",
       "      <td>20171111174930</td>\n",
       "      <td>1</td>\n",
       "      <td>0</td>\n",
       "      <td>politifact14745</td>\n",
       "      <td>2</td>\n",
       "      <td>MarraccoNancy</td>\n",
       "      <td>20150902114855</td>\n",
       "      <td>1</td>\n",
       "      <td>30</td>\n",
       "      <td>False</td>\n",
       "    </tr>\n",
       "  </tbody>\n",
       "</table>\n",
       "</div>"
      ],
      "text/plain": [
       "            tweet_ids      created_at favorite_count retweet_count  \\\n",
       "0  937349434668498944  20171203155454              0             0   \n",
       "1  937379378006282240  20171203175354              0             0   \n",
       "2  972666281441878016  20180311025127              0             2   \n",
       "3  972678396575559680  20180311033935              9            11   \n",
       "4  929405740732870656  20171111174930              1             0   \n",
       "\n",
       "        id_noticia index    screen_name user_created_at followers friends  \\\n",
       "0  politifact15014     0  OfeliasHeaven  20151113033128       707    1030   \n",
       "1  politifact15014     0    lorn_cramer  20150213234944        13     103   \n",
       "2  politifact15156     1     obamolizer  20140927220504      2283    1117   \n",
       "3  politifact15156     1  OneMoreTime64  20171211012717      3463    4570   \n",
       "4  politifact14745     2  MarraccoNancy  20150902114855         1      30   \n",
       "\n",
       "  verified  \n",
       "0    False  \n",
       "1    False  \n",
       "2    False  \n",
       "3    False  \n",
       "4    False  "
      ]
     },
     "execution_count": 26,
     "metadata": {},
     "output_type": "execute_result"
    }
   ],
   "source": [
    "#Test to check if the df is building correctly\n",
    "import pandas as pd\n",
    "import tweepy\n",
    "\n",
    "consumer_key = 'XRtIm1Mnhk3ktpacwMzeGz1V0'\n",
    "consumer_secret = 'kQoQpgLNsgGJ5VBPEqs3II92BvjeriXOdLWAVoeoY84t30TNgE'\n",
    "access_token = '1633497956-vgq9BrDZmihmPPHexldU9oObEchUbhbChonPwYu'\n",
    "access_token_secret = 'mFA16Mz93Iz4WTcoADchemO8lzPC4SB1fgaamWejkohVA'\n",
    "\n",
    "auth = tweepy.AppAuthHandler(consumer_key, consumer_secret)\n",
    "#auth.set_access_token(access_token, access_token_secret)\n",
    "\n",
    "api = tweepy.API(auth, wait_on_rate_limit=True, wait_on_rate_limit_notify=True)\n",
    "\n",
    "def get_tweet_status(tweet_id):\n",
    "    '''\n",
    "    Devuelve un objeto status con todos los datos de un tweet\n",
    "    '''\n",
    "    try:\n",
    "        return api.get_status(tweet_id)\n",
    "    except tweepy.TweepError as e:\n",
    "        return 'SuspendedAccount'\n",
    "\n",
    "df_out = pd.DataFrame(columns=['tweet_ids','created_at','favorite_count','retweet_count', 'id_noticia', 'index', 'screen_name','user_created_at','followers', 'friends','verified' ])\n",
    "df = pd.read_csv('./data/politifact_fake.csv')\n",
    "\n",
    "index = 0\n",
    "#Hacemos los breaks para que solo nos saque un par de resultados de 4 noticias y no todo el contenido\n",
    "for i,v in enumerate(df['tweet_ids']):\n",
    "    if not isinstance(v, float): #Comprueba que tenga mas de 1 elemento, si solo tiene un elemento python lo considera un float\n",
    "        news = v.split('\\t')\n",
    "    if i == 5:\n",
    "        break\n",
    "    for j in range(len(news)):\n",
    "        status = get_tweet_status(news[j])\n",
    "        if len(news) > 1 and status != 'SuspendedAccount': #Si hay mas de un tweet y el tweet no es de una cuenta suspendida lo añadimos al df\n",
    "            df_out.loc[index] = [str(news[j]), status.created_at.strftime('%Y%m%d%H%M%S'),str(status.favorite_count),str(status.retweet_count),str(df['id'][i]),str(i), str(status.user.screen_name), status.user.created_at.strftime('%Y%m%d%H%M%S'),str(status.user.followers_count), str(status.user.friends_count),str(status.user.verified)]\n",
    "            index += 1\n",
    "            if j == 1:\n",
    "                break\n",
    "            \n",
    "df_out.to_csv('./output/pruebas/full_df.csv')\n",
    "df_out.head()"
   ]
  },
  {
   "cell_type": "code",
   "execution_count": 27,
   "metadata": {},
   "outputs": [
    {
     "data": {
      "text/plain": [
       "1211815952561721344"
      ]
     },
     "execution_count": 27,
     "metadata": {},
     "output_type": "execute_result"
    }
   ],
   "source": [
    "statuses = api.retweets('1211807088512577536')\n",
    "\n",
    "statuses[0].id"
   ]
  },
  {
   "cell_type": "code",
   "execution_count": 28,
   "metadata": {},
   "outputs": [
    {
     "name": "stdout",
     "output_type": "stream",
     "text": [
      "1211815952561721344 2019-12-31 01:06:52\n",
      "1211815375857504256 2019-12-31 01:04:34\n",
      "1211812420949295105 2019-12-31 00:52:50\n",
      "1211812257702858752 2019-12-31 00:52:11\n",
      "1211811447774351360 2019-12-31 00:48:58\n",
      "1211810081379102720 2019-12-31 00:43:32\n",
      "1211807945417211904 2019-12-31 00:35:03\n"
     ]
    }
   ],
   "source": [
    "for i in range(len(statuses)):\n",
    "    print(statuses[i].id,statuses[i].created_at)"
   ]
  },
  {
   "cell_type": "code",
   "execution_count": 29,
   "metadata": {
    "scrolled": false
   },
   "outputs": [
    {
     "name": "stdout",
     "output_type": "stream",
     "text": [
      "status.retweet_count 8\n",
      ".exists_friendship Pj6595 False Von_Edelschwarz False\n",
      "status.retweet_count 8\n",
      ".exists_friendship Pj6595 False Carol_Raval False\n",
      "status.retweet_count 8\n",
      ".exists_friendship Pj6595 False GPati_007 False\n",
      "status.retweet_count 8\n",
      ".exists_friendship Pj6595 False demosten_es True\n",
      "status.retweet_count 8\n",
      ".exists_friendship Pj6595 False Thesaiyajinkidd False\n",
      "status.retweet_count 8\n",
      ".exists_friendship Pj6595 False Semi_ingenieros False\n",
      "status.retweet_count 8\n",
      ".exists_friendship Pj6595 True aitorcrok True\n"
     ]
    }
   ],
   "source": [
    "for i in range(len(statuses)):\n",
    "    status = get_tweet_status(statuses[i].id)\n",
    "    print('status.retweet_count',status.retweet_count)\n",
    "    #tweettext = str(status.text.lower().encode('ascii',errors='ignore'))\n",
    "    #print(tweettext)\n",
    "    #API.exists_friendship(user_a, user_b). It returns true if user_a follows user_b.\n",
    "    #If you get the output as True False it means that he/she is not following you. Other cases are:\n",
    "    #False True = you are being followed by him/her.\n",
    "    #False False = there is no connection between you two.\n",
    "    source = status.user.screen_name \n",
    "    friends = api.show_friendship(source_screen_name='Pj6595', target_screen_name=source)\n",
    "    print('.exists_friendship','Pj6595',friends[0].following, source,friends[1].following)"
   ]
  },
  {
   "cell_type": "code",
   "execution_count": 19,
   "metadata": {},
   "outputs": [
    {
     "data": {
      "text/plain": [
       "149666"
      ]
     },
     "execution_count": 19,
     "metadata": {},
     "output_type": "execute_result"
    }
   ],
   "source": [
    "df = pd.read_csv('./gen/full_df_fake.csv')\n",
    "len(df)"
   ]
  },
  {
   "cell_type": "code",
   "execution_count": 38,
   "metadata": {},
   "outputs": [
    {
     "data": {
      "text/plain": [
       "SeltekCo           314\n",
       "AwesomeEK          270\n",
       "WorldTruthTV       264\n",
       "achoohorsey        199\n",
       "askMICA            198\n",
       "                  ... \n",
       "bobbi85710           1\n",
       "Info_Activism        1\n",
       "Arabian_com          1\n",
       "donnabo75065207      1\n",
       "shawjon              1\n",
       "Name: screen_name, Length: 83687, dtype: int64"
      ]
     },
     "execution_count": 38,
     "metadata": {},
     "output_type": "execute_result"
    }
   ],
   "source": [
    "df['screen_name'].value_counts()"
   ]
  },
  {
   "cell_type": "code",
   "execution_count": 3,
   "metadata": {
    "scrolled": true
   },
   "outputs": [
    {
     "name": "stdout",
     "output_type": "stream",
     "text": [
      "Seguidores de SeltekCo: 2872\n",
      "Seguidores de AwesomeEK: 14976\n",
      "Seguidores de WorldTruthTV: 14534\n",
      "Seguidores de achoohorsey: 250\n",
      "Seguidores de askMICA: 13\n",
      "Seguidores de rgbrody: 4328\n",
      "Seguidores de NeonNettle: 45646\n",
      "Seguidores de yanagikawaryo: 33\n",
      "Seguidores de kickyourace: 780\n",
      "Seguidores de barntiques859: 36131\n",
      "Seguidores de obamolizer: 2284\n",
      "Seguidores de karen5651: 51\n",
      "Seguidores de CoyotlCompany: 2132\n",
      "Seguidores de News1Lightning: 1212\n",
      "Seguidores de DTrumpThe45th: 874\n",
      "Seguidores de selina624687756: 1\n",
      "Seguidores de elephantaddr: 50916\n",
      "Seguidores de marcamktdigital: 620\n",
      "Seguidores de MadamEarth: 5354\n",
      "Seguidores de DonJamesWorst: 1377\n",
      "Seguidores de Mary_Burgess: 26250\n",
      "Seguidores de dance_teamtry: 1343\n",
      "Seguidores de normanrayburn: 1058\n",
      "Seguidores de testisfidelis: 20638\n",
      "Seguidores de RonsTees: 197\n"
     ]
    }
   ],
   "source": [
    "for i in range(len(df['screen_name'].value_counts())):\n",
    "    if i < 25:\n",
    "        user = df['screen_name'].value_counts().index[i]\n",
    "        print(\"Seguidores de {}:\".format(user),df.loc[(df['screen_name'] == user)]['followers'].iloc[0])\n",
    "    "
   ]
  },
  {
   "cell_type": "markdown",
   "metadata": {},
   "source": [
    "### Sacar seguidores con Twint \n",
    "#### Not working"
   ]
  },
  {
   "cell_type": "code",
   "execution_count": 1,
   "metadata": {},
   "outputs": [
    {
     "name": "stdout",
     "output_type": "stream",
     "text": [
      "OfeliasHeaven\n",
      "Followers of OfeliasHeaven collected\n",
      "['spiritbride', 'HisZigness', 'JosephAlem1', 'JakeRio53', 'gengstr129', 'geohays', 'Newday50', 'mark03366669', 'glennwa1', 'sydney2m', 'WillisAngeleyes', 'mpukita', 'Truth_Mortar', 'ProudAm19453291', 'Janice4189', 'gliffcoff', 'Chicagobluesgrl', 'BlankFrank8', 'BubblyMoments', 'MelanieMetz10']\n",
      "lorn_cramer\n"
     ]
    },
    {
     "name": "stderr",
     "output_type": "stream",
     "text": [
      "CRITICAL:root:twint.feed:Follow:IndexError\n"
     ]
    },
    {
     "name": "stdout",
     "output_type": "stream",
     "text": [
      "Followers of lorn_cramer collected\n",
      "['spiritbride', 'HisZigness', 'JosephAlem1', 'JakeRio53', 'gengstr129', 'geohays', 'Newday50', 'mark03366669', 'glennwa1', 'sydney2m', 'WillisAngeleyes', 'mpukita', 'Truth_Mortar', 'ProudAm19453291', 'Janice4189', 'gliffcoff', 'Chicagobluesgrl', 'BlankFrank8', 'BubblyMoments', 'MelanieMetz10']\n"
     ]
    }
   ],
   "source": [
    "import twint\n",
    "import pandas as pd\n",
    "\n",
    "import nest_asyncio\n",
    "nest_asyncio.apply()\n",
    "\n",
    "df = pd.read_csv('./gen/nodos/nodos_366noticias.csv')\n",
    "df['name'][0]\n",
    "\n",
    "def get_followers_twint(username):\n",
    "    c = twint.Config()\n",
    "    c.Username = username\n",
    "    c.Hide_output = True\n",
    "    c.Store_object = True\n",
    "    c.Limit = 10\n",
    "    twint.run.Followers(c)\n",
    "    print('Followers of {} collected'.format(username))\n",
    "    twint.output.clean_follow_list()\n",
    "    return twint.output.follows_list\n",
    "\n",
    "f = open(\"./gen/edges/intermediates/prueba_twint.csv\", \"w\")\n",
    "for i, v in enumerate(df['name']):\n",
    "    print(v)\n",
    "    followers = []\n",
    "    \n",
    "    followers = get_followers_twint(v)\n",
    "    print(followers)\n",
    "    f.write(\"{},\".format(v))\n",
    "    for j,v1 in enumerate(followers):\n",
    "        f.write(\"{},\".format(v1))\n",
    "    f.write('\\n')\n",
    "    if i == 1:\n",
    "        break\n",
    "f.close()"
   ]
  },
  {
   "cell_type": "markdown",
   "metadata": {},
   "source": [
    "# Grafo Dinamico de Personas(Tweets) - Noticias"
   ]
  },
  {
   "cell_type": "code",
   "execution_count": 2,
   "metadata": {},
   "outputs": [
    {
     "data": {
      "text/html": [
       "<div>\n",
       "<style scoped>\n",
       "    .dataframe tbody tr th:only-of-type {\n",
       "        vertical-align: middle;\n",
       "    }\n",
       "\n",
       "    .dataframe tbody tr th {\n",
       "        vertical-align: top;\n",
       "    }\n",
       "\n",
       "    .dataframe thead th {\n",
       "        text-align: right;\n",
       "    }\n",
       "</style>\n",
       "<table border=\"1\" class=\"dataframe\">\n",
       "  <thead>\n",
       "    <tr style=\"text-align: right;\">\n",
       "      <th></th>\n",
       "      <th>Unnamed: 0</th>\n",
       "      <th>tweet_ids</th>\n",
       "      <th>created_at</th>\n",
       "      <th>favorite_count</th>\n",
       "      <th>retweet_count</th>\n",
       "      <th>id_noticia</th>\n",
       "      <th>index</th>\n",
       "      <th>screen_name</th>\n",
       "      <th>user_created_at</th>\n",
       "      <th>followers</th>\n",
       "      <th>friends</th>\n",
       "      <th>verified</th>\n",
       "    </tr>\n",
       "  </thead>\n",
       "  <tbody>\n",
       "    <tr>\n",
       "      <td>0</td>\n",
       "      <td>0</td>\n",
       "      <td>937349434668498944</td>\n",
       "      <td>20171203155454</td>\n",
       "      <td>0</td>\n",
       "      <td>0</td>\n",
       "      <td>politifact15014</td>\n",
       "      <td>0</td>\n",
       "      <td>OfeliasHeaven</td>\n",
       "      <td>20151113033128</td>\n",
       "      <td>707</td>\n",
       "      <td>1031</td>\n",
       "      <td>False</td>\n",
       "    </tr>\n",
       "    <tr>\n",
       "      <td>1</td>\n",
       "      <td>1</td>\n",
       "      <td>937379378006282240</td>\n",
       "      <td>20171203175354</td>\n",
       "      <td>0</td>\n",
       "      <td>0</td>\n",
       "      <td>politifact15014</td>\n",
       "      <td>0</td>\n",
       "      <td>lorn_cramer</td>\n",
       "      <td>20150213234944</td>\n",
       "      <td>13</td>\n",
       "      <td>103</td>\n",
       "      <td>False</td>\n",
       "    </tr>\n",
       "    <tr>\n",
       "      <td>2</td>\n",
       "      <td>2</td>\n",
       "      <td>937380068590055425</td>\n",
       "      <td>20171203175638</td>\n",
       "      <td>0</td>\n",
       "      <td>0</td>\n",
       "      <td>politifact15014</td>\n",
       "      <td>0</td>\n",
       "      <td>lorn_cramer</td>\n",
       "      <td>20150213234944</td>\n",
       "      <td>13</td>\n",
       "      <td>103</td>\n",
       "      <td>False</td>\n",
       "    </tr>\n",
       "    <tr>\n",
       "      <td>3</td>\n",
       "      <td>3</td>\n",
       "      <td>937387493451862016</td>\n",
       "      <td>20171203182608</td>\n",
       "      <td>28</td>\n",
       "      <td>18</td>\n",
       "      <td>politifact15014</td>\n",
       "      <td>0</td>\n",
       "      <td>lupash7</td>\n",
       "      <td>20140903004535</td>\n",
       "      <td>22662</td>\n",
       "      <td>17769</td>\n",
       "      <td>False</td>\n",
       "    </tr>\n",
       "    <tr>\n",
       "      <td>4</td>\n",
       "      <td>4</td>\n",
       "      <td>937406789686980608</td>\n",
       "      <td>20171203194249</td>\n",
       "      <td>1</td>\n",
       "      <td>1</td>\n",
       "      <td>politifact15014</td>\n",
       "      <td>0</td>\n",
       "      <td>yojudenz</td>\n",
       "      <td>20130513041018</td>\n",
       "      <td>23687</td>\n",
       "      <td>25165</td>\n",
       "      <td>False</td>\n",
       "    </tr>\n",
       "  </tbody>\n",
       "</table>\n",
       "</div>"
      ],
      "text/plain": [
       "   Unnamed: 0           tweet_ids      created_at  favorite_count  \\\n",
       "0           0  937349434668498944  20171203155454               0   \n",
       "1           1  937379378006282240  20171203175354               0   \n",
       "2           2  937380068590055425  20171203175638               0   \n",
       "3           3  937387493451862016  20171203182608              28   \n",
       "4           4  937406789686980608  20171203194249               1   \n",
       "\n",
       "   retweet_count       id_noticia  index    screen_name  user_created_at  \\\n",
       "0              0  politifact15014      0  OfeliasHeaven   20151113033128   \n",
       "1              0  politifact15014      0    lorn_cramer   20150213234944   \n",
       "2              0  politifact15014      0    lorn_cramer   20150213234944   \n",
       "3             18  politifact15014      0        lupash7   20140903004535   \n",
       "4              1  politifact15014      0       yojudenz   20130513041018   \n",
       "\n",
       "   followers  friends  verified  \n",
       "0        707     1031     False  \n",
       "1         13      103     False  \n",
       "2         13      103     False  \n",
       "3      22662    17769     False  \n",
       "4      23687    25165     False  "
      ]
     },
     "execution_count": 2,
     "metadata": {},
     "output_type": "execute_result"
    }
   ],
   "source": [
    "import pandas as pd\n",
    "\n",
    "df = pd.read_csv('./gen/full_df_fake.csv')\n",
    "df.head()"
   ]
  },
  {
   "cell_type": "code",
   "execution_count": null,
   "metadata": {},
   "outputs": [],
   "source": []
  },
  {
   "cell_type": "code",
   "execution_count": null,
   "metadata": {},
   "outputs": [],
   "source": []
  },
  {
   "cell_type": "code",
   "execution_count": null,
   "metadata": {},
   "outputs": [],
   "source": []
  }
 ],
 "metadata": {
  "kernelspec": {
   "display_name": "Python 3",
   "language": "python",
   "name": "python3"
  },
  "language_info": {
   "codemirror_mode": {
    "name": "ipython",
    "version": 3
   },
   "file_extension": ".py",
   "mimetype": "text/x-python",
   "name": "python",
   "nbconvert_exporter": "python",
   "pygments_lexer": "ipython3",
   "version": "3.7.4"
  }
 },
 "nbformat": 4,
 "nbformat_minor": 4
}
