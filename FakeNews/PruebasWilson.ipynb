{
 "cells": [
  {
   "cell_type": "markdown",
   "metadata": {},
   "source": [
    "# Analisis de FakeNews en Twitter"
   ]
  },
  {
   "cell_type": "markdown",
   "metadata": {},
   "source": [
    "### Configuracion Inicial y Pruebas de Tweepy "
   ]
  },
  {
   "cell_type": "code",
   "execution_count": 2,
   "metadata": {},
   "outputs": [],
   "source": [
    "ids = [14429823,\n",
    "274891222,\n",
    "1674315427,\n",
    "1955132936,\n",
    "3580248555,\n",
    "1618641848,\n",
    "70156027,\n",
    "50434933,\n",
    "800086706678419456,\n",
    "109441206,\n",
    "867908994,\n",
    "561654065,\n",
    "14828860,\n",
    "379962842,\n",
    "817661098988019712,\n",
    "4563974475,\n",
    "2834620568,\n",
    "630673071,\n",
    "34991028,\n",
    "1345822466,\n",
    "121656624,\n",
    "547969112,\n",
    "166751745]"
   ]
  },
  {
   "cell_type": "code",
   "execution_count": 3,
   "metadata": {
    "scrolled": true
   },
   "outputs": [
    {
     "name": "stdout",
     "output_type": "stream",
     "text": [
      "veteranhank\n",
      "bfraser747\n",
      "bbusa617\n",
      "varepall\n",
      "DeepStateExpose\n",
      "ChristieC733\n",
      "EmfingerSScout\n",
      "LifeNewsHQ\n",
      "1776Stonewall\n",
      "RWSalt\n",
      "XNSNews\n",
      "PhxKen\n",
      "michaeljohns\n",
      "billpostmus\n",
      "Education4Libs\n",
      "Poruje\n",
      "JBaker31826004\n",
      "knahcsca\n",
      "os4185\n",
      "ggeett37aaa\n",
      "PJStrikeForce\n",
      "LessGovMoreFun\n",
      "RyanAFournier\n"
     ]
    }
   ],
   "source": [
    "import tweepy\n",
    "\n",
    "consumer_key = 'XRtIm1Mnhk3ktpacwMzeGz1V0'\n",
    "consumer_secret = 'kQoQpgLNsgGJ5VBPEqs3II92BvjeriXOdLWAVoeoY84t30TNgE'\n",
    "access_token = '1633497956-vgq9BrDZmihmPPHexldU9oObEchUbhbChonPwYu'\n",
    "access_token_secret = 'mFA16Mz93Iz4WTcoADchemO8lzPC4SB1fgaamWejkohVA'\n",
    "\n",
    "auth = tweepy.OAuthHandler(consumer_key, consumer_secret)\n",
    "auth.set_access_token(access_token, access_token_secret)\n",
    "\n",
    "api = tweepy.API(auth, wait_on_rate_limit=True, wait_on_rate_limit_notify=True)\n",
    "\n",
    "#Comprobar que funciona la api\n",
    "#status = api.get_status('937349434668498944')#Status de un tweet\n",
    "#print(status.user.id) #ID del user que ha twitteado\n",
    "for i in range(len(ids)):\n",
    "    user = api.get_user(ids[i]).screen_name #screen name (nombre sin '@')\n",
    "    print(user)\n",
    "#api.get_user(user).created_at #Creacion de la cuenta del usuario"
   ]
  },
  {
   "cell_type": "markdown",
   "metadata": {},
   "source": [
    "## Funciones para la API de Twitter"
   ]
  },
  {
   "cell_type": "code",
   "execution_count": 3,
   "metadata": {},
   "outputs": [],
   "source": [
    "import time\n",
    "import tweepy\n",
    "import pandas as pd\n",
    "import matplotlib.pyplot as plt\n",
    "\n",
    "def get_tweet_status(tweet_id):\n",
    "    '''\n",
    "    Devuelve un objeto status con todos los datos de un tweet\n",
    "    '''\n",
    "    try:\n",
    "        return api.get_status(tweet_id)\n",
    "    except tweepy.TweepError as e:\n",
    "        return 'SuspendedAccount'\n",
    "\n",
    "def get_user_by_id(id):\n",
    "    '''\n",
    "    Devuelve un objeto user a traves del id del user\n",
    "    '''\n",
    "    return api.get_user(id)\n",
    "\n",
    "def get_screen_name(id):\n",
    "    try:\n",
    "        user = get_user_by_id(id)\n",
    "        screen_name = user.screen_name\n",
    "        return screen_name\n",
    "    except tweepy.TweepError as e:\n",
    "        return ('SuspendedAccount')    \n",
    "    \n",
    "def get_screen_name_from_tweet(tweet_id):\n",
    "    try:\n",
    "        status = api.get_status(tweet_id)\n",
    "        user = get_user_by_id(status.user.id)\n",
    "        screen_name = user.screen_name\n",
    "        return screen_name\n",
    "    except tweepy.TweepError as e:\n",
    "        return ('SuspendedAccount')    \n",
    "\n",
    "def get_followers_page(screen_name):\n",
    "    '''\n",
    "    Devuelve los ids de los usuarios que sigue un user, screen_name es el nombre de usuario sin el '@'\n",
    "    ej @NelsonMandela -> NelsonMandela\n",
    "    '''\n",
    "    ids = []\n",
    "    for page in tweepy.Cursor(api.followers_ids, screen_name=screen_name).pages():\n",
    "        ids.extend(page)\n",
    "        #time.sleep(60)\n",
    "    return ids\n",
    "\n",
    "\n",
    "\n",
    "def get_followers_limited(screen_name, total):\n",
    "    '''\n",
    "    Devuelve los ids de los usuarios que sigue un user, screen_name es el nombre de usuario sin el '@'\n",
    "    ej @NelsonMandela -> NelsonMandela\n",
    "    Obtiene solo un numero de ids de usuarios indicado en el parametro total\n",
    "    '''\n",
    "    ids = []\n",
    "    for page in tweepy.Cursor(api.followers_ids, screen_name=screen_name).items(total):\n",
    "        ids.append(page)\n",
    "    return ids\n",
    "\n",
    "def get_followers_from_tweet_id(tweet_id, total = 0):\n",
    "    '''\n",
    "    Pasandole el id de un tweet obtenemos todos sus seguidores,\n",
    "    se le puede pasar el parametro total y obtener solamente un numero concreto de ids\n",
    "    '''\n",
    "    user_id = get_tweet_status(tweet_id).user.id\n",
    "    screen_name = get_user_by_id(user_id).screen_name\n",
    "    if total == 0:\n",
    "        followers_ids = get_followers_page(screen_name)\n",
    "    else:\n",
    "        followers_ids = get_followers_limited(screen_name,total)\n",
    "    return followers_ids\n",
    "    \n",
    "    \n",
    "\n",
    "def get_tweets(num_noticias):\n",
    "    '''\n",
    "    Le pasamos el numero de noticias de las cuales queremos obtener los tweets_ids\n",
    "    Con el DataFrame de Pandas separamos los tweets de una misma noticia\n",
    "    Devuelve un array de [titulos, array(tweets_ids)]\n",
    "    '''\n",
    "    df = pd.read_csv('./data/politifact_fake.csv') \n",
    "    #Esto se puede cambiar por otro dataset (ej: ./data/politifact_real.csv), pero de momento trabajamos con este\n",
    "    df['tweet_ids'][0].split('\\t')\n",
    "    \n",
    "    titulo = []\n",
    "    tweets = []\n",
    "    i = 0\n",
    "    \n",
    "    for tweet in df['tweet_ids']:\n",
    "        if i < num_noticias:\n",
    "            array_tweets = str(tweet).split('\\t')\n",
    "            #Se puede cambiar a que tenga al menos 5 o 10 tweets para probar\n",
    "            if(len(array_tweets) > 1 and len(array_tweets) < 2000): #Solo si tiene algun tweet lo añadimos, 1 elemento es NaN\n",
    "                tweets.append(array_tweets)\n",
    "                titulo.append(df['title'][i])\n",
    "                i = i+1\n",
    "    noticias = [titulo, tweets]\n",
    "    return noticias "
   ]
  },
  {
   "cell_type": "code",
   "execution_count": 3,
   "metadata": {},
   "outputs": [
    {
     "name": "stdout",
     "output_type": "stream",
     "text": [
      "OfeliasHeaven\n",
      "4219197432\n",
      "OfeliasHeaven\n",
      "[29036789, 1425690121, 1208256837889482752, 1159961359, 551281483, 438051989, 730820197939093504, 404472897, 993614707222294528, 27443191]\n",
      "Noticia:  BREAKING: First NFL Team Declares Bankruptcy Over Kneeling Thugs \n",
      "Tweet:  937349434668498944\n"
     ]
    }
   ],
   "source": [
    "import numpy as np\n",
    "\n",
    "#Ejemplos de prueba\n",
    "print(get_screen_name_from_tweet('937349434668498944'))\n",
    "print(get_tweet_status('937349434668498944').user.id)\n",
    "print(get_user_by_id('4219197432').screen_name)\n",
    "print(get_followers_limited('OfeliasHeaven',10))\n",
    "#print(get_followers_from_tweet_id('937349434668498944')\n",
    "noticias = get_tweets(10)\n",
    "print(\"Noticia: \", noticias[0][0],\"\\nTweet: \",noticias[1][0][0]) #Primer tweet de la primera noticias"
   ]
  },
  {
   "cell_type": "code",
   "execution_count": 4,
   "metadata": {},
   "outputs": [
    {
     "name": "stdout",
     "output_type": "stream",
     "text": [
      "94683\n",
      "Num Maximo de Tweets: 1915 | Noticia Nº:  366\n",
      "Nº Noticias en rangos de 200: [239.  51.  22.  22.   6.  18.   3.   3.   1.   2.]\n"
     ]
    },
    {
     "data": {
      "image/png": "[encoded data removed]",
      "text/plain": [
       "<Figure size 432x288 with 1 Axes>"
      ]
     },
     "metadata": {
      "needs_background": "light"
     },
     "output_type": "display_data"
    }
   ],
   "source": [
    "noticias = get_tweets(num_noticias=367)\n",
    "total_tweets = 0\n",
    "max_tweet = 0\n",
    "number = 0\n",
    "arrayPlot = np.zeros(10)\n",
    "for i in range(len(noticias[1])):\n",
    "    total_tweets = total_tweets + len(noticias[1][i])\n",
    "    arrayPlot[len(noticias[1][i]) // 200] += 1\n",
    "    if(max_tweet < len(noticias[1][i])):\n",
    "        max_tweet = len(noticias[1][i])\n",
    "        number = i                \n",
    "print(total_tweets)\n",
    "print(\"Num Maximo de Tweets:\", max_tweet, \"| Noticia Nº: \", i)\n",
    "print(\"Nº Noticias en rangos de 200:\",arrayPlot)\n",
    "\n",
    "plt.bar(range(10),arrayPlot)\n",
    "plt.xticks(range(0,10,2), ['0-200','400-600','800-1000','1200-1400','1600-1800'],rotation=45)\n",
    "plt.ylabel(\"Num Noticias\")\n",
    "plt.xlabel(\"Total Tweets\")\n",
    "plt.show()"
   ]
  },
  {
   "cell_type": "markdown",
   "metadata": {},
   "source": [
    "Vemos que la mayoria de noticias no supera los 200 twits, y que muy pocas noticias han tenido muchos twits\n",
    "\n",
    "### Intento de sacar aristas\n",
    "(No es correcto)"
   ]
  },
  {
   "cell_type": "code",
   "execution_count": 5,
   "metadata": {},
   "outputs": [
    {
     "name": "stdout",
     "output_type": "stream",
     "text": [
      "                 0  1  2     3     4     5     6     7     8\n",
      "OfeliasHeaven    A  b  d     1     d     f     t     r     u\n",
      "lorn_cramer      1  2  3  None  None  None  None  None  None\n",
      "lupash7          A  b  d     1  None  None  None  None  None\n",
      "yojudenz         1  2  3  None  None  None  None  None  None\n",
      "WilliamNerbonne  A  b  d     1  None  None  None  None  None\n"
     ]
    },
    {
     "data": {
      "text/html": [
       "<div>\n",
       "<style scoped>\n",
       "    .dataframe tbody tr th:only-of-type {\n",
       "        vertical-align: middle;\n",
       "    }\n",
       "\n",
       "    .dataframe tbody tr th {\n",
       "        vertical-align: top;\n",
       "    }\n",
       "\n",
       "    .dataframe thead th {\n",
       "        text-align: right;\n",
       "    }\n",
       "</style>\n",
       "<table border=\"1\" class=\"dataframe\">\n",
       "  <thead>\n",
       "    <tr style=\"text-align: right;\">\n",
       "      <th></th>\n",
       "      <th>screen_name</th>\n",
       "      <th>0</th>\n",
       "      <th>1</th>\n",
       "      <th>2</th>\n",
       "      <th>3</th>\n",
       "      <th>4</th>\n",
       "      <th>5</th>\n",
       "      <th>6</th>\n",
       "      <th>7</th>\n",
       "      <th>8</th>\n",
       "    </tr>\n",
       "  </thead>\n",
       "  <tbody>\n",
       "    <tr>\n",
       "      <td>0</td>\n",
       "      <td>OfeliasHeaven</td>\n",
       "      <td>A</td>\n",
       "      <td>b</td>\n",
       "      <td>d</td>\n",
       "      <td>1.0</td>\n",
       "      <td>d</td>\n",
       "      <td>f</td>\n",
       "      <td>t</td>\n",
       "      <td>r</td>\n",
       "      <td>u</td>\n",
       "    </tr>\n",
       "    <tr>\n",
       "      <td>1</td>\n",
       "      <td>lorn_cramer</td>\n",
       "      <td>1</td>\n",
       "      <td>2</td>\n",
       "      <td>3</td>\n",
       "      <td>NaN</td>\n",
       "      <td>NaN</td>\n",
       "      <td>NaN</td>\n",
       "      <td>NaN</td>\n",
       "      <td>NaN</td>\n",
       "      <td>NaN</td>\n",
       "    </tr>\n",
       "    <tr>\n",
       "      <td>2</td>\n",
       "      <td>lupash7</td>\n",
       "      <td>A</td>\n",
       "      <td>b</td>\n",
       "      <td>d</td>\n",
       "      <td>1.0</td>\n",
       "      <td>NaN</td>\n",
       "      <td>NaN</td>\n",
       "      <td>NaN</td>\n",
       "      <td>NaN</td>\n",
       "      <td>NaN</td>\n",
       "    </tr>\n",
       "    <tr>\n",
       "      <td>3</td>\n",
       "      <td>yojudenz</td>\n",
       "      <td>1</td>\n",
       "      <td>2</td>\n",
       "      <td>3</td>\n",
       "      <td>NaN</td>\n",
       "      <td>NaN</td>\n",
       "      <td>NaN</td>\n",
       "      <td>NaN</td>\n",
       "      <td>NaN</td>\n",
       "      <td>NaN</td>\n",
       "    </tr>\n",
       "    <tr>\n",
       "      <td>4</td>\n",
       "      <td>WilliamNerbonne</td>\n",
       "      <td>A</td>\n",
       "      <td>b</td>\n",
       "      <td>d</td>\n",
       "      <td>1.0</td>\n",
       "      <td>NaN</td>\n",
       "      <td>NaN</td>\n",
       "      <td>NaN</td>\n",
       "      <td>NaN</td>\n",
       "      <td>NaN</td>\n",
       "    </tr>\n",
       "    <tr>\n",
       "      <td>5</td>\n",
       "      <td>saveusrepublic2</td>\n",
       "      <td>1</td>\n",
       "      <td>2</td>\n",
       "      <td>3</td>\n",
       "      <td>NaN</td>\n",
       "      <td>NaN</td>\n",
       "      <td>NaN</td>\n",
       "      <td>NaN</td>\n",
       "      <td>NaN</td>\n",
       "      <td>NaN</td>\n",
       "    </tr>\n",
       "    <tr>\n",
       "      <td>6</td>\n",
       "      <td>starchaser57</td>\n",
       "      <td>A</td>\n",
       "      <td>b</td>\n",
       "      <td>d</td>\n",
       "      <td>1.0</td>\n",
       "      <td>NaN</td>\n",
       "      <td>NaN</td>\n",
       "      <td>NaN</td>\n",
       "      <td>NaN</td>\n",
       "      <td>NaN</td>\n",
       "    </tr>\n",
       "    <tr>\n",
       "      <td>7</td>\n",
       "      <td>Ettan1945</td>\n",
       "      <td>1</td>\n",
       "      <td>2</td>\n",
       "      <td>3</td>\n",
       "      <td>NaN</td>\n",
       "      <td>NaN</td>\n",
       "      <td>NaN</td>\n",
       "      <td>NaN</td>\n",
       "      <td>NaN</td>\n",
       "      <td>NaN</td>\n",
       "    </tr>\n",
       "    <tr>\n",
       "      <td>8</td>\n",
       "      <td>ThePipeStore</td>\n",
       "      <td>A</td>\n",
       "      <td>b</td>\n",
       "      <td>d</td>\n",
       "      <td>1.0</td>\n",
       "      <td>NaN</td>\n",
       "      <td>NaN</td>\n",
       "      <td>NaN</td>\n",
       "      <td>NaN</td>\n",
       "      <td>NaN</td>\n",
       "    </tr>\n",
       "    <tr>\n",
       "      <td>9</td>\n",
       "      <td>bronwyn1140</td>\n",
       "      <td>1</td>\n",
       "      <td>2</td>\n",
       "      <td>3</td>\n",
       "      <td>NaN</td>\n",
       "      <td>NaN</td>\n",
       "      <td>NaN</td>\n",
       "      <td>NaN</td>\n",
       "      <td>NaN</td>\n",
       "      <td>NaN</td>\n",
       "    </tr>\n",
       "  </tbody>\n",
       "</table>\n",
       "</div>"
      ],
      "text/plain": [
       "       screen_name  0  1  2    3    4    5    6    7    8\n",
       "0    OfeliasHeaven  A  b  d  1.0    d    f    t    r    u\n",
       "1      lorn_cramer  1  2  3  NaN  NaN  NaN  NaN  NaN  NaN\n",
       "2          lupash7  A  b  d  1.0  NaN  NaN  NaN  NaN  NaN\n",
       "3         yojudenz  1  2  3  NaN  NaN  NaN  NaN  NaN  NaN\n",
       "4  WilliamNerbonne  A  b  d  1.0  NaN  NaN  NaN  NaN  NaN\n",
       "5  saveusrepublic2  1  2  3  NaN  NaN  NaN  NaN  NaN  NaN\n",
       "6     starchaser57  A  b  d  1.0  NaN  NaN  NaN  NaN  NaN\n",
       "7        Ettan1945  1  2  3  NaN  NaN  NaN  NaN  NaN  NaN\n",
       "8     ThePipeStore  A  b  d  1.0  NaN  NaN  NaN  NaN  NaN\n",
       "9      bronwyn1140  1  2  3  NaN  NaN  NaN  NaN  NaN  NaN"
      ]
     },
     "execution_count": 5,
     "metadata": {},
     "output_type": "execute_result"
    }
   ],
   "source": [
    "df = pd.read_csv('./gen/nodos/nodos_1noticias.csv')\n",
    "df = df[df.name != 'SuspendedAccount']\n",
    "edgesDict = {}\n",
    "\n",
    "for i, screen_name in enumerate(df['name']):\n",
    "    followers = [1,2,3]\n",
    "    #followers = get_followers_limited(screen_name,100)\n",
    "    if i % 2 == 0:\n",
    "        followers = [\"A\", 'b', 'd', '1']\n",
    "    if i % 10 == 0:\n",
    "        followers = [\"A\", 'b', 'd', '1', 'd', 'f','t', 'r', 'u']\n",
    "    edgesDict[screen_name] = followers\n",
    "    \n",
    "edges = pd.DataFrame.from_dict(edgesDict,orient='index')\n",
    "edges.rename( columns={'Unnamed: 0':'new column name'}, inplace=True )\n",
    "print(edges.head())\n",
    "edges.to_csv('./output/pruebas/prueba.csv')\n",
    "\n",
    "edgesTest = pd.read_csv('./output/pruebas/prueba.csv')\n",
    "edgesTest.rename( columns={'Unnamed: 0':'screen_name'}, inplace=True )\n",
    "edgesTest.head(10)"
   ]
  },
  {
   "cell_type": "markdown",
   "metadata": {},
   "source": [
    "Despues de generar los csv de los usuarios y seguidores,\n",
    "Generamos una lista de adyacencia que se importa correctamente en Gephi\n",
    "\n",
    "El formato de esto sera:\n",
    "source, target, target, ... , target\n",
    "\n",
    "Ej:\n",
    "OfeliasHeaven, 468544, 891484, 57847894 \n",
    "\n",
    "De esta manera podemos importar directamente el archivo sin que nos de problemas"
   ]
  },
  {
   "cell_type": "code",
   "execution_count": 6,
   "metadata": {},
   "outputs": [],
   "source": [
    "#Sacamos de las listas de followers generadas,\n",
    "#un archivo que Gephi pueda leer\n",
    "\n",
    "df = pd.read_csv('./gen/edges/edges_72users.csv',index_col=0,delimiter=\",\")\n",
    "\n",
    "#Eliminamos los corchetes que tienen\n",
    "for i in range(len(df['followers_ids'])):\n",
    "    s1 = df['followers_ids'][i].replace(\"[\", \"\")\n",
    "    s2 = s1.replace(\"]\", \"\")\n",
    "    df['followers_ids'][i] = s2\n",
    "\n",
    "#Esto realmente no hace falta, es simplemente para guardar el paso intermedio de uno a otro\n",
    "df.to_csv('./gen/edges/intermediates/edges_users_prueba.csv')\n",
    "\n",
    "f = open(\"./gen/edges/adjlist/adjlist_72users.csv\", \"w\")\n",
    "followers = []\n",
    "#Y juntamos el nodo inicial, con su lista de seguidores\n",
    "for i in range(len(df['screen_name'])):\n",
    "    str_format = ''\n",
    "    str_format = df['screen_name'][i] + ', ' +df['followers_ids'][i]\n",
    "    followers.append(str(str_format))\n",
    "    f.write(followers[i])\n",
    "    f.write('\\n')\n",
    "f.close()"
   ]
  },
  {
   "cell_type": "code",
   "execution_count": 4,
   "metadata": {
    "scrolled": true
   },
   "outputs": [],
   "source": [
    "#Generates all adjacency lists from the others csv\n",
    "import pandas as pd\n",
    "for i in range(72):\n",
    "    df = pd.read_csv('./gen/edges/edges_{}users.csv'.format(i+1),index_col=0,delimiter=\",\")\n",
    "\n",
    "    #Eliminamos los corchetes que tienen\n",
    "    for i in range(len(df['followers_ids'])):\n",
    "        s1 = df['followers_ids'][i].replace(\"[\", \"\")\n",
    "        s2 = s1.replace(\"]\", \"\")\n",
    "        df['followers_ids'][i] = s2\n",
    "\n",
    "    #Esto realmente no hace falta, es simplemente para guardar el paso intermedio de uno a otro\n",
    "    df.to_csv('./gen/edges/intermediates/edges_users_prueba.csv')\n",
    "    f = open(\"./gen/edges/adjlist/adjlist_{}users.csv\".format(i+1), \"w\")\n",
    "    followers = []\n",
    "    #Y juntamos el nodo inicial, con su lista de seguidores\n",
    "    for i in range(len(df['screen_name'])):\n",
    "        str_format = ''\n",
    "        str_format = df['screen_name'][i] + ', ' +df['followers_ids'][i]\n",
    "        followers.append(str(str_format))\n",
    "        f.write(followers[i])\n",
    "        f.write('\\n')\n",
    "    f.close()"
   ]
  },
  {
   "cell_type": "markdown",
   "metadata": {},
   "source": [
    "## Atributos de objeto Status"
   ]
  },
  {
   "cell_type": "code",
   "execution_count": 8,
   "metadata": {},
   "outputs": [
    {
     "name": "stdout",
     "output_type": "stream",
     "text": [
      "432\n"
     ]
    }
   ],
   "source": [
    "df = pd.read_csv('./data/politifact_fake.csv')\n",
    "print(len(df))"
   ]
  },
  {
   "cell_type": "code",
   "execution_count": 9,
   "metadata": {},
   "outputs": [],
   "source": [
    "tweets = df['tweet_ids'][367].split('\\t')"
   ]
  },
  {
   "cell_type": "code",
   "execution_count": 10,
   "metadata": {
    "scrolled": true
   },
   "outputs": [
    {
     "name": "stdout",
     "output_type": "stream",
     "text": [
      "913439008256086016\n"
     ]
    }
   ],
   "source": [
    "print(tweets[0])\n",
    "status = get_tweet_status(tweets[0])\n",
    "#status = get_tweet_status('1210618299022794752')"
   ]
  },
  {
   "cell_type": "code",
   "execution_count": 11,
   "metadata": {},
   "outputs": [
    {
     "name": "stdout",
     "output_type": "stream",
     "text": [
      "2017-09-28 16:23:25\n"
     ]
    },
    {
     "data": {
      "text/plain": [
       "'20170928162325'"
      ]
     },
     "execution_count": 11,
     "metadata": {},
     "output_type": "execute_result"
    }
   ],
   "source": [
    "#year, month, day, hour, minute, second, microsecond\n",
    "print(status.created_at)\n",
    "status.created_at.strftime('%Y%m%d%H%M%S')"
   ]
  },
  {
   "cell_type": "code",
   "execution_count": 12,
   "metadata": {},
   "outputs": [
    {
     "name": "stdout",
     "output_type": "stream",
     "text": [
      "Antes\n"
     ]
    }
   ],
   "source": [
    "if '20170717133153' < '20171204152345':\n",
    "    print('Antes')"
   ]
  },
  {
   "cell_type": "code",
   "execution_count": 13,
   "metadata": {},
   "outputs": [
    {
     "data": {
      "text/plain": [
       "9"
      ]
     },
     "execution_count": 13,
     "metadata": {},
     "output_type": "execute_result"
    }
   ],
   "source": [
    "status.favorite_count"
   ]
  },
  {
   "cell_type": "code",
   "execution_count": 14,
   "metadata": {},
   "outputs": [
    {
     "data": {
      "text/plain": [
       "8"
      ]
     },
     "execution_count": 14,
     "metadata": {},
     "output_type": "execute_result"
    }
   ],
   "source": [
    "status.retweet_count"
   ]
  },
  {
   "cell_type": "code",
   "execution_count": 15,
   "metadata": {},
   "outputs": [],
   "source": [
    "status.in_reply_to_status_id_str"
   ]
  },
  {
   "cell_type": "code",
   "execution_count": 16,
   "metadata": {},
   "outputs": [],
   "source": [
    "status.in_reply_to_screen_name"
   ]
  },
  {
   "cell_type": "code",
   "execution_count": 17,
   "metadata": {},
   "outputs": [
    {
     "data": {
      "text/plain": [
       "datetime.datetime(2013, 4, 15, 20, 9, 11)"
      ]
     },
     "execution_count": 17,
     "metadata": {},
     "output_type": "execute_result"
    }
   ],
   "source": [
    "status.user.created_at"
   ]
  },
  {
   "cell_type": "code",
   "execution_count": 18,
   "metadata": {},
   "outputs": [
    {
     "data": {
      "text/plain": [
       "'CraigRozniecki'"
      ]
     },
     "execution_count": 18,
     "metadata": {},
     "output_type": "execute_result"
    }
   ],
   "source": [
    "status.user.screen_name"
   ]
  },
  {
   "cell_type": "code",
   "execution_count": 19,
   "metadata": {},
   "outputs": [
    {
     "data": {
      "text/plain": [
       "141497"
      ]
     },
     "execution_count": 19,
     "metadata": {},
     "output_type": "execute_result"
    }
   ],
   "source": [
    "status.user.favourites_count"
   ]
  },
  {
   "cell_type": "code",
   "execution_count": 20,
   "metadata": {},
   "outputs": [
    {
     "data": {
      "text/plain": [
       "113592"
      ]
     },
     "execution_count": 20,
     "metadata": {},
     "output_type": "execute_result"
    }
   ],
   "source": [
    "status.user.followers_count"
   ]
  },
  {
   "cell_type": "code",
   "execution_count": 21,
   "metadata": {},
   "outputs": [
    {
     "data": {
      "text/plain": [
       "113445"
      ]
     },
     "execution_count": 21,
     "metadata": {},
     "output_type": "execute_result"
    }
   ],
   "source": [
    "status.user.friends_count"
   ]
  },
  {
   "cell_type": "code",
   "execution_count": 22,
   "metadata": {},
   "outputs": [
    {
     "data": {
      "text/plain": [
       "631"
      ]
     },
     "execution_count": 22,
     "metadata": {},
     "output_type": "execute_result"
    }
   ],
   "source": [
    "status.user.listed_count"
   ]
  },
  {
   "cell_type": "code",
   "execution_count": 23,
   "metadata": {},
   "outputs": [
    {
     "data": {
      "text/plain": [
       "90839"
      ]
     },
     "execution_count": 23,
     "metadata": {},
     "output_type": "execute_result"
    }
   ],
   "source": [
    "status.user.statuses_count"
   ]
  },
  {
   "cell_type": "code",
   "execution_count": 24,
   "metadata": {},
   "outputs": [
    {
     "data": {
      "text/plain": [
       "False"
      ]
     },
     "execution_count": 24,
     "metadata": {},
     "output_type": "execute_result"
    }
   ],
   "source": [
    "status.user.verified"
   ]
  },
  {
   "cell_type": "code",
   "execution_count": 25,
   "metadata": {},
   "outputs": [
    {
     "data": {
      "text/plain": [
       "'Columbus, OH'"
      ]
     },
     "execution_count": 25,
     "metadata": {},
     "output_type": "execute_result"
    }
   ],
   "source": [
    "status.user.location"
   ]
  },
  {
   "cell_type": "markdown",
   "metadata": {},
   "source": [
    "### Prueba para comprobar si el df de nodos de crea correctamente"
   ]
  },
  {
   "cell_type": "code",
   "execution_count": 26,
   "metadata": {},
   "outputs": [
    {
     "data": {
      "text/html": [
       "<div>\n",
       "<style scoped>\n",
       "    .dataframe tbody tr th:only-of-type {\n",
       "        vertical-align: middle;\n",
       "    }\n",
       "\n",
       "    .dataframe tbody tr th {\n",
       "        vertical-align: top;\n",
       "    }\n",
       "\n",
       "    .dataframe thead th {\n",
       "        text-align: right;\n",
       "    }\n",
       "</style>\n",
       "<table border=\"1\" class=\"dataframe\">\n",
       "  <thead>\n",
       "    <tr style=\"text-align: right;\">\n",
       "      <th></th>\n",
       "      <th>tweet_ids</th>\n",
       "      <th>created_at</th>\n",
       "      <th>favorite_count</th>\n",
       "      <th>retweet_count</th>\n",
       "      <th>id_noticia</th>\n",
       "      <th>index</th>\n",
       "      <th>screen_name</th>\n",
       "      <th>user_created_at</th>\n",
       "      <th>followers</th>\n",
       "      <th>friends</th>\n",
       "      <th>verified</th>\n",
       "    </tr>\n",
       "  </thead>\n",
       "  <tbody>\n",
       "    <tr>\n",
       "      <td>0</td>\n",
       "      <td>937349434668498944</td>\n",
       "      <td>20171203155454</td>\n",
       "      <td>0</td>\n",
       "      <td>0</td>\n",
       "      <td>politifact15014</td>\n",
       "      <td>0</td>\n",
       "      <td>OfeliasHeaven</td>\n",
       "      <td>20151113033128</td>\n",
       "      <td>707</td>\n",
       "      <td>1030</td>\n",
       "      <td>False</td>\n",
       "    </tr>\n",
       "    <tr>\n",
       "      <td>1</td>\n",
       "      <td>937379378006282240</td>\n",
       "      <td>20171203175354</td>\n",
       "      <td>0</td>\n",
       "      <td>0</td>\n",
       "      <td>politifact15014</td>\n",
       "      <td>0</td>\n",
       "      <td>lorn_cramer</td>\n",
       "      <td>20150213234944</td>\n",
       "      <td>13</td>\n",
       "      <td>103</td>\n",
       "      <td>False</td>\n",
       "    </tr>\n",
       "    <tr>\n",
       "      <td>2</td>\n",
       "      <td>972666281441878016</td>\n",
       "      <td>20180311025127</td>\n",
       "      <td>0</td>\n",
       "      <td>2</td>\n",
       "      <td>politifact15156</td>\n",
       "      <td>1</td>\n",
       "      <td>obamolizer</td>\n",
       "      <td>20140927220504</td>\n",
       "      <td>2283</td>\n",
       "      <td>1117</td>\n",
       "      <td>False</td>\n",
       "    </tr>\n",
       "    <tr>\n",
       "      <td>3</td>\n",
       "      <td>972678396575559680</td>\n",
       "      <td>20180311033935</td>\n",
       "      <td>9</td>\n",
       "      <td>11</td>\n",
       "      <td>politifact15156</td>\n",
       "      <td>1</td>\n",
       "      <td>OneMoreTime64</td>\n",
       "      <td>20171211012717</td>\n",
       "      <td>3463</td>\n",
       "      <td>4570</td>\n",
       "      <td>False</td>\n",
       "    </tr>\n",
       "    <tr>\n",
       "      <td>4</td>\n",
       "      <td>929405740732870656</td>\n",
       "      <td>20171111174930</td>\n",
       "      <td>1</td>\n",
       "      <td>0</td>\n",
       "      <td>politifact14745</td>\n",
       "      <td>2</td>\n",
       "      <td>MarraccoNancy</td>\n",
       "      <td>20150902114855</td>\n",
       "      <td>1</td>\n",
       "      <td>30</td>\n",
       "      <td>False</td>\n",
       "    </tr>\n",
       "  </tbody>\n",
       "</table>\n",
       "</div>"
      ],
      "text/plain": [
       "            tweet_ids      created_at favorite_count retweet_count  \\\n",
       "0  937349434668498944  20171203155454              0             0   \n",
       "1  937379378006282240  20171203175354              0             0   \n",
       "2  972666281441878016  20180311025127              0             2   \n",
       "3  972678396575559680  20180311033935              9            11   \n",
       "4  929405740732870656  20171111174930              1             0   \n",
       "\n",
       "        id_noticia index    screen_name user_created_at followers friends  \\\n",
       "0  politifact15014     0  OfeliasHeaven  20151113033128       707    1030   \n",
       "1  politifact15014     0    lorn_cramer  20150213234944        13     103   \n",
       "2  politifact15156     1     obamolizer  20140927220504      2283    1117   \n",
       "3  politifact15156     1  OneMoreTime64  20171211012717      3463    4570   \n",
       "4  politifact14745     2  MarraccoNancy  20150902114855         1      30   \n",
       "\n",
       "  verified  \n",
       "0    False  \n",
       "1    False  \n",
       "2    False  \n",
       "3    False  \n",
       "4    False  "
      ]
     },
     "execution_count": 26,
     "metadata": {},
     "output_type": "execute_result"
    }
   ],
   "source": [
    "#Test to check if the df is building correctly\n",
    "import pandas as pd\n",
    "import tweepy\n",
    "\n",
    "consumer_key = 'XRtIm1Mnhk3ktpacwMzeGz1V0'\n",
    "consumer_secret = 'kQoQpgLNsgGJ5VBPEqs3II92BvjeriXOdLWAVoeoY84t30TNgE'\n",
    "access_token = '1633497956-vgq9BrDZmihmPPHexldU9oObEchUbhbChonPwYu'\n",
    "access_token_secret = 'mFA16Mz93Iz4WTcoADchemO8lzPC4SB1fgaamWejkohVA'\n",
    "\n",
    "auth = tweepy.AppAuthHandler(consumer_key, consumer_secret)\n",
    "#auth.set_access_token(access_token, access_token_secret)\n",
    "\n",
    "api = tweepy.API(auth, wait_on_rate_limit=True, wait_on_rate_limit_notify=True)\n",
    "\n",
    "def get_tweet_status(tweet_id):\n",
    "    '''\n",
    "    Devuelve un objeto status con todos los datos de un tweet\n",
    "    '''\n",
    "    try:\n",
    "        return api.get_status(tweet_id)\n",
    "    except tweepy.TweepError as e:\n",
    "        return 'SuspendedAccount'\n",
    "\n",
    "df_out = pd.DataFrame(columns=['tweet_ids','created_at','favorite_count','retweet_count', 'id_noticia', 'index', 'screen_name','user_created_at','followers', 'friends','verified' ])\n",
    "df = pd.read_csv('./data/politifact_fake.csv')\n",
    "\n",
    "index = 0\n",
    "#Hacemos los breaks para que solo nos saque un par de resultados de 4 noticias y no todo el contenido\n",
    "for i,v in enumerate(df['tweet_ids']):\n",
    "    if not isinstance(v, float): #Comprueba que tenga mas de 1 elemento, si solo tiene un elemento python lo considera un float\n",
    "        news = v.split('\\t')\n",
    "    if i == 5:\n",
    "        break\n",
    "    for j in range(len(news)):\n",
    "        status = get_tweet_status(news[j])\n",
    "        if len(news) > 1 and status != 'SuspendedAccount': #Si hay mas de un tweet y el tweet no es de una cuenta suspendida lo añadimos al df\n",
    "            df_out.loc[index] = [str(news[j]), status.created_at.strftime('%Y%m%d%H%M%S'),str(status.favorite_count),str(status.retweet_count),str(df['id'][i]),str(i), str(status.user.screen_name), status.user.created_at.strftime('%Y%m%d%H%M%S'),str(status.user.followers_count), str(status.user.friends_count),str(status.user.verified)]\n",
    "            index += 1\n",
    "            if j == 1:\n",
    "                break\n",
    "            \n",
    "df_out.to_csv('./output/pruebas/full_df.csv')\n",
    "df_out.head()"
   ]
  },
  {
   "cell_type": "markdown",
   "metadata": {},
   "source": [
    "## Arbol de Retweets - Comprobar Amistad"
   ]
  },
  {
   "cell_type": "code",
   "execution_count": 27,
   "metadata": {},
   "outputs": [
    {
     "data": {
      "text/plain": [
       "1211815952561721344"
      ]
     },
     "execution_count": 27,
     "metadata": {},
     "output_type": "execute_result"
    }
   ],
   "source": [
    "statuses = api.retweets('1211807088512577536')\n",
    "\n",
    "statuses[0].id"
   ]
  },
  {
   "cell_type": "code",
   "execution_count": 28,
   "metadata": {
    "scrolled": true
   },
   "outputs": [
    {
     "name": "stdout",
     "output_type": "stream",
     "text": [
      "1211815952561721344 2019-12-31 01:06:52\n",
      "1211815375857504256 2019-12-31 01:04:34\n",
      "1211812420949295105 2019-12-31 00:52:50\n",
      "1211812257702858752 2019-12-31 00:52:11\n",
      "1211811447774351360 2019-12-31 00:48:58\n",
      "1211810081379102720 2019-12-31 00:43:32\n",
      "1211807945417211904 2019-12-31 00:35:03\n"
     ]
    }
   ],
   "source": [
    "for i in range(len(statuses)):\n",
    "    print(statuses[i].id,statuses[i].created_at)"
   ]
  },
  {
   "cell_type": "code",
   "execution_count": null,
   "metadata": {},
   "outputs": [],
   "source": [
    "for i in range(len(statuses)):\n",
    "    status = get_tweet_status(statuses[i].id)\n",
    "    print('status.retweet_count',status.retweet_count)\n",
    "    #If you get the output as True False it means that he/she is not following you. Other cases are:\n",
    "    #False True = you are being followed by him/her.\n",
    "    #False False = there is no connection between you two.\n",
    "    source = status.user.screen_name \n",
    "    friends = api.show_friendship(source_screen_name='Pj6595', target_screen_name=source)\n",
    "    print('.exists_friendship','Pj6595',friends[0].following, source,friends[1].following)"
   ]
  },
  {
   "cell_type": "markdown",
   "metadata": {},
   "source": [
    "## Analisis de numero de seguidores segun las noticias publicadas"
   ]
  },
  {
   "cell_type": "code",
   "execution_count": 19,
   "metadata": {},
   "outputs": [
    {
     "data": {
      "text/plain": [
       "149666"
      ]
     },
     "execution_count": 19,
     "metadata": {},
     "output_type": "execute_result"
    }
   ],
   "source": [
    "df = pd.read_csv('./gen/full_df_fake.csv')\n",
    "len(df)"
   ]
  },
  {
   "cell_type": "code",
   "execution_count": 38,
   "metadata": {},
   "outputs": [
    {
     "data": {
      "text/plain": [
       "SeltekCo           314\n",
       "AwesomeEK          270\n",
       "WorldTruthTV       264\n",
       "achoohorsey        199\n",
       "askMICA            198\n",
       "                  ... \n",
       "bobbi85710           1\n",
       "Info_Activism        1\n",
       "Arabian_com          1\n",
       "donnabo75065207      1\n",
       "shawjon              1\n",
       "Name: screen_name, Length: 83687, dtype: int64"
      ]
     },
     "execution_count": 38,
     "metadata": {},
     "output_type": "execute_result"
    }
   ],
   "source": [
    "df['screen_name'].value_counts()"
   ]
  },
  {
   "cell_type": "code",
   "execution_count": 3,
   "metadata": {
    "scrolled": true
   },
   "outputs": [
    {
     "name": "stdout",
     "output_type": "stream",
     "text": [
      "Seguidores de SeltekCo: 2872\n",
      "Seguidores de AwesomeEK: 14976\n",
      "Seguidores de WorldTruthTV: 14534\n",
      "Seguidores de achoohorsey: 250\n",
      "Seguidores de askMICA: 13\n",
      "Seguidores de rgbrody: 4328\n",
      "Seguidores de NeonNettle: 45646\n",
      "Seguidores de yanagikawaryo: 33\n",
      "Seguidores de kickyourace: 780\n",
      "Seguidores de barntiques859: 36131\n",
      "Seguidores de obamolizer: 2284\n",
      "Seguidores de karen5651: 51\n",
      "Seguidores de CoyotlCompany: 2132\n",
      "Seguidores de News1Lightning: 1212\n",
      "Seguidores de DTrumpThe45th: 874\n",
      "Seguidores de selina624687756: 1\n",
      "Seguidores de elephantaddr: 50916\n",
      "Seguidores de marcamktdigital: 620\n",
      "Seguidores de MadamEarth: 5354\n",
      "Seguidores de DonJamesWorst: 1377\n",
      "Seguidores de Mary_Burgess: 26250\n",
      "Seguidores de dance_teamtry: 1343\n",
      "Seguidores de normanrayburn: 1058\n",
      "Seguidores de testisfidelis: 20638\n",
      "Seguidores de RonsTees: 197\n"
     ]
    }
   ],
   "source": [
    "for i in range(len(df['screen_name'].value_counts())):\n",
    "    if i < 25:\n",
    "        user = df['screen_name'].value_counts().index[i]\n",
    "        print(\"Seguidores de {}:\".format(user),df.loc[(df['screen_name'] == user)]['followers'].iloc[0])\n",
    "    "
   ]
  },
  {
   "cell_type": "markdown",
   "metadata": {},
   "source": [
    "### Sacar seguidores con Twint \n",
    "#### Not working"
   ]
  },
  {
   "cell_type": "code",
   "execution_count": 7,
   "metadata": {},
   "outputs": [
    {
     "name": "stdout",
     "output_type": "stream",
     "text": [
      "OfeliasHeaven\n",
      "Followers of OfeliasHeaven collected\n",
      "['spiritbride', 'HisZigness', 'JosephAlem1', 'JakeRio53', 'gengstr129', 'geohays', 'Newday50', 'mark03366669', 'glennwa1', 'sydney2m', 'WillisAngeleyes', 'mpukita', 'Truth_Mortar', 'ProudAm19453291', 'Janice4189', 'gliffcoff', 'Chicagobluesgrl', 'BlankFrank8', 'BubblyMoments', 'MelanieMetz10', 'judylnations1', 'eaglefree84', 'nihondebaito_vi', 'AFmuseum', 'FAristidis', 'DSUrugby', 'RadioDixie913', 'DSURepublicans', 'DStateAlumni', 'mewajoqobor', 'stg_red_bluff', 'varepall', 'FuckboyBill', 'spiritbride', 'HisZigness', 'JosephAlem1', 'JakeRio53', 'gengstr129', 'geohays', 'Newday50', 'mark03366669', 'glennwa1', 'sydney2m', 'WillisAngeleyes', 'mpukita', 'Truth_Mortar', 'ProudAm19453291', 'Janice4189', 'gliffcoff', 'Chicagobluesgrl', 'BlankFrank8', 'BubblyMoments', 'MelanieMetz10']\n"
     ]
    }
   ],
   "source": [
    "import twint\n",
    "import pandas as pd\n",
    "\n",
    "import nest_asyncio\n",
    "nest_asyncio.apply()\n",
    "\n",
    "df = pd.read_csv('./gen/nodos/nodos_366noticias.csv')\n",
    "df['name'][0]\n",
    "\n",
    "def get_followers_twint(username): #Twitter Bans Our IP for some time, we cant make requests\n",
    "    c = twint.Config()\n",
    "    c.Username = username\n",
    "    c.Hide_output = True\n",
    "    c.Store_object = True\n",
    "    c.Limit = 10\n",
    "    twint.run.Followers(c)\n",
    "    print('Followers of {} collected'.format(username))\n",
    "    twint.output.clean_follow_list()\n",
    "    return twint.output.follows_list\n",
    "\n",
    "f = open(\"./gen/edges/intermediates/prueba_twint.csv\", \"w\")\n",
    "for i, v in enumerate(df['name']):\n",
    "    print(v)\n",
    "    followers = []\n",
    "    #followers = get_followers_twint(v)\n",
    "    print(followers)\n",
    "    f.write(\"{},\".format(v))\n",
    "    for j,v1 in enumerate(followers):\n",
    "        f.write(\"{},\".format(v1))\n",
    "        break\n",
    "    f.write('\\n')  \n",
    "    break\n",
    "f.close()"
   ]
  },
  {
   "cell_type": "markdown",
   "metadata": {},
   "source": [
    "# Grafo Dinamico de Personas(Tweets) - Noticias"
   ]
  },
  {
   "cell_type": "code",
   "execution_count": 45,
   "metadata": {},
   "outputs": [
    {
     "data": {
      "text/html": [
       "<div>\n",
       "<style scoped>\n",
       "    .dataframe tbody tr th:only-of-type {\n",
       "        vertical-align: middle;\n",
       "    }\n",
       "\n",
       "    .dataframe tbody tr th {\n",
       "        vertical-align: top;\n",
       "    }\n",
       "\n",
       "    .dataframe thead th {\n",
       "        text-align: right;\n",
       "    }\n",
       "</style>\n",
       "<table border=\"1\" class=\"dataframe\">\n",
       "  <thead>\n",
       "    <tr style=\"text-align: right;\">\n",
       "      <th></th>\n",
       "      <th>tweet_ids</th>\n",
       "      <th>created_at</th>\n",
       "      <th>favorite_count</th>\n",
       "      <th>retweet_count</th>\n",
       "      <th>id_noticia</th>\n",
       "      <th>index</th>\n",
       "      <th>screen_name</th>\n",
       "      <th>user_created_at</th>\n",
       "      <th>followers</th>\n",
       "      <th>friends</th>\n",
       "      <th>verified</th>\n",
       "    </tr>\n",
       "    <tr>\n",
       "      <th>id</th>\n",
       "      <th></th>\n",
       "      <th></th>\n",
       "      <th></th>\n",
       "      <th></th>\n",
       "      <th></th>\n",
       "      <th></th>\n",
       "      <th></th>\n",
       "      <th></th>\n",
       "      <th></th>\n",
       "      <th></th>\n",
       "      <th></th>\n",
       "    </tr>\n",
       "  </thead>\n",
       "  <tbody>\n",
       "    <tr>\n",
       "      <td>0</td>\n",
       "      <td>937349434668498944</td>\n",
       "      <td>20171203155454</td>\n",
       "      <td>0</td>\n",
       "      <td>0</td>\n",
       "      <td>politifact15014</td>\n",
       "      <td>0</td>\n",
       "      <td>OfeliasHeaven</td>\n",
       "      <td>20151113033128</td>\n",
       "      <td>707</td>\n",
       "      <td>1031</td>\n",
       "      <td>False</td>\n",
       "    </tr>\n",
       "    <tr>\n",
       "      <td>1</td>\n",
       "      <td>937379378006282240</td>\n",
       "      <td>20171203175354</td>\n",
       "      <td>0</td>\n",
       "      <td>0</td>\n",
       "      <td>politifact15014</td>\n",
       "      <td>0</td>\n",
       "      <td>lorn_cramer</td>\n",
       "      <td>20150213234944</td>\n",
       "      <td>13</td>\n",
       "      <td>103</td>\n",
       "      <td>False</td>\n",
       "    </tr>\n",
       "    <tr>\n",
       "      <td>2</td>\n",
       "      <td>937380068590055425</td>\n",
       "      <td>20171203175638</td>\n",
       "      <td>0</td>\n",
       "      <td>0</td>\n",
       "      <td>politifact15014</td>\n",
       "      <td>0</td>\n",
       "      <td>lorn_cramer</td>\n",
       "      <td>20150213234944</td>\n",
       "      <td>13</td>\n",
       "      <td>103</td>\n",
       "      <td>False</td>\n",
       "    </tr>\n",
       "    <tr>\n",
       "      <td>3</td>\n",
       "      <td>937387493451862016</td>\n",
       "      <td>20171203182608</td>\n",
       "      <td>28</td>\n",
       "      <td>18</td>\n",
       "      <td>politifact15014</td>\n",
       "      <td>0</td>\n",
       "      <td>lupash7</td>\n",
       "      <td>20140903004535</td>\n",
       "      <td>22662</td>\n",
       "      <td>17769</td>\n",
       "      <td>False</td>\n",
       "    </tr>\n",
       "    <tr>\n",
       "      <td>4</td>\n",
       "      <td>937406789686980608</td>\n",
       "      <td>20171203194249</td>\n",
       "      <td>1</td>\n",
       "      <td>1</td>\n",
       "      <td>politifact15014</td>\n",
       "      <td>0</td>\n",
       "      <td>yojudenz</td>\n",
       "      <td>20130513041018</td>\n",
       "      <td>23687</td>\n",
       "      <td>25165</td>\n",
       "      <td>False</td>\n",
       "    </tr>\n",
       "  </tbody>\n",
       "</table>\n",
       "</div>"
      ],
      "text/plain": [
       "             tweet_ids      created_at  favorite_count  retweet_count  \\\n",
       "id                                                                      \n",
       "0   937349434668498944  20171203155454               0              0   \n",
       "1   937379378006282240  20171203175354               0              0   \n",
       "2   937380068590055425  20171203175638               0              0   \n",
       "3   937387493451862016  20171203182608              28             18   \n",
       "4   937406789686980608  20171203194249               1              1   \n",
       "\n",
       "         id_noticia  index    screen_name  user_created_at  followers  \\\n",
       "id                                                                      \n",
       "0   politifact15014      0  OfeliasHeaven   20151113033128        707   \n",
       "1   politifact15014      0    lorn_cramer   20150213234944         13   \n",
       "2   politifact15014      0    lorn_cramer   20150213234944         13   \n",
       "3   politifact15014      0        lupash7   20140903004535      22662   \n",
       "4   politifact15014      0       yojudenz   20130513041018      23687   \n",
       "\n",
       "    friends  verified  \n",
       "id                     \n",
       "0      1031     False  \n",
       "1       103     False  \n",
       "2       103     False  \n",
       "3     17769     False  \n",
       "4     25165     False  "
      ]
     },
     "execution_count": 45,
     "metadata": {},
     "output_type": "execute_result"
    }
   ],
   "source": [
    "import pandas as pd\n",
    "\n",
    "df = pd.read_csv('./gen/full_df_fake.csv',index_col = 0)\n",
    "df.head()"
   ]
  },
  {
   "cell_type": "markdown",
   "metadata": {},
   "source": [
    "Nos interesa tener en cuenta los atributos del numero de rts, el numero de noticia,\n",
    "para poder filtrar inicialmente el grafo"
   ]
  },
  {
   "cell_type": "code",
   "execution_count": 46,
   "metadata": {},
   "outputs": [
    {
     "data": {
      "text/plain": [
       "412"
      ]
     },
     "execution_count": 46,
     "metadata": {},
     "output_type": "execute_result"
    }
   ],
   "source": [
    "len(df['index'].value_counts()) #Numero de noticias diferentes"
   ]
  },
  {
   "cell_type": "code",
   "execution_count": 47,
   "metadata": {},
   "outputs": [
    {
     "data": {
      "text/plain": [
       "21968"
      ]
     },
     "execution_count": 47,
     "metadata": {},
     "output_type": "execute_result"
    }
   ],
   "source": [
    "test = df.loc[(df['retweet_count'] > 0)] #Numero total de tweets con al menos 1 RT\n",
    "len(test)"
   ]
  },
  {
   "cell_type": "code",
   "execution_count": 48,
   "metadata": {
    "scrolled": true
   },
   "outputs": [
    {
     "name": "stdout",
     "output_type": "stream",
     "text": [
      "0 25 25\n",
      "1 11 36\n",
      "Wall time: 2.02 s\n"
     ]
    },
    {
     "data": {
      "text/html": [
       "<div>\n",
       "<style scoped>\n",
       "    .dataframe tbody tr th:only-of-type {\n",
       "        vertical-align: middle;\n",
       "    }\n",
       "\n",
       "    .dataframe tbody tr th {\n",
       "        vertical-align: top;\n",
       "    }\n",
       "\n",
       "    .dataframe thead th {\n",
       "        text-align: right;\n",
       "    }\n",
       "</style>\n",
       "<table border=\"1\" class=\"dataframe\">\n",
       "  <thead>\n",
       "    <tr style=\"text-align: right;\">\n",
       "      <th></th>\n",
       "      <th>source</th>\n",
       "      <th>target</th>\n",
       "      <th>created_at_source</th>\n",
       "      <th>created_at_target</th>\n",
       "      <th>news_id</th>\n",
       "    </tr>\n",
       "  </thead>\n",
       "  <tbody>\n",
       "    <tr>\n",
       "      <td>0</td>\n",
       "      <td>lupash7</td>\n",
       "      <td>yojudenz</td>\n",
       "      <td>20171203182608</td>\n",
       "      <td>20171203194249</td>\n",
       "      <td>0</td>\n",
       "    </tr>\n",
       "    <tr>\n",
       "      <td>1</td>\n",
       "      <td>lupash7</td>\n",
       "      <td>WilliamNerbonne</td>\n",
       "      <td>20171203182608</td>\n",
       "      <td>20171203201542</td>\n",
       "      <td>0</td>\n",
       "    </tr>\n",
       "    <tr>\n",
       "      <td>2</td>\n",
       "      <td>lupash7</td>\n",
       "      <td>saveusrepublic2</td>\n",
       "      <td>20171203182608</td>\n",
       "      <td>20171203210538</td>\n",
       "      <td>0</td>\n",
       "    </tr>\n",
       "    <tr>\n",
       "      <td>3</td>\n",
       "      <td>lupash7</td>\n",
       "      <td>ronwagn</td>\n",
       "      <td>20171203182608</td>\n",
       "      <td>20171203235836</td>\n",
       "      <td>0</td>\n",
       "    </tr>\n",
       "    <tr>\n",
       "      <td>4</td>\n",
       "      <td>lupash7</td>\n",
       "      <td>ChasD3</td>\n",
       "      <td>20171203182608</td>\n",
       "      <td>20171204000916</td>\n",
       "      <td>0</td>\n",
       "    </tr>\n",
       "  </tbody>\n",
       "</table>\n",
       "</div>"
      ],
      "text/plain": [
       "    source           target created_at_source created_at_target news_id\n",
       "0  lupash7         yojudenz    20171203182608    20171203194249       0\n",
       "1  lupash7  WilliamNerbonne    20171203182608    20171203201542       0\n",
       "2  lupash7  saveusrepublic2    20171203182608    20171203210538       0\n",
       "3  lupash7          ronwagn    20171203182608    20171203235836       0\n",
       "4  lupash7           ChasD3    20171203182608    20171204000916       0"
      ]
     },
     "execution_count": 48,
     "metadata": {},
     "output_type": "execute_result"
    }
   ],
   "source": [
    "%%time\n",
    "news_df = pd.DataFrame(columns=['source','target','created_at_source','created_at_target','news_id'])\n",
    "#news_df = news_df.append({'source':, 'target':,'created_at':,'news_id':}, ignore_index=True)\n",
    "n_news = len(df['index'].value_counts())\n",
    "n_news = 2\n",
    "total = 0\n",
    "for n in range(n_news):\n",
    "    df_filtered = df.loc[(df['index'] == n) & (df['retweet_count'] > 0)]\n",
    "    df_filtered = df_filtered.reset_index()\n",
    "    total += len(df_filtered)\n",
    "    print(n,len(df_filtered), total)\n",
    "    for i in range(len(df_filtered)):\n",
    "        for j in range(i+1,len(df_filtered)):\n",
    "            source = str(df_filtered['screen_name'][i])\n",
    "            target = str(df_filtered['screen_name'][j])\n",
    "            created_at_s = str(df_filtered['created_at'][i])\n",
    "            created_at_t = str(df_filtered['created_at'][j])\n",
    "            news_id = str(n)\n",
    "            news_df = news_df.append({'source':source, 'target':target,'created_at_source':created_at_s,'created_at_target':created_at_t,'news_id':news_id}, ignore_index=True)\n",
    "    \n",
    "news_df.head()"
   ]
  },
  {
   "cell_type": "code",
   "execution_count": 169,
   "metadata": {},
   "outputs": [],
   "source": [
    "news_df.rename(columns={0:\"id\"}) #Adding an index column\n",
    "news_df.index.name = \"id\"\n",
    "news_df.to_csv('./gen/grafo_same_news/aristas_noticia_semi_ppp.csv')"
   ]
  },
  {
   "cell_type": "code",
   "execution_count": 53,
   "metadata": {},
   "outputs": [
    {
     "name": "stderr",
     "output_type": "stream",
     "text": [
      "C:\\Users\\willw\\Anaconda3\\lib\\site-packages\\ipykernel_launcher.py:10: SettingWithCopyWarning: \n",
      "A value is trying to be set on a copy of a slice from a DataFrame.\n",
      "Try using .loc[row_indexer,col_indexer] = value instead\n",
      "\n",
      "See the caveats in the documentation: http://pandas.pydata.org/pandas-docs/stable/user_guide/indexing.html#returning-a-view-versus-a-copy\n",
      "  # Remove the CWD from sys.path while we load stuff.\n"
     ]
    }
   ],
   "source": [
    "#20160520045407 to 2016-05-20T04:54:07\n",
    "iso = lambda date : ''.join([str(x) for x in str(date)][:4] + ['-'] + [str(x) for x in str(date)][4:6] + ['-'] + [str(x) for x in str(date)][6:8] + ['T'] + [str(x) for x in str(date)][8:10] + [':']  +[str(x) for x in str(date)][10:12] + [':']  + [str(x) for x in str(date)][12:14])\n",
    "\n",
    "df_filtered = df.loc[(df['index'] < n_news) & (df['retweet_count'] > 0)]\n",
    "df_filtered.rename(columns={0:\"number\"}) #Adding an index column\n",
    "df_filtered.index.name = \"number\"\n",
    "df_filtered.rename(columns={'screen_name':\"Id\"}, inplace=True) #Adding an index column\n",
    "df_filtered['created_at'] = df_filtered['created_at'].apply(iso)\n",
    "df_filtered.to_csv('./gen/grafo_same_news/nodos_aristas_noticia_semi_ppp.csv')"
   ]
  },
  {
   "cell_type": "markdown",
   "metadata": {},
   "source": [
    "## Ver Datos "
   ]
  },
  {
   "cell_type": "code",
   "execution_count": 1,
   "metadata": {},
   "outputs": [
    {
     "data": {
      "text/html": [
       "<div>\n",
       "<style scoped>\n",
       "    .dataframe tbody tr th:only-of-type {\n",
       "        vertical-align: middle;\n",
       "    }\n",
       "\n",
       "    .dataframe tbody tr th {\n",
       "        vertical-align: top;\n",
       "    }\n",
       "\n",
       "    .dataframe thead th {\n",
       "        text-align: right;\n",
       "    }\n",
       "</style>\n",
       "<table border=\"1\" class=\"dataframe\">\n",
       "  <thead>\n",
       "    <tr style=\"text-align: right;\">\n",
       "      <th></th>\n",
       "      <th>id</th>\n",
       "      <th>tweet_ids</th>\n",
       "      <th>created_at</th>\n",
       "      <th>favorite_count</th>\n",
       "      <th>retweet_count</th>\n",
       "      <th>id_noticia</th>\n",
       "      <th>index</th>\n",
       "      <th>screen_name</th>\n",
       "      <th>user_created_at</th>\n",
       "      <th>followers</th>\n",
       "      <th>friends</th>\n",
       "      <th>verified</th>\n",
       "    </tr>\n",
       "  </thead>\n",
       "  <tbody>\n",
       "    <tr>\n",
       "      <td>0</td>\n",
       "      <td>0</td>\n",
       "      <td>937349434668498944</td>\n",
       "      <td>20171203155454</td>\n",
       "      <td>0</td>\n",
       "      <td>0</td>\n",
       "      <td>politifact15014</td>\n",
       "      <td>0</td>\n",
       "      <td>OfeliasHeaven</td>\n",
       "      <td>20151113033128</td>\n",
       "      <td>707</td>\n",
       "      <td>1031</td>\n",
       "      <td>False</td>\n",
       "    </tr>\n",
       "    <tr>\n",
       "      <td>1</td>\n",
       "      <td>1</td>\n",
       "      <td>937379378006282240</td>\n",
       "      <td>20171203175354</td>\n",
       "      <td>0</td>\n",
       "      <td>0</td>\n",
       "      <td>politifact15014</td>\n",
       "      <td>0</td>\n",
       "      <td>lorn_cramer</td>\n",
       "      <td>20150213234944</td>\n",
       "      <td>13</td>\n",
       "      <td>103</td>\n",
       "      <td>False</td>\n",
       "    </tr>\n",
       "    <tr>\n",
       "      <td>2</td>\n",
       "      <td>2</td>\n",
       "      <td>937380068590055425</td>\n",
       "      <td>20171203175638</td>\n",
       "      <td>0</td>\n",
       "      <td>0</td>\n",
       "      <td>politifact15014</td>\n",
       "      <td>0</td>\n",
       "      <td>lorn_cramer</td>\n",
       "      <td>20150213234944</td>\n",
       "      <td>13</td>\n",
       "      <td>103</td>\n",
       "      <td>False</td>\n",
       "    </tr>\n",
       "    <tr>\n",
       "      <td>3</td>\n",
       "      <td>3</td>\n",
       "      <td>937387493451862016</td>\n",
       "      <td>20171203182608</td>\n",
       "      <td>28</td>\n",
       "      <td>18</td>\n",
       "      <td>politifact15014</td>\n",
       "      <td>0</td>\n",
       "      <td>lupash7</td>\n",
       "      <td>20140903004535</td>\n",
       "      <td>22662</td>\n",
       "      <td>17769</td>\n",
       "      <td>False</td>\n",
       "    </tr>\n",
       "    <tr>\n",
       "      <td>4</td>\n",
       "      <td>4</td>\n",
       "      <td>937406789686980608</td>\n",
       "      <td>20171203194249</td>\n",
       "      <td>1</td>\n",
       "      <td>1</td>\n",
       "      <td>politifact15014</td>\n",
       "      <td>0</td>\n",
       "      <td>yojudenz</td>\n",
       "      <td>20130513041018</td>\n",
       "      <td>23687</td>\n",
       "      <td>25165</td>\n",
       "      <td>False</td>\n",
       "    </tr>\n",
       "  </tbody>\n",
       "</table>\n",
       "</div>"
      ],
      "text/plain": [
       "   id           tweet_ids      created_at  favorite_count  retweet_count  \\\n",
       "0   0  937349434668498944  20171203155454               0              0   \n",
       "1   1  937379378006282240  20171203175354               0              0   \n",
       "2   2  937380068590055425  20171203175638               0              0   \n",
       "3   3  937387493451862016  20171203182608              28             18   \n",
       "4   4  937406789686980608  20171203194249               1              1   \n",
       "\n",
       "        id_noticia  index    screen_name  user_created_at  followers  friends  \\\n",
       "0  politifact15014      0  OfeliasHeaven   20151113033128        707     1031   \n",
       "1  politifact15014      0    lorn_cramer   20150213234944         13      103   \n",
       "2  politifact15014      0    lorn_cramer   20150213234944         13      103   \n",
       "3  politifact15014      0        lupash7   20140903004535      22662    17769   \n",
       "4  politifact15014      0       yojudenz   20130513041018      23687    25165   \n",
       "\n",
       "   verified  \n",
       "0     False  \n",
       "1     False  \n",
       "2     False  \n",
       "3     False  \n",
       "4     False  "
      ]
     },
     "execution_count": 1,
     "metadata": {},
     "output_type": "execute_result"
    }
   ],
   "source": [
    "import pandas as pd\n",
    "df = pd.read_csv('./gen/full_df_fake.csv')\n",
    "df.head()"
   ]
  },
  {
   "cell_type": "code",
   "execution_count": 69,
   "metadata": {},
   "outputs": [
    {
     "name": "stdout",
     "output_type": "stream",
     "text": [
      "25\n"
     ]
    }
   ],
   "source": [
    "big_new = df.loc[(df['retweet_count'] > 2500)]\n",
    "print(len(big_new))"
   ]
  },
  {
   "cell_type": "code",
   "execution_count": 84,
   "metadata": {},
   "outputs": [
    {
     "data": {
      "text/plain": [
       "politifact14548    4393\n",
       "politifact14667    2608\n",
       "politifact14920     566\n",
       "politifact13949     529\n",
       "politifact14771     328\n",
       "                   ... \n",
       "politifact14544       1\n",
       "politifact15052       1\n",
       "politifact15267       1\n",
       "politifact14286       1\n",
       "politifact14005       1\n",
       "Name: id_noticia, Length: 383, dtype: int64"
      ]
     },
     "execution_count": 84,
     "metadata": {},
     "output_type": "execute_result"
    }
   ],
   "source": [
    "big_new.head(5)\n",
    "\n",
    "count = df.loc[(df['retweet_count'] > 0)]\n",
    "\n",
    "count['id_noticia'].value_counts()"
   ]
  },
  {
   "cell_type": "code",
   "execution_count": 1,
   "metadata": {},
   "outputs": [
    {
     "name": "stdout",
     "output_type": "stream",
     "text": [
      "29    Snapchat is shutting down!\n",
      "Name: title, dtype: object 29    http://www.breakingnews365.net/5a00d7972338f/snapchat-is-shutting-down.html\n",
      "Name: news_url, dtype: object\n"
     ]
    }
   ],
   "source": [
    "import pandas as pd\n",
    "\n",
    "politifact = pd.read_csv('./data/politifact_fake.csv')\n",
    "df = pd.read_csv('./gen/full_df_fake.csv')\n",
    "\n",
    "user = df.loc[(df['screen_name'] == 'WIRED')]\n",
    "id_noticia = user['id_noticia']\n",
    "if len(id_noticia) > 1:\n",
    "    print(\"---- Varias Noticias ----\")\n",
    "    for i in range(len(id_noticia)):\n",
    "        ids = politifact.loc[(politifact['id'] == id_noticia.iloc[i])]\n",
    "        pd.options.display.max_colwidth = 250\n",
    "        print(ids['title'].item(),'\\n') #,ids['news_url']\n",
    "else:    \n",
    "    ids = politifact.loc[(politifact['id'] == id_noticia.iloc[0])]\n",
    "    pd.options.display.max_colwidth = 250\n",
    "    print(ids['title'], ids['news_url'])"
   ]
  },
  {
   "cell_type": "code",
   "execution_count": 29,
   "metadata": {},
   "outputs": [
    {
     "data": {
      "text/html": [
       "<div>\n",
       "<style scoped>\n",
       "    .dataframe tbody tr th:only-of-type {\n",
       "        vertical-align: middle;\n",
       "    }\n",
       "\n",
       "    .dataframe tbody tr th {\n",
       "        vertical-align: top;\n",
       "    }\n",
       "\n",
       "    .dataframe thead th {\n",
       "        text-align: right;\n",
       "    }\n",
       "</style>\n",
       "<table border=\"1\" class=\"dataframe\">\n",
       "  <thead>\n",
       "    <tr style=\"text-align: right;\">\n",
       "      <th></th>\n",
       "      <th>id</th>\n",
       "      <th>tweet_ids</th>\n",
       "      <th>created_at</th>\n",
       "      <th>favorite_count</th>\n",
       "      <th>retweet_count</th>\n",
       "      <th>id_noticia</th>\n",
       "      <th>index</th>\n",
       "      <th>screen_name</th>\n",
       "      <th>user_created_at</th>\n",
       "      <th>followers</th>\n",
       "      <th>friends</th>\n",
       "      <th>verified</th>\n",
       "    </tr>\n",
       "  </thead>\n",
       "  <tbody>\n",
       "    <tr>\n",
       "      <td>131283</td>\n",
       "      <td>131283</td>\n",
       "      <td>1021378554465062912</td>\n",
       "      <td>20180723125638</td>\n",
       "      <td>1</td>\n",
       "      <td>0</td>\n",
       "      <td>politifact15562</td>\n",
       "      <td>411</td>\n",
       "      <td>AngelicaIsMad</td>\n",
       "      <td>20140921112536</td>\n",
       "      <td>9</td>\n",
       "      <td>6</td>\n",
       "      <td>False</td>\n",
       "    </tr>\n",
       "    <tr>\n",
       "      <td>131284</td>\n",
       "      <td>131284</td>\n",
       "      <td>1021464678193491969</td>\n",
       "      <td>20180723183851</td>\n",
       "      <td>0</td>\n",
       "      <td>0</td>\n",
       "      <td>politifact15562</td>\n",
       "      <td>411</td>\n",
       "      <td>AngelicaIsMad</td>\n",
       "      <td>20140921112536</td>\n",
       "      <td>9</td>\n",
       "      <td>6</td>\n",
       "      <td>False</td>\n",
       "    </tr>\n",
       "  </tbody>\n",
       "</table>\n",
       "</div>"
      ],
      "text/plain": [
       "            id            tweet_ids      created_at  favorite_count  \\\n",
       "131283  131283  1021378554465062912  20180723125638               1   \n",
       "131284  131284  1021464678193491969  20180723183851               0   \n",
       "\n",
       "        retweet_count       id_noticia  index    screen_name  user_created_at  \\\n",
       "131283              0  politifact15562    411  AngelicaIsMad   20140921112536   \n",
       "131284              0  politifact15562    411  AngelicaIsMad   20140921112536   \n",
       "\n",
       "        followers  friends  verified  \n",
       "131283          9        6     False  \n",
       "131284          9        6     False  "
      ]
     },
     "execution_count": 29,
     "metadata": {},
     "output_type": "execute_result"
    }
   ],
   "source": [
    "df = pd.read_csv('./gen/full_df_fake.csv')\n",
    "df.loc[(df['index'] == 411) & (df['created_at'] < 20181200000000)]\n"
   ]
  },
  {
   "cell_type": "code",
   "execution_count": null,
   "metadata": {},
   "outputs": [],
   "source": []
  },
  {
   "cell_type": "markdown",
   "metadata": {},
   "source": [
    "# PROPAGACION DE UNA NOTCIA"
   ]
  },
  {
   "cell_type": "code",
   "execution_count": 297,
   "metadata": {},
   "outputs": [],
   "source": [
    "import pandas as pd\n",
    "df = pd.read_csv('./gen/full_df_fake.csv')\n",
    "numNoticia = 0 \n",
    "cont = 0 \n",
    "selec_news = pd.DataFrame(columns=['id','num_tweets_con_rt', 'index'])\n",
    "index = 0\n",
    "\n",
    "for i in range (df['id'].count()): \n",
    "\n",
    "    if numNoticia == df['index'][i]:\n",
    "        if df[\"retweet_count\"][i] > 0:\n",
    "            cont += 1\n",
    "    else: \n",
    "        if cont > 5: \n",
    "            #selec_news =selec_news.append(df['id'][numNoticia])\n",
    "            selec_news =selec_news.append( {\"id\": df['id_noticia'][i - 1], \"num_tweets_con_rt\": cont, \"index\": index}, ignore_index=True)\n",
    "            index += 1\n",
    "        numNoticia += 1\n",
    "        cont = 0\n",
    "        "
   ]
  },
  {
   "cell_type": "code",
   "execution_count": null,
   "metadata": {},
   "outputs": [],
   "source": []
  },
  {
   "cell_type": "code",
   "execution_count": 176,
   "metadata": {},
   "outputs": [],
   "source": [
    "n_df = pd.read_csv('./data/politifact_fake.csv') \n",
    "    #Esto se puede cambiar por otro dataset (ej: ./data/politifact_real.csv), pero de momento\n",
    "ids = n_df.loc[(n_df['id'] == 'politifact15371')]"
   ]
  },
  {
   "cell_type": "code",
   "execution_count": 298,
   "metadata": {},
   "outputs": [],
   "source": [
    "def datosNoticia(id_n): \n",
    "    w = pd.DataFrame(columns=['id','title', 'tweet_ids', 'index'])\n",
    "    n_df = pd.read_csv('./data/politifact_fake.csv') \n",
    "    #ids = n_df.loc[(n_df['id'] == id_n)]\n",
    "    i = n_df[n_df['id']==id_n].index.values.astype(int)\n",
    "    pos = i[0]\n",
    "    w = w.append({\"id\": id_n, \"title\": n_df['title'][pos], \"tweet_ids\" :n_df['tweet_ids'][pos], \"index\": pos}, ignore_index=True)\n",
    "  #  for tweet in w['tweet_ids']:\n",
    "        # array_tweets = str(tweet).split('\\t')\n",
    "    \n",
    "    return w"
   ]
  },
  {
   "cell_type": "code",
   "execution_count": null,
   "metadata": {},
   "outputs": [],
   "source": [
    "def make_newsToTweets(noticias):\n",
    "    new_df = pd.DataFrame(columns=['source','target'])\n",
    "    n_ids = len(noticias[1][pos])\n",
    "    ids_list = noticias[1][pos]\n",
    "    \n",
    "    for i in range (n_ids): \n",
    "        new_df = new_df.append({\"source\": noticias[0][pos], \"target\": ids_list[i]}, ignore_index=True)\n",
    "    return new_df"
   ]
  },
  {
   "cell_type": "code",
   "execution_count": 299,
   "metadata": {},
   "outputs": [],
   "source": [
    "def get_RT_status(tweet_id):\n",
    "    '''\n",
    "    Devuelve un objeto status con todos los datos de un tweet\n",
    "    '''\n",
    "    try:\n",
    "        return api.retweets(tweet_id)\n",
    "    except tweepy.TweepError as e:\n",
    "        return 'SuspendedAccount'\n",
    "\n"
   ]
  },
  {
   "cell_type": "code",
   "execution_count": 300,
   "metadata": {},
   "outputs": [],
   "source": [
    "def get_nodo(tweet_id):\n",
    "    '''\n",
    "    le pasamos una lista de ids de tweets y nos devuelve por cada ids los ids de los rts en un DataFrame\n",
    "    '''\n",
    "    l_rts = [] \n",
    "    t = get_RT_status(tweet_id)\n",
    "    if t != 'SuspendedAccount':\n",
    "        l_rts = get_ids_fromStatuses(t)\n",
    "       \n",
    "    return l_rts\n",
    "\n",
    "def get_ids_fromStatuses(statuses):\n",
    "\n",
    "    lis_ids = []\n",
    "    \n",
    "    for i in range (len(statuses)): \n",
    "        lis_ids.append(statuses[i].id)\n",
    "    return lis_ids"
   ]
  },
  {
   "cell_type": "code",
   "execution_count": 301,
   "metadata": {},
   "outputs": [],
   "source": [
    "def get_M_adyacencia(id_noticia): \n",
    "    noticia = datosNoticia(id_noticia)\n",
    "    \n",
    "    edges_df = pd.DataFrame(columns=['source','target'])\n",
    "    noti = df[df.id_noticia == id_noticia].copy()\n",
    "    noti = noti.reset_index(drop=True)\n",
    "    \n",
    "    rt_list = []\n",
    "\n",
    "    id_N = noticia['id'][0]\n",
    "    titular = noticia['title'][0]\n",
    "    tweets =  noticia['tweet_ids'][0].split('\\t')\n",
    "    \n",
    "\n",
    "    for i in range (noti[\"tweet_ids\"].count()): \n",
    "        edges_df = edges_df.append({\"source\": noti[\"id_noticia\"][i], \"target\": noti[\"tweet_ids\"][i]}, ignore_index=True)\n",
    "        if noti[\"retweet_count\"][i] > 0: \n",
    "            rt_list.append(noti[\"tweet_ids\"][i])\n",
    "            \n",
    "    for j in range (len(rt_list)):\n",
    "        rtss = get_nodo(rt_list[j])\n",
    "        for k in range (len(rtss)): \n",
    "            edges_df = edges_df.append({\"source\": rt_list[j], \"target\": rtss[k]}, ignore_index=True)\n",
    "\n",
    "\n",
    "    \n",
    "    return edges_df"
   ]
  }
 ],
 "metadata": {
  "kernelspec": {
   "display_name": "Python 3",
   "language": "python",
   "name": "python3"
  },
  "language_info": {
   "codemirror_mode": {
    "name": "ipython",
    "version": 3
   },
   "file_extension": ".py",
   "mimetype": "text/x-python",
   "name": "python",
   "nbconvert_exporter": "python",
   "pygments_lexer": "ipython3",
   "version": "3.7.4"
  }
 },
 "nbformat": 4,
 "nbformat_minor": 4
}
