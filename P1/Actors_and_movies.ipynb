{
 "cells": [
  {
   "cell_type": "code",
   "execution_count": 6,
   "metadata": {},
   "outputs": [
    {
     "name": "stdout",
     "output_type": "stream",
     "text": [
      "<class 'pandas.core.series.Series'>\n",
      "<class 'pandas.core.series.Series'>\n"
     ]
    },
    {
     "data": {
      "text/html": [
       "<div>\n",
       "<style scoped>\n",
       "    .dataframe tbody tr th:only-of-type {\n",
       "        vertical-align: middle;\n",
       "    }\n",
       "\n",
       "    .dataframe tbody tr th {\n",
       "        vertical-align: top;\n",
       "    }\n",
       "\n",
       "    .dataframe thead th {\n",
       "        text-align: right;\n",
       "    }\n",
       "</style>\n",
       "<table border=\"1\" class=\"dataframe\">\n",
       "  <thead>\n",
       "    <tr style=\"text-align: right;\">\n",
       "      <th></th>\n",
       "      <th>Actor</th>\n",
       "      <th>Movies</th>\n",
       "    </tr>\n",
       "  </thead>\n",
       "  <tbody>\n",
       "    <tr>\n",
       "      <th>0</th>\n",
       "      <td>Karen Allen</td>\n",
       "      <td>[Malcolm X, National Lampoon's Animal House, S...</td>\n",
       "    </tr>\n",
       "    <tr>\n",
       "      <th>1</th>\n",
       "      <td>Taye Diggs</td>\n",
       "      <td>[House on Haunted Hill, Go, Basic, Chicago, Eq...</td>\n",
       "    </tr>\n",
       "    <tr>\n",
       "      <th>2</th>\n",
       "      <td>Michael Murphy</td>\n",
       "      <td>[Salvador, Cloak &amp; Dagger, Nashville, Salvador...</td>\n",
       "    </tr>\n",
       "    <tr>\n",
       "      <th>3</th>\n",
       "      <td>Les Tremayne</td>\n",
       "      <td>[The War of the Worlds, The War of the Worlds]</td>\n",
       "    </tr>\n",
       "    <tr>\n",
       "      <th>4</th>\n",
       "      <td>Bridgette Wilson</td>\n",
       "      <td>[Mortal Kombat, Nixon, House on Haunted Hill]</td>\n",
       "    </tr>\n",
       "  </tbody>\n",
       "</table>\n",
       "</div>"
      ],
      "text/plain": [
       "              Actor                                             Movies\n",
       "0       Karen Allen  [Malcolm X, National Lampoon's Animal House, S...\n",
       "1        Taye Diggs  [House on Haunted Hill, Go, Basic, Chicago, Eq...\n",
       "2    Michael Murphy  [Salvador, Cloak & Dagger, Nashville, Salvador...\n",
       "3      Les Tremayne     [The War of the Worlds, The War of the Worlds]\n",
       "4  Bridgette Wilson      [Mortal Kombat, Nixon, House on Haunted Hill]"
      ]
     },
     "execution_count": 6,
     "metadata": {},
     "output_type": "execute_result"
    }
   ],
   "source": [
    "import networkx as nx\n",
    "import numpy as np\n",
    "import matplotlib.pyplot as plt\n",
    "import pandas as pd\n",
    "import os\n",
    "\n",
    "SOC_URL = \"./actorMovies.csv\"\n",
    "actorMovies = pd.read_csv(SOC_URL, sep=\";\")\n",
    "#Get all actors and movies in a np array\n",
    "actors = actorMovies[\"Actor\"]\n",
    "movies = actorMovies[\"Movies\"]\n",
    "#Iterate over each actor and split movies\n",
    "for i in range(actorMovies.count()[0]):\n",
    "    movies[i] = movies[i].split(\"|\")\n",
    "  \n",
    "actorMovies.head()"
   ]
  },
  {
   "cell_type": "code",
   "execution_count": 2,
   "metadata": {},
   "outputs": [
    {
     "name": "stdout",
     "output_type": "stream",
     "text": [
      "Different movies: 1896\n"
     ]
    }
   ],
   "source": [
    "total = 0\n",
    "movies_set = []\n",
    "\n",
    "for ID in range(len(actors)):\n",
    "    for j in range(len(movies[ID])):\n",
    "        movies_set.append(movies[ID][j])\n",
    "    total += len(movies[ID])\n",
    "movies_set=np.unique(movies_set) #Make a set do not contains duplicates of different movies\n",
    "print(\"Different movies:\",len(movies_set))"
   ]
  },
  {
   "cell_type": "code",
   "execution_count": 3,
   "metadata": {},
   "outputs": [
    {
     "name": "stdout",
     "output_type": "stream",
     "text": [
      "--- 2.3520331382751465 seconds ---\n",
      "Nº Edges: 12402\n"
     ]
    }
   ],
   "source": [
    "#NetworkX Procesing\n",
    "import networkx as nx\n",
    "import time\n",
    "GM = nx.MultiGraph() #Allows duplicate edges (1,2) and (2,1) -> add both\n",
    "G = nx.Graph() #Doesn't allow duplicate edges (1,2) and (2,1) -> add last\n",
    "\n",
    "#Added Nodes -> Films\n",
    "G.add_nodes_from(movies_set[:])\n",
    "GM.add_nodes_from(movies_set[:])\n",
    "\n",
    "\n",
    "#Add Edges, pairs (film,film)\n",
    "def add_all_edges(G):\n",
    "    for i in range(len(movies)):\n",
    "        for j in range(len(movies[i])-1):\n",
    "        #Dont go over the full list -> quicker\n",
    "        #why? -> last element connected in previous iter\n",
    "            for k in range(len(movies[i])):\n",
    "                if(j >= k): #Dont add equal edges or already added\n",
    "                    str1 = movies[i][j]\n",
    "                    str2 = movies[i][k]\n",
    "                    if(str1 != str2): #Some actors has duplicated movies\n",
    "                        G.add_edge(str1,str2)\n",
    "\n",
    "start_time = time.time() #Compute time of execution\n",
    "add_all_edges(G)\n",
    "add_all_edges(GM)\n",
    "print(\"--- %s seconds ---\" % (time.time() - start_time))\n",
    "print(\"Nº Edges:\",G.number_of_edges())\n"
   ]
  },
  {
   "cell_type": "code",
   "execution_count": 4,
   "metadata": {
    "scrolled": false
   },
   "outputs": [
    {
     "name": "stdout",
     "output_type": "stream",
     "text": [
      "--------------------------SimpleGraph----------------------------------\n",
      "Hamlet 0.08232189973614776\n",
      "Pulp Fiction 0.04327176781002638\n",
      "The Lord of the Rings: The Return of the King 0.04010554089709763\n",
      "Armageddon 0.039577836411609495\n",
      "Dune 0.03799472295514512\n",
      "Heat 0.03799472295514512\n",
      "JFK 0.03799472295514512\n",
      "Nixon 0.03746701846965699\n",
      "Sin City 0.03746701846965699\n",
      "The Lord of the Rings: The Fellowship of the Ring 0.03746701846965699\n",
      "Austin Powers: Goldmember 0.03588390501319261\n",
      "Dead Men Don't Wear Plaid 0.03588390501319261\n",
      "Cold Mountain 0.03430079155672823\n",
      "How the West Was Won 0.033773087071240104\n",
      "The Lord of the Rings: The Two Towers 0.033773087071240104\n",
      "Enemy of the State 0.03324538258575198\n",
      "North 0.03271767810026385\n",
      "The Thin Red Line 0.031134564643799472\n",
      "Titanic 0.031134564643799472\n",
      "Harry Potter and the Goblet of Fire 0.030606860158311343\n",
      "--------------------------MultiGraph----------------------------------\n",
      "Hamlet 0.09445910290237466\n",
      "Harry Potter and the Order of the Phoenix 0.07387862796833773\n",
      "Harry Potter and the Chamber of Secrets 0.06754617414248021\n",
      "Harry Potter and the Goblet of Fire 0.06649076517150396\n",
      "Harry Potter and the Half-Blood Prince 0.06649076517150396\n",
      "Harry Potter and the Philosopher's Stone 0.057519788918205805\n",
      "The Lord of the Rings: The Return of the King 0.05118733509234828\n",
      "The Lord of the Rings: The Fellowship of the Ring 0.04907651715039578\n",
      "Pulp Fiction 0.04643799472295514\n",
      "The Lord of the Rings: The Two Towers 0.044327176781002633\n",
      "Armageddon 0.041688654353562005\n",
      "JFK 0.04063324538258575\n",
      "Dune 0.04010554089709763\n",
      "Heat 0.039577836411609495\n",
      "Nixon 0.03852242744063324\n",
      "Sin City 0.03852242744063324\n",
      "Dead Men Don't Wear Plaid 0.03799472295514512\n",
      "How the West Was Won 0.03746701846965699\n",
      "Austin Powers: Goldmember 0.03641160949868074\n",
      "Cold Mountain 0.03641160949868074\n"
     ]
    }
   ],
   "source": [
    "import networkx as nx\n",
    "#Some analysis of the network\n",
    "x = nx.degree_centrality(G)\n",
    "xM = nx.degree_centrality(GM)\n",
    "\n",
    "print(\"--------------------------SimpleGraph----------------------------------\")\n",
    "i = 0\n",
    "for k,v in sorted(x.items(), key=lambda p:p[1], reverse=True):\n",
    "    if(i < 20):\n",
    "        print(k,v)\n",
    "    i+=1\n",
    "\n",
    "print(\"--------------------------MultiGraph----------------------------------\")\n",
    "i = 0\n",
    "for k,v in sorted(xM.items(), key=lambda p:p[1], reverse=True):\n",
    "    if(i < 20):\n",
    "        print(k,v)\n",
    "    i+=1"
   ]
  },
  {
   "cell_type": "markdown",
   "metadata": {},
   "source": [
    "### Centralidad en diferentes tipos de grafo\n",
    "Podemos obersvar que en el multigrafo al tener conexiones duplicadas\n",
    "Sagas de peliculas famosas donde actuan la misma gente aumenta considerablemente su nivel de centralidad  \n",
    "\n",
    "---\n",
    ">  \n",
    "- Pulp Fiction -> **2ª** posicion en grafo simple  \n",
    "- Pulp Fiction -> **9ª** posicion en un multigrafo  \n",
    "\n",
    "Y antes de todas estas nos encontramos con la saga completa de **Harry Potter**\n",
    "\n"
   ]
  },
  {
   "cell_type": "code",
   "execution_count": 5,
   "metadata": {},
   "outputs": [
    {
     "name": "stdout",
     "output_type": "stream",
     "text": [
      "Hamlet total cast: 49\n",
      "Pulp Fiction total cast: 12\n",
      "['Frank Whaley', 'Uma Thurman', 'Christopher Walken', 'Steve Buscemi', 'Samuel L. Jackson', 'John Travolta', 'Eric Stoltz', 'Bruce Willis', 'Amanda Plummer', 'Harvey Keitel', 'Ving Rhames', 'Tim Roth']\n"
     ]
    }
   ],
   "source": [
    "\n",
    "def get_movie_list(actor_name):\n",
    "    return actorMovies.loc[actorMovies[\"Actor\"] == actor_name].iloc[0][1]\n",
    "    \n",
    "def get_movie_cast(movie_name):\n",
    "    cast = []\n",
    "    for i in range(actorMovies.count()[0]):\n",
    "        mov_list = actorMovies.loc[i]\n",
    "        if(movie_name in mov_list.iloc[1]):\n",
    "            cast.append(mov_list[0])\n",
    "    return cast\n",
    "\n",
    "print(\"Hamlet total cast:\",len(get_movie_cast(\"Hamlet\")))\n",
    "print(\"Pulp Fiction total cast:\", len(get_movie_cast(\"Pulp Fiction\")))\n",
    "print(get_movie_cast(\"Pulp Fiction\"))\n",
    "\n",
    "def count_total_movies(movie_name):\n",
    "    total = 0\n",
    "    for i in range(len(get_movie_cast(movie_name))):\n",
    "        total += len(get_movie_list(get_movie_cast(movie_name)[i]))\n",
    "    return total\n",
    "\n",
    "#Commented Out -> Ineficient function\n",
    "#print(count_total_movies(\"Hamlet\")) #304\n",
    "#print(count_total_movies(\"Pulp Fiction\")) #112\n"
   ]
  },
  {
   "cell_type": "markdown",
   "metadata": {},
   "source": [
    "### ¿Porque es mayor una que otra?\n",
    "\n",
    "Como podemos ver Hamlet **cuadruplica** numero de actores de Pulp Fiction, por lo que es mas facil que esta pelicula este conectado con otras en mayor medida, pues tiene mas puntos de conexion con otras.\n",
    "\n",
    "Sin embargo Pulp Fiction aun teniendo muy pocos actores(de los mas bajos entre los 10 primeros), tiene actores mas famosos que han participado en muchas peliculas"
   ]
  },
  {
   "cell_type": "code",
   "execution_count": 6,
   "metadata": {},
   "outputs": [],
   "source": [
    "#Print Graph & Save\n",
    "nx.write_gml(G, \"graph.gml\")\n",
    "nx.write_gml(GM, \"multi-graph.gml\")"
   ]
  }
 ],
 "metadata": {
  "kernelspec": {
   "display_name": "Python 3",
   "language": "python",
   "name": "python3"
  },
  "language_info": {
   "codemirror_mode": {
    "name": "ipython",
    "version": 3
   },
   "file_extension": ".py",
   "mimetype": "text/x-python",
   "name": "python",
   "nbconvert_exporter": "python",
   "pygments_lexer": "ipython3",
   "version": "3.7.3"
  }
 },
 "nbformat": 4,
 "nbformat_minor": 2
}
