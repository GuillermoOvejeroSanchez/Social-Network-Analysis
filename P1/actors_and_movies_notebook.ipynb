{
 "cells": [
  {
   "cell_type": "code",
   "execution_count": 1,
   "metadata": {},
   "outputs": [
    {
     "data": {
      "text/html": [
       "<div>\n",
       "<style scoped>\n",
       "    .dataframe tbody tr th:only-of-type {\n",
       "        vertical-align: middle;\n",
       "    }\n",
       "\n",
       "    .dataframe tbody tr th {\n",
       "        vertical-align: top;\n",
       "    }\n",
       "\n",
       "    .dataframe thead th {\n",
       "        text-align: right;\n",
       "    }\n",
       "</style>\n",
       "<table border=\"1\" class=\"dataframe\">\n",
       "  <thead>\n",
       "    <tr style=\"text-align: right;\">\n",
       "      <th></th>\n",
       "      <th>Actor</th>\n",
       "      <th>Movies</th>\n",
       "    </tr>\n",
       "  </thead>\n",
       "  <tbody>\n",
       "    <tr>\n",
       "      <th>0</th>\n",
       "      <td>Karen Allen</td>\n",
       "      <td>[Malcolm X, National Lampoon's Animal House, S...</td>\n",
       "    </tr>\n",
       "    <tr>\n",
       "      <th>1</th>\n",
       "      <td>Taye Diggs</td>\n",
       "      <td>[House on Haunted Hill, Go, Basic, Chicago, Eq...</td>\n",
       "    </tr>\n",
       "    <tr>\n",
       "      <th>2</th>\n",
       "      <td>Michael Murphy</td>\n",
       "      <td>[Salvador, Cloak &amp; Dagger, Nashville, Salvador...</td>\n",
       "    </tr>\n",
       "    <tr>\n",
       "      <th>3</th>\n",
       "      <td>Les Tremayne</td>\n",
       "      <td>[The War of the Worlds, The War of the Worlds]</td>\n",
       "    </tr>\n",
       "    <tr>\n",
       "      <th>4</th>\n",
       "      <td>Bridgette Wilson</td>\n",
       "      <td>[Mortal Kombat, Nixon, House on Haunted Hill]</td>\n",
       "    </tr>\n",
       "    <tr>\n",
       "      <th>5</th>\n",
       "      <td>Nicole Ari Parker</td>\n",
       "      <td>[Exiled: A Law &amp; Order Movie, Blue Streak]</td>\n",
       "    </tr>\n",
       "    <tr>\n",
       "      <th>6</th>\n",
       "      <td>Glenn Close</td>\n",
       "      <td>[The Big Chill, Air Force One, Hamlet, The Ste...</td>\n",
       "    </tr>\n",
       "    <tr>\n",
       "      <th>7</th>\n",
       "      <td>Clarence Nash</td>\n",
       "      <td>[Mickey's Christmas Carol, Der Fuehrer's Face,...</td>\n",
       "    </tr>\n",
       "    <tr>\n",
       "      <th>8</th>\n",
       "      <td>Julia Montgomery</td>\n",
       "      <td>[Revenge of the Nerds IV: Nerds in Love, Reven...</td>\n",
       "    </tr>\n",
       "    <tr>\n",
       "      <th>9</th>\n",
       "      <td>Art Malik</td>\n",
       "      <td>[Booty Call, A Kid in King Arthur's Court]</td>\n",
       "    </tr>\n",
       "    <tr>\n",
       "      <th>10</th>\n",
       "      <td>Juliette Greco</td>\n",
       "      <td>[Bonjour tristesse, Everyman's Feast]</td>\n",
       "    </tr>\n",
       "    <tr>\n",
       "      <th>11</th>\n",
       "      <td>Pruitt Taylor Vince</td>\n",
       "      <td>[JFK, Identity, Heavy, Nobody's Fool, Constant...</td>\n",
       "    </tr>\n",
       "    <tr>\n",
       "      <th>12</th>\n",
       "      <td>Annie Potts</td>\n",
       "      <td>[She's Having a Baby, Who's Harry Crumb?]</td>\n",
       "    </tr>\n",
       "    <tr>\n",
       "      <th>13</th>\n",
       "      <td>May McAvoy</td>\n",
       "      <td>[Ben-Hur, The Jazz Singer]</td>\n",
       "    </tr>\n",
       "    <tr>\n",
       "      <th>14</th>\n",
       "      <td>Tom Powers</td>\n",
       "      <td>[Destination Moon, Double Indemnity]</td>\n",
       "    </tr>\n",
       "    <tr>\n",
       "      <th>15</th>\n",
       "      <td>Tom Felton</td>\n",
       "      <td>[Harry Potter and the Order of the Phoenix, Ha...</td>\n",
       "    </tr>\n",
       "    <tr>\n",
       "      <th>16</th>\n",
       "      <td>Geraldine Somerville</td>\n",
       "      <td>[Harry Potter and the Philosopher's Stone, Har...</td>\n",
       "    </tr>\n",
       "    <tr>\n",
       "      <th>17</th>\n",
       "      <td>Frank Finlay</td>\n",
       "      <td>[Lifeforce, Othello]</td>\n",
       "    </tr>\n",
       "    <tr>\n",
       "      <th>18</th>\n",
       "      <td>Val Avery</td>\n",
       "      <td>[Faces, Faces]</td>\n",
       "    </tr>\n",
       "    <tr>\n",
       "      <th>19</th>\n",
       "      <td>Hugh Jackman</td>\n",
       "      <td>[Someone Like You, Swordfish, Kate &amp; Leopold, ...</td>\n",
       "    </tr>\n",
       "    <tr>\n",
       "      <th>20</th>\n",
       "      <td>Tobey Maguire</td>\n",
       "      <td>[Spider-Man, Seabiscuit, Don's Plum, The Wizard]</td>\n",
       "    </tr>\n",
       "    <tr>\n",
       "      <th>21</th>\n",
       "      <td>Robert Taylor</td>\n",
       "      <td>[Quo Vadis, Three Comrades]</td>\n",
       "    </tr>\n",
       "    <tr>\n",
       "      <th>22</th>\n",
       "      <td>Raghuvaran</td>\n",
       "      <td>[Run, Shiva, Anjali]</td>\n",
       "    </tr>\n",
       "    <tr>\n",
       "      <th>23</th>\n",
       "      <td>Gregory Smith</td>\n",
       "      <td>[The Patriot, Zenon: Girl of the 21st Century]</td>\n",
       "    </tr>\n",
       "    <tr>\n",
       "      <th>24</th>\n",
       "      <td>Dudley Moore</td>\n",
       "      <td>[Micki + Maude, Arthur, 10, Bedazzled]</td>\n",
       "    </tr>\n",
       "  </tbody>\n",
       "</table>\n",
       "</div>"
      ],
      "text/plain": [
       "                   Actor                                             Movies\n",
       "0            Karen Allen  [Malcolm X, National Lampoon's Animal House, S...\n",
       "1             Taye Diggs  [House on Haunted Hill, Go, Basic, Chicago, Eq...\n",
       "2         Michael Murphy  [Salvador, Cloak & Dagger, Nashville, Salvador...\n",
       "3           Les Tremayne     [The War of the Worlds, The War of the Worlds]\n",
       "4       Bridgette Wilson      [Mortal Kombat, Nixon, House on Haunted Hill]\n",
       "5      Nicole Ari Parker         [Exiled: A Law & Order Movie, Blue Streak]\n",
       "6            Glenn Close  [The Big Chill, Air Force One, Hamlet, The Ste...\n",
       "7          Clarence Nash  [Mickey's Christmas Carol, Der Fuehrer's Face,...\n",
       "8       Julia Montgomery  [Revenge of the Nerds IV: Nerds in Love, Reven...\n",
       "9              Art Malik         [Booty Call, A Kid in King Arthur's Court]\n",
       "10        Juliette Greco              [Bonjour tristesse, Everyman's Feast]\n",
       "11   Pruitt Taylor Vince  [JFK, Identity, Heavy, Nobody's Fool, Constant...\n",
       "12           Annie Potts          [She's Having a Baby, Who's Harry Crumb?]\n",
       "13            May McAvoy                         [Ben-Hur, The Jazz Singer]\n",
       "14            Tom Powers               [Destination Moon, Double Indemnity]\n",
       "15            Tom Felton  [Harry Potter and the Order of the Phoenix, Ha...\n",
       "16  Geraldine Somerville  [Harry Potter and the Philosopher's Stone, Har...\n",
       "17          Frank Finlay                               [Lifeforce, Othello]\n",
       "18             Val Avery                                     [Faces, Faces]\n",
       "19          Hugh Jackman  [Someone Like You, Swordfish, Kate & Leopold, ...\n",
       "20         Tobey Maguire   [Spider-Man, Seabiscuit, Don's Plum, The Wizard]\n",
       "21         Robert Taylor                        [Quo Vadis, Three Comrades]\n",
       "22            Raghuvaran                               [Run, Shiva, Anjali]\n",
       "23         Gregory Smith     [The Patriot, Zenon: Girl of the 21st Century]\n",
       "24          Dudley Moore             [Micki + Maude, Arthur, 10, Bedazzled]"
      ]
     },
     "execution_count": 1,
     "metadata": {},
     "output_type": "execute_result"
    }
   ],
   "source": [
    "import networkx as nx\n",
    "import numpy as np\n",
    "import matplotlib.pyplot as plt\n",
    "import pandas as pd\n",
    "import os\n",
    "import time\n",
    "\n",
    "start_time = time.time() #Compute time of execution\n",
    "\n",
    "SOC_URL = \"./actorMovies.csv\"\n",
    "df = pd.read_csv(SOC_URL, sep=\";\")\n",
    "\n",
    "\n",
    "for i in range(df[\"Movies\"].count()):\n",
    "    df[\"Movies\"][i] = df[\"Movies\"][i].split(\"|\")\n",
    "\n",
    "df.head(25)"
   ]
  },
  {
   "cell_type": "code",
   "execution_count": 2,
   "metadata": {},
   "outputs": [
    {
     "data": {
      "text/plain": [
       "['Faces', 'Faces']"
      ]
     },
     "execution_count": 2,
     "metadata": {},
     "output_type": "execute_result"
    }
   ],
   "source": [
    "df[\"Movies\"][18]"
   ]
  },
  {
   "cell_type": "markdown",
   "metadata": {},
   "source": [
    "We have duplicated movies in some actors"
   ]
  },
  {
   "cell_type": "code",
   "execution_count": 3,
   "metadata": {},
   "outputs": [
    {
     "data": {
      "text/plain": [
       "['Faces']"
      ]
     },
     "execution_count": 3,
     "metadata": {},
     "output_type": "execute_result"
    }
   ],
   "source": [
    "for i in range(df[\"Movies\"].count()):\n",
    "    df[\"Movies\"][i] = list(set(df[\"Movies\"][i])) #Can't use pandas.unique() cos type of [\"Movies\"][i] is -> list   \n",
    "df[\"Movies\"][18]"
   ]
  },
  {
   "cell_type": "code",
   "execution_count": 4,
   "metadata": {},
   "outputs": [
    {
     "name": "stdout",
     "output_type": "stream",
     "text": [
      "10071\n"
     ]
    }
   ],
   "source": [
    "movies = df.iloc[:,1].copy() #We copy the actors series\n",
    "#movies = movies.to_frame() #Convert it to a dataframe\n",
    "nodes = pd.DataFrame(columns=['Id','Movie'])\n",
    "id = 0\n",
    "for i in range(len(movies)):\n",
    "    for j in range(len(movies[i])):\n",
    "        nodes = nodes.append({\"Id\":id,\"Movie\":movies[i][j]}, ignore_index=True)\n",
    "        id+=1\n",
    "        \n",
    "print(len(nodes))"
   ]
  },
  {
   "cell_type": "code",
   "execution_count": 5,
   "metadata": {},
   "outputs": [
    {
     "name": "stdout",
     "output_type": "stream",
     "text": [
      "--- 39.315287590026855 seconds ---\n"
     ]
    },
    {
     "data": {
      "text/html": [
       "<div>\n",
       "<style scoped>\n",
       "    .dataframe tbody tr th:only-of-type {\n",
       "        vertical-align: middle;\n",
       "    }\n",
       "\n",
       "    .dataframe tbody tr th {\n",
       "        vertical-align: top;\n",
       "    }\n",
       "\n",
       "    .dataframe thead th {\n",
       "        text-align: right;\n",
       "    }\n",
       "</style>\n",
       "<table border=\"1\" class=\"dataframe\">\n",
       "  <thead>\n",
       "    <tr style=\"text-align: right;\">\n",
       "      <th></th>\n",
       "      <th>Movie</th>\n",
       "    </tr>\n",
       "    <tr>\n",
       "      <th>Id</th>\n",
       "      <th></th>\n",
       "    </tr>\n",
       "  </thead>\n",
       "  <tbody>\n",
       "    <tr>\n",
       "      <th>1891</th>\n",
       "      <td>Omagh</td>\n",
       "    </tr>\n",
       "    <tr>\n",
       "      <th>1892</th>\n",
       "      <td>The Great St Trinian's Train Robbery</td>\n",
       "    </tr>\n",
       "    <tr>\n",
       "      <th>1893</th>\n",
       "      <td>Hullabaloo</td>\n",
       "    </tr>\n",
       "    <tr>\n",
       "      <th>1894</th>\n",
       "      <td>Wasabi</td>\n",
       "    </tr>\n",
       "    <tr>\n",
       "      <th>1895</th>\n",
       "      <td>Hawks</td>\n",
       "    </tr>\n",
       "  </tbody>\n",
       "</table>\n",
       "</div>"
      ],
      "text/plain": [
       "                                     Movie\n",
       "Id                                        \n",
       "1891                                 Omagh\n",
       "1892  The Great St Trinian's Train Robbery\n",
       "1893                            Hullabaloo\n",
       "1894                                Wasabi\n",
       "1895                                 Hawks"
      ]
     },
     "execution_count": 5,
     "metadata": {},
     "output_type": "execute_result"
    }
   ],
   "source": [
    "#We eliminate the duplicate movies\n",
    "nodes_list = nodes\n",
    "nodes_list = nodes_list[\"Movie\"].unique()\n",
    "nodes_list = pd.DataFrame({'Movie': nodes_list[:]})\n",
    "nodes_list.rename(columns={0:\"Id\"})\n",
    "nodes_list.index.name = \"Id\"\n",
    "nodes_list.head()\n",
    "nodes_list.to_csv(\"nodes_list.csv\")\n",
    "print(\"--- %s seconds ---\" % (time.time() - start_time))\n",
    "nodes_list.tail()"
   ]
  },
  {
   "cell_type": "code",
   "execution_count": null,
   "metadata": {},
   "outputs": [],
   "source": [
    "edges = pd.DataFrame(columns=[\"Source\",\"Target\",\"Weight\",\"Type\"])\n",
    "\n",
    "#is_empty = lambda x,y: edges.loc[(edges[\"Source\"] == x) & (edges[\"Target\"] == y)].count().all() == 0\n",
    "is_empty = lambda x,y,edges: edges.loc[(edges[\"Source\"] == x) & (edges[\"Target\"] == y)].count()[0] == 0\n",
    "\n",
    "get_index = lambda movie_name : nodes_list.loc[nodes_list[\"Movie\"] == movie_name, \"Movie\"].index[0]\n",
    "\n",
    "def add_weight(x,y,edges):\n",
    "    edges.loc[(edges[\"Source\"] == x) & (edges[\"Target\"] == y),\"Weight\"] += 1\n",
    "    \n",
    "def get_edges(edges):\n",
    "    for i in range(df[\"Movies\"].count()):\n",
    "        for j in range(len(df[\"Movies\"][i])):\n",
    "        #Dont go over the full list -> quicker\n",
    "        #why? -> last element connected in previous iter\n",
    "            for k in range(j+1,len(df[\"Movies\"][i])): #Dont add equal edges or already added\n",
    "                source = get_index(df[\"Movies\"][i][j])\n",
    "                target = get_index(df[\"Movies\"][i][k])\n",
    "                if(source != target):\n",
    "                    if(not is_empty(source,target,edges)):\n",
    "                        add_weight(source,target,edges)\n",
    "                    elif(not is_empty(target,source,edges)): #Si ya hay uno en j->k, le sumamos uno\n",
    "                        add_weight(target,source, edges)\n",
    "                    else:\n",
    "                    #elif(is_empty(source,target) and is_empty(target,source)): #Si ambos son vacios, añadimos la arista\n",
    "                        edges = edges.append({\"Source\":source,\"Target\":target,\"Weight\":1,\"Type\":\"Undirected\"}, ignore_index=True)\n",
    "\n",
    "    return edges\n",
    "#15 0 & 16 0\n",
    "edges = get_edges(edges)\n",
    "print(\"--- %s seconds ---\" % (time.time() - start_time))\n",
    "len(edges)\n",
    "edges.tail()"
   ]
  },
  {
   "cell_type": "code",
   "execution_count": null,
   "metadata": {
    "scrolled": true
   },
   "outputs": [],
   "source": [
    "edges.rename(columns={0:\"Id\"})\n",
    "edges.index.name = \"Id\"\n",
    "edges_test = edges.copy()\n",
    "print(edges_test.tail())\n"
   ]
  },
  {
   "cell_type": "code",
   "execution_count": null,
   "metadata": {},
   "outputs": [],
   "source": [
    "edges_test.drop_duplicates(subset=[\"Source\",\"Target\"], inplace=True)\n",
    "print(len(edges))\n",
    "len(edges_test)"
   ]
  },
  {
   "cell_type": "code",
   "execution_count": null,
   "metadata": {},
   "outputs": [],
   "source": [
    "edges_test.to_csv(\"edges_list.csv\")\n",
    "print(\"--- %s seconds ---\" % (time.time() - start_time))"
   ]
  }
 ],
 "metadata": {
  "kernelspec": {
   "display_name": "Python 3",
   "language": "python",
   "name": "python3"
  },
  "language_info": {
   "codemirror_mode": {
    "name": "ipython",
    "version": 3
   },
   "file_extension": ".py",
   "mimetype": "text/x-python",
   "name": "python",
   "nbconvert_exporter": "python",
   "pygments_lexer": "ipython3",
   "version": "3.7.3"
  }
 },
 "nbformat": 4,
 "nbformat_minor": 2
}
