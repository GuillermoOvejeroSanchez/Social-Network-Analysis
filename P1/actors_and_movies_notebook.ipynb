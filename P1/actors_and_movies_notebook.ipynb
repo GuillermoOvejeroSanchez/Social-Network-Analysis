{
 "cells": [
  {
   "cell_type": "markdown",
   "metadata": {},
   "source": [
    "# Network Analysis"
   ]
  },
  {
   "cell_type": "code",
   "execution_count": 1,
   "metadata": {},
   "outputs": [
    {
     "name": "stdout",
     "output_type": "stream",
     "text": [
      "10247\n"
     ]
    },
    {
     "data": {
      "text/html": [
       "<div>\n",
       "<style scoped>\n",
       "    .dataframe tbody tr th:only-of-type {\n",
       "        vertical-align: middle;\n",
       "    }\n",
       "\n",
       "    .dataframe tbody tr th {\n",
       "        vertical-align: top;\n",
       "    }\n",
       "\n",
       "    .dataframe thead th {\n",
       "        text-align: right;\n",
       "    }\n",
       "</style>\n",
       "<table border=\"1\" class=\"dataframe\">\n",
       "  <thead>\n",
       "    <tr style=\"text-align: right;\">\n",
       "      <th></th>\n",
       "      <th>Actor</th>\n",
       "      <th>Movies</th>\n",
       "    </tr>\n",
       "  </thead>\n",
       "  <tbody>\n",
       "    <tr>\n",
       "      <td>0</td>\n",
       "      <td>Karen Allen</td>\n",
       "      <td>[Malcolm X, National Lampoon's Animal House, S...</td>\n",
       "    </tr>\n",
       "    <tr>\n",
       "      <td>1</td>\n",
       "      <td>Taye Diggs</td>\n",
       "      <td>[House on Haunted Hill, Go, Basic, Chicago, Eq...</td>\n",
       "    </tr>\n",
       "    <tr>\n",
       "      <td>2</td>\n",
       "      <td>Michael Murphy</td>\n",
       "      <td>[Salvador, Cloak &amp; Dagger, Nashville, Salvador...</td>\n",
       "    </tr>\n",
       "    <tr>\n",
       "      <td>3</td>\n",
       "      <td>Les Tremayne</td>\n",
       "      <td>[The War of the Worlds, The War of the Worlds]</td>\n",
       "    </tr>\n",
       "    <tr>\n",
       "      <td>4</td>\n",
       "      <td>Bridgette Wilson</td>\n",
       "      <td>[Mortal Kombat, Nixon, House on Haunted Hill]</td>\n",
       "    </tr>\n",
       "  </tbody>\n",
       "</table>\n",
       "</div>"
      ],
      "text/plain": [
       "              Actor                                             Movies\n",
       "0       Karen Allen  [Malcolm X, National Lampoon's Animal House, S...\n",
       "1        Taye Diggs  [House on Haunted Hill, Go, Basic, Chicago, Eq...\n",
       "2    Michael Murphy  [Salvador, Cloak & Dagger, Nashville, Salvador...\n",
       "3      Les Tremayne     [The War of the Worlds, The War of the Worlds]\n",
       "4  Bridgette Wilson      [Mortal Kombat, Nixon, House on Haunted Hill]"
      ]
     },
     "execution_count": 1,
     "metadata": {},
     "output_type": "execute_result"
    }
   ],
   "source": [
    "import networkx as nx\n",
    "import numpy as np\n",
    "import matplotlib.pyplot as plt\n",
    "import pandas as pd\n",
    "import os\n",
    "\n",
    "SOC_URL = \"./actorMovies.csv\"\n",
    "df = pd.read_csv(SOC_URL, sep=\";\")\n",
    "\n",
    "\n",
    "for i in range(df[\"Movies\"].count()):\n",
    "    df[\"Movies\"][i] = df[\"Movies\"][i].split(\"|\")\n",
    "\n",
    "df.head(25)\n",
    "\n",
    "total = 0\n",
    "for i in range(df[\"Movies\"].count()):\n",
    "    total += len(df[\"Movies\"][i])\n",
    "print(total)\n",
    "df.head()"
   ]
  },
  {
   "cell_type": "markdown",
   "metadata": {},
   "source": [
    "First we need to convert the .csv that we are given to the format that we want"
   ]
  },
  {
   "cell_type": "markdown",
   "metadata": {},
   "source": [
    "##### Nodes -> Films Edges -> Films with same actor"
   ]
  },
  {
   "cell_type": "code",
   "execution_count": 2,
   "metadata": {},
   "outputs": [
    {
     "data": {
      "text/plain": [
       "['Faces', 'Faces']"
      ]
     },
     "execution_count": 2,
     "metadata": {},
     "output_type": "execute_result"
    }
   ],
   "source": [
    "df[\"Movies\"][18]"
   ]
  },
  {
   "cell_type": "markdown",
   "metadata": {},
   "source": [
    "We have duplicated movies in some actors"
   ]
  },
  {
   "cell_type": "code",
   "execution_count": 3,
   "metadata": {},
   "outputs": [
    {
     "data": {
      "text/plain": [
       "['Faces']"
      ]
     },
     "execution_count": 3,
     "metadata": {},
     "output_type": "execute_result"
    }
   ],
   "source": [
    "for i in range(df[\"Movies\"].count()):\n",
    "    df[\"Movies\"][i] = list(set(df[\"Movies\"][i])) #Can't use pandas.unique() cos type of [\"Movies\"][i] is -> list   \n",
    "df[\"Movies\"][18]"
   ]
  },
  {
   "cell_type": "markdown",
   "metadata": {},
   "source": [
    "Now we make the nodes list just by appending all the films"
   ]
  },
  {
   "cell_type": "code",
   "execution_count": 4,
   "metadata": {},
   "outputs": [
    {
     "name": "stdout",
     "output_type": "stream",
     "text": [
      "10071\n"
     ]
    },
    {
     "data": {
      "text/html": [
       "<div>\n",
       "<style scoped>\n",
       "    .dataframe tbody tr th:only-of-type {\n",
       "        vertical-align: middle;\n",
       "    }\n",
       "\n",
       "    .dataframe tbody tr th {\n",
       "        vertical-align: top;\n",
       "    }\n",
       "\n",
       "    .dataframe thead th {\n",
       "        text-align: right;\n",
       "    }\n",
       "</style>\n",
       "<table border=\"1\" class=\"dataframe\">\n",
       "  <thead>\n",
       "    <tr style=\"text-align: right;\">\n",
       "      <th></th>\n",
       "      <th>Id</th>\n",
       "      <th>Movie</th>\n",
       "    </tr>\n",
       "  </thead>\n",
       "  <tbody>\n",
       "    <tr>\n",
       "      <td>0</td>\n",
       "      <td>0</td>\n",
       "      <td>National Lampoon's Animal House</td>\n",
       "    </tr>\n",
       "    <tr>\n",
       "      <td>1</td>\n",
       "      <td>1</td>\n",
       "      <td>Malcolm X</td>\n",
       "    </tr>\n",
       "    <tr>\n",
       "      <td>2</td>\n",
       "      <td>2</td>\n",
       "      <td>Starman</td>\n",
       "    </tr>\n",
       "    <tr>\n",
       "      <td>3</td>\n",
       "      <td>3</td>\n",
       "      <td>Go</td>\n",
       "    </tr>\n",
       "    <tr>\n",
       "      <td>4</td>\n",
       "      <td>4</td>\n",
       "      <td>Chicago</td>\n",
       "    </tr>\n",
       "  </tbody>\n",
       "</table>\n",
       "</div>"
      ],
      "text/plain": [
       "  Id                            Movie\n",
       "0  0  National Lampoon's Animal House\n",
       "1  1                        Malcolm X\n",
       "2  2                          Starman\n",
       "3  3                               Go\n",
       "4  4                          Chicago"
      ]
     },
     "execution_count": 4,
     "metadata": {},
     "output_type": "execute_result"
    }
   ],
   "source": [
    "movies = df.iloc[:,1].copy() #We copy the actors series\n",
    "#movies = movies.to_frame() #Convert it to a dataframe\n",
    "nodes = pd.DataFrame(columns=['Id','Movie'])\n",
    "id = 0\n",
    "for i in range(len(movies)):\n",
    "    for j in range(len(movies[i])):\n",
    "        nodes = nodes.append({\"Id\":id,\"Movie\":movies[i][j]}, ignore_index=True)\n",
    "        id+=1\n",
    "        \n",
    "print(len(nodes))\n",
    "nodes.head()"
   ]
  },
  {
   "cell_type": "code",
   "execution_count": 5,
   "metadata": {},
   "outputs": [
    {
     "data": {
      "text/html": [
       "<div>\n",
       "<style scoped>\n",
       "    .dataframe tbody tr th:only-of-type {\n",
       "        vertical-align: middle;\n",
       "    }\n",
       "\n",
       "    .dataframe tbody tr th {\n",
       "        vertical-align: top;\n",
       "    }\n",
       "\n",
       "    .dataframe thead th {\n",
       "        text-align: right;\n",
       "    }\n",
       "</style>\n",
       "<table border=\"1\" class=\"dataframe\">\n",
       "  <thead>\n",
       "    <tr style=\"text-align: right;\">\n",
       "      <th></th>\n",
       "      <th>Movie</th>\n",
       "    </tr>\n",
       "    <tr>\n",
       "      <th>Id</th>\n",
       "      <th></th>\n",
       "    </tr>\n",
       "  </thead>\n",
       "  <tbody>\n",
       "    <tr>\n",
       "      <td>1891</td>\n",
       "      <td>Omagh</td>\n",
       "    </tr>\n",
       "    <tr>\n",
       "      <td>1892</td>\n",
       "      <td>The Great St Trinian's Train Robbery</td>\n",
       "    </tr>\n",
       "    <tr>\n",
       "      <td>1893</td>\n",
       "      <td>Hullabaloo</td>\n",
       "    </tr>\n",
       "    <tr>\n",
       "      <td>1894</td>\n",
       "      <td>Wasabi</td>\n",
       "    </tr>\n",
       "    <tr>\n",
       "      <td>1895</td>\n",
       "      <td>Hawks</td>\n",
       "    </tr>\n",
       "  </tbody>\n",
       "</table>\n",
       "</div>"
      ],
      "text/plain": [
       "                                     Movie\n",
       "Id                                        \n",
       "1891                                 Omagh\n",
       "1892  The Great St Trinian's Train Robbery\n",
       "1893                            Hullabaloo\n",
       "1894                                Wasabi\n",
       "1895                                 Hawks"
      ]
     },
     "execution_count": 5,
     "metadata": {},
     "output_type": "execute_result"
    }
   ],
   "source": [
    "#We eliminate the duplicate movies\n",
    "nodes_list = nodes\n",
    "nodes_list = nodes_list[\"Movie\"].unique()\n",
    "nodes_list = pd.DataFrame({'Movie': nodes_list[:]})\n",
    "nodes_list.rename(columns={0:\"Id\"})\n",
    "nodes_list.index.name = \"Id\"\n",
    "nodes_list.head()\n",
    "nodes_list.to_csv(\"nodes_list.csv\")\n",
    "nodes_list.tail()"
   ]
  },
  {
   "cell_type": "code",
   "execution_count": 6,
   "metadata": {},
   "outputs": [
    {
     "data": {
      "text/html": [
       "<div>\n",
       "<style scoped>\n",
       "    .dataframe tbody tr th:only-of-type {\n",
       "        vertical-align: middle;\n",
       "    }\n",
       "\n",
       "    .dataframe tbody tr th {\n",
       "        vertical-align: top;\n",
       "    }\n",
       "\n",
       "    .dataframe thead th {\n",
       "        text-align: right;\n",
       "    }\n",
       "</style>\n",
       "<table border=\"1\" class=\"dataframe\">\n",
       "  <thead>\n",
       "    <tr style=\"text-align: right;\">\n",
       "      <th></th>\n",
       "      <th>Source</th>\n",
       "      <th>Target</th>\n",
       "      <th>Weight</th>\n",
       "      <th>Type</th>\n",
       "    </tr>\n",
       "  </thead>\n",
       "  <tbody>\n",
       "    <tr>\n",
       "      <td>18792</td>\n",
       "      <td>1272</td>\n",
       "      <td>1265</td>\n",
       "      <td>1</td>\n",
       "      <td>Undirected</td>\n",
       "    </tr>\n",
       "    <tr>\n",
       "      <td>18793</td>\n",
       "      <td>1272</td>\n",
       "      <td>83</td>\n",
       "      <td>1</td>\n",
       "      <td>Undirected</td>\n",
       "    </tr>\n",
       "    <tr>\n",
       "      <td>18794</td>\n",
       "      <td>906</td>\n",
       "      <td>83</td>\n",
       "      <td>1</td>\n",
       "      <td>Undirected</td>\n",
       "    </tr>\n",
       "    <tr>\n",
       "      <td>18795</td>\n",
       "      <td>1265</td>\n",
       "      <td>83</td>\n",
       "      <td>1</td>\n",
       "      <td>Undirected</td>\n",
       "    </tr>\n",
       "    <tr>\n",
       "      <td>18796</td>\n",
       "      <td>80</td>\n",
       "      <td>643</td>\n",
       "      <td>1</td>\n",
       "      <td>Undirected</td>\n",
       "    </tr>\n",
       "  </tbody>\n",
       "</table>\n",
       "</div>"
      ],
      "text/plain": [
       "      Source Target Weight        Type\n",
       "18792   1272   1265      1  Undirected\n",
       "18793   1272     83      1  Undirected\n",
       "18794    906     83      1  Undirected\n",
       "18795   1265     83      1  Undirected\n",
       "18796     80    643      1  Undirected"
      ]
     },
     "execution_count": 6,
     "metadata": {},
     "output_type": "execute_result"
    }
   ],
   "source": [
    "edges = pd.DataFrame(columns=[\"Source\",\"Target\",\"Weight\",\"Type\"])\n",
    "\n",
    "#is_empty = lambda x,y: edges.loc[(edges[\"Source\"] == x) & (edges[\"Target\"] == y)].count().all() == 0\n",
    "is_empty = lambda x,y,edges: edges.loc[(edges[\"Source\"] == x) & (edges[\"Target\"] == y)].count()[0] == 0\n",
    "\n",
    "get_index = lambda movie_name : nodes_list.loc[nodes_list[\"Movie\"] == movie_name, \"Movie\"].index[0]\n",
    "\n",
    "def add_weight(x,y,edges):\n",
    "    edges.loc[(edges[\"Source\"] == x) & (edges[\"Target\"] == y),\"Weight\"] += 1\n",
    "    \n",
    "def get_edges(edges):\n",
    "    for i in range(df[\"Movies\"].count()):\n",
    "        for j in range(len(df[\"Movies\"][i])):\n",
    "        #Dont go over the full list -> quicker\n",
    "        #why? -> last element connected in previous iter\n",
    "            for k in range(j+1,len(df[\"Movies\"][i])): #Dont add equal edges or already added\n",
    "                source = get_index(df[\"Movies\"][i][j])\n",
    "                target = get_index(df[\"Movies\"][i][k])\n",
    "                if(source != target):\n",
    "                    if(not is_empty(source,target,edges)):    #if there is one in k->j, we increase weight\n",
    "                        add_weight(source,target,edges)\n",
    "                    elif(not is_empty(target,source,edges)):  #if there is one in j->k, we increase weight\n",
    "                        add_weight(target,source, edges)\n",
    "                    else:\n",
    "                        #both are empty -> add another edge\n",
    "                        edges = edges.append({\"Source\":source,\"Target\":target,\"Weight\":1,\"Type\":\"Undirected\"}, ignore_index=True)\n",
    "\n",
    "    return edges\n",
    "edges = get_edges(edges)\n",
    "len(edges)\n",
    "edges.tail()"
   ]
  },
  {
   "cell_type": "code",
   "execution_count": 7,
   "metadata": {
    "scrolled": true
   },
   "outputs": [],
   "source": [
    "edges.rename(columns={0:\"Id\"}) #Adding an index column\n",
    "edges.index.name = \"Id\"\n",
    "edges_test = edges.copy()"
   ]
  },
  {
   "cell_type": "code",
   "execution_count": 8,
   "metadata": {},
   "outputs": [
    {
     "name": "stdout",
     "output_type": "stream",
     "text": [
      "18797\n"
     ]
    },
    {
     "data": {
      "text/plain": [
       "18797"
      ]
     },
     "execution_count": 8,
     "metadata": {},
     "output_type": "execute_result"
    }
   ],
   "source": [
    "edges_test.drop_duplicates(subset=[\"Source\",\"Target\"], inplace=True)\n",
    "print(len(edges))\n",
    "len(edges_test)"
   ]
  },
  {
   "cell_type": "code",
   "execution_count": 9,
   "metadata": {},
   "outputs": [],
   "source": [
    "edges_test.to_csv(\"edges_list.csv\")\n"
   ]
  },
  {
   "cell_type": "code",
   "execution_count": 10,
   "metadata": {},
   "outputs": [
    {
     "ename": "TypeError",
     "evalue": "write_gml() missing 1 required positional argument: 'path'",
     "output_type": "error",
     "traceback": [
      "\u001b[1;31m---------------------------------------------------------------------------\u001b[0m",
      "\u001b[1;31mTypeError\u001b[0m                                 Traceback (most recent call last)",
      "\u001b[1;32m<ipython-input-10-fe37daa51a56>\u001b[0m in \u001b[0;36m<module>\u001b[1;34m\u001b[0m\n\u001b[0;32m      1\u001b[0m \u001b[1;32mimport\u001b[0m \u001b[0mnetworkx\u001b[0m \u001b[1;32mas\u001b[0m \u001b[0mnx\u001b[0m\u001b[1;33m\u001b[0m\u001b[1;33m\u001b[0m\u001b[0m\n\u001b[0;32m      2\u001b[0m \u001b[1;33m\u001b[0m\u001b[0m\n\u001b[1;32m----> 3\u001b[1;33m \u001b[0mnx\u001b[0m\u001b[1;33m.\u001b[0m\u001b[0mwrite_gml\u001b[0m\u001b[1;33m(\u001b[0m\u001b[0medges_test\u001b[0m\u001b[1;33m)\u001b[0m\u001b[1;33m\u001b[0m\u001b[1;33m\u001b[0m\u001b[0m\n\u001b[0m\u001b[0;32m      4\u001b[0m \u001b[1;33m\u001b[0m\u001b[0m\n",
      "\u001b[1;31mTypeError\u001b[0m: write_gml() missing 1 required positional argument: 'path'"
     ]
    }
   ],
   "source": [
    "\n",
    "\n"
   ]
  }
 ],
 "metadata": {
  "kernelspec": {
   "display_name": "Python 3",
   "language": "python",
   "name": "python3"
  },
  "language_info": {
   "codemirror_mode": {
    "name": "ipython",
    "version": 3
   },
   "file_extension": ".py",
   "mimetype": "text/x-python",
   "name": "python",
   "nbconvert_exporter": "python",
   "pygments_lexer": "ipython3",
   "version": "3.7.4"
  }
 },
 "nbformat": 4,
 "nbformat_minor": 4
}
