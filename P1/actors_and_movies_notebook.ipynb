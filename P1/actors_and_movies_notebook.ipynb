{
 "cells": [
  {
   "cell_type": "code",
   "execution_count": 1,
   "metadata": {},
   "outputs": [
    {
     "name": "stdout",
     "output_type": "stream",
     "text": [
      "10247\n"
     ]
    }
   ],
   "source": [
    "import networkx as nx\n",
    "import numpy as np\n",
    "import matplotlib.pyplot as plt\n",
    "import pandas as pd\n",
    "import os\n",
    "import time\n",
    "\n",
    "start_time = time.time() #Compute time of execution\n",
    "\n",
    "SOC_URL = \"./actorMovies.csv\"\n",
    "df = pd.read_csv(SOC_URL, sep=\";\")\n",
    "\n",
    "\n",
    "for i in range(df[\"Movies\"].count()):\n",
    "    df[\"Movies\"][i] = df[\"Movies\"][i].split(\"|\")\n",
    "\n",
    "df.head(25)\n",
    "\n",
    "total = 0\n",
    "for i in range(df[\"Movies\"].count()):\n",
    "    total += len(df[\"Movies\"][i])\n",
    "print(total)"
   ]
  },
  {
   "cell_type": "code",
   "execution_count": 2,
   "metadata": {},
   "outputs": [
    {
     "data": {
      "text/plain": [
       "['Faces', 'Faces']"
      ]
     },
     "execution_count": 2,
     "metadata": {},
     "output_type": "execute_result"
    }
   ],
   "source": [
    "df[\"Movies\"][18]"
   ]
  },
  {
   "cell_type": "markdown",
   "metadata": {},
   "source": [
    "We have duplicated movies in some actors"
   ]
  },
  {
   "cell_type": "code",
   "execution_count": 3,
   "metadata": {},
   "outputs": [
    {
     "data": {
      "text/plain": [
       "['Faces']"
      ]
     },
     "execution_count": 3,
     "metadata": {},
     "output_type": "execute_result"
    }
   ],
   "source": [
    "for i in range(df[\"Movies\"].count()):\n",
    "    df[\"Movies\"][i] = list(set(df[\"Movies\"][i])) #Can't use pandas.unique() cos type of [\"Movies\"][i] is -> list   \n",
    "df[\"Movies\"][18]"
   ]
  },
  {
   "cell_type": "code",
   "execution_count": 4,
   "metadata": {},
   "outputs": [
    {
     "name": "stdout",
     "output_type": "stream",
     "text": [
      "10071\n"
     ]
    }
   ],
   "source": [
    "movies = df.iloc[:,1].copy() #We copy the actors series\n",
    "#movies = movies.to_frame() #Convert it to a dataframe\n",
    "nodes = pd.DataFrame(columns=['Id','Movie'])\n",
    "id = 0\n",
    "for i in range(len(movies)):\n",
    "    for j in range(len(movies[i])):\n",
    "        nodes = nodes.append({\"Id\":id,\"Movie\":movies[i][j]}, ignore_index=True)\n",
    "        id+=1\n",
    "        \n",
    "print(len(nodes))"
   ]
  },
  {
   "cell_type": "code",
   "execution_count": 5,
   "metadata": {},
   "outputs": [
    {
     "name": "stdout",
     "output_type": "stream",
     "text": [
      "--- 32.0767548084259 seconds ---\n"
     ]
    },
    {
     "data": {
      "text/html": [
       "<div>\n",
       "<style scoped>\n",
       "    .dataframe tbody tr th:only-of-type {\n",
       "        vertical-align: middle;\n",
       "    }\n",
       "\n",
       "    .dataframe tbody tr th {\n",
       "        vertical-align: top;\n",
       "    }\n",
       "\n",
       "    .dataframe thead th {\n",
       "        text-align: right;\n",
       "    }\n",
       "</style>\n",
       "<table border=\"1\" class=\"dataframe\">\n",
       "  <thead>\n",
       "    <tr style=\"text-align: right;\">\n",
       "      <th></th>\n",
       "      <th>Movie</th>\n",
       "    </tr>\n",
       "    <tr>\n",
       "      <th>Id</th>\n",
       "      <th></th>\n",
       "    </tr>\n",
       "  </thead>\n",
       "  <tbody>\n",
       "    <tr>\n",
       "      <th>1891</th>\n",
       "      <td>Omagh</td>\n",
       "    </tr>\n",
       "    <tr>\n",
       "      <th>1892</th>\n",
       "      <td>The Great St Trinian's Train Robbery</td>\n",
       "    </tr>\n",
       "    <tr>\n",
       "      <th>1893</th>\n",
       "      <td>Hullabaloo</td>\n",
       "    </tr>\n",
       "    <tr>\n",
       "      <th>1894</th>\n",
       "      <td>Wasabi</td>\n",
       "    </tr>\n",
       "    <tr>\n",
       "      <th>1895</th>\n",
       "      <td>Hawks</td>\n",
       "    </tr>\n",
       "  </tbody>\n",
       "</table>\n",
       "</div>"
      ],
      "text/plain": [
       "                                     Movie\n",
       "Id                                        \n",
       "1891                                 Omagh\n",
       "1892  The Great St Trinian's Train Robbery\n",
       "1893                            Hullabaloo\n",
       "1894                                Wasabi\n",
       "1895                                 Hawks"
      ]
     },
     "execution_count": 5,
     "metadata": {},
     "output_type": "execute_result"
    }
   ],
   "source": [
    "#We eliminate the duplicate movies\n",
    "nodes_list = nodes\n",
    "nodes_list = nodes_list[\"Movie\"].unique()\n",
    "nodes_list = pd.DataFrame({'Movie': nodes_list[:]})\n",
    "nodes_list.rename(columns={0:\"Id\"})\n",
    "nodes_list.index.name = \"Id\"\n",
    "nodes_list.head()\n",
    "nodes_list.to_csv(\"nodes_list.csv\")\n",
    "print(\"--- %s seconds ---\" % (time.time() - start_time))\n",
    "nodes_list.tail()"
   ]
  },
  {
   "cell_type": "code",
   "execution_count": null,
   "metadata": {},
   "outputs": [],
   "source": [
    "edges = pd.DataFrame(columns=[\"Source\",\"Target\",\"Weight\",\"Type\"])\n",
    "\n",
    "#is_empty = lambda x,y: edges.loc[(edges[\"Source\"] == x) & (edges[\"Target\"] == y)].count().all() == 0\n",
    "is_empty = lambda x,y,edges: edges.loc[(edges[\"Source\"] == x) & (edges[\"Target\"] == y)].count()[0] == 0\n",
    "\n",
    "get_index = lambda movie_name : nodes_list.loc[nodes_list[\"Movie\"] == movie_name, \"Movie\"].index[0]\n",
    "\n",
    "def add_weight(x,y,edges):\n",
    "    edges.loc[(edges[\"Source\"] == x) & (edges[\"Target\"] == y),\"Weight\"] += 1\n",
    "    \n",
    "def get_edges(edges):\n",
    "    for i in range(df[\"Movies\"].count()):\n",
    "        for j in range(len(df[\"Movies\"][i])):\n",
    "        #Dont go over the full list -> quicker\n",
    "        #why? -> last element connected in previous iter\n",
    "            for k in range(j+1,len(df[\"Movies\"][i])): #Dont add equal edges or already added\n",
    "                source = get_index(df[\"Movies\"][i][j])\n",
    "                target = get_index(df[\"Movies\"][i][k])\n",
    "                if(source != target):\n",
    "                    if(not is_empty(source,target,edges)):\n",
    "                        add_weight(source,target,edges)\n",
    "                    elif(not is_empty(target,source,edges)): #Si ya hay uno en j->k, le sumamos uno\n",
    "                        add_weight(target,source, edges)\n",
    "                    else:\n",
    "                    #elif(is_empty(source,target) and is_empty(target,source)): #Si ambos son vacios, añadimos la arista\n",
    "                        edges = edges.append({\"Source\":source,\"Target\":target,\"Weight\":1,\"Type\":\"Undirected\"}, ignore_index=True)\n",
    "\n",
    "    return edges\n",
    "edges = get_edges(edges)\n",
    "print(\"--- %s seconds ---\" % (time.time() - start_time))\n",
    "len(edges)\n",
    "edges.tail()"
   ]
  },
  {
   "cell_type": "code",
   "execution_count": null,
   "metadata": {
    "scrolled": true
   },
   "outputs": [],
   "source": [
    "edges.rename(columns={0:\"Id\"})\n",
    "edges.index.name = \"Id\"\n",
    "edges_test = edges.copy()"
   ]
  },
  {
   "cell_type": "code",
   "execution_count": null,
   "metadata": {},
   "outputs": [],
   "source": [
    "edges_test.drop_duplicates(subset=[\"Source\",\"Target\"], inplace=True)\n",
    "print(len(edges))\n",
    "len(edges_test)"
   ]
  },
  {
   "cell_type": "code",
   "execution_count": null,
   "metadata": {},
   "outputs": [],
   "source": [
    "edges_test.to_csv(\"edges_list.csv\")\n",
    "print(\"--- %s seconds ---\" % (time.time() - start_time))"
   ]
  },
  {
   "cell_type": "code",
   "execution_count": null,
   "metadata": {},
   "outputs": [],
   "source": []
  }
 ],
 "metadata": {
  "kernelspec": {
   "display_name": "Python 3",
   "language": "python",
   "name": "python3"
  },
  "language_info": {
   "codemirror_mode": {
    "name": "ipython",
    "version": 3
   },
   "file_extension": ".py",
   "mimetype": "text/x-python",
   "name": "python",
   "nbconvert_exporter": "python",
   "pygments_lexer": "ipython3",
   "version": "3.7.3"
  }
 },
 "nbformat": 4,
 "nbformat_minor": 4
}
